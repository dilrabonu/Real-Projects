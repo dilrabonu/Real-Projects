{
 "cells": [
  {
   "cell_type": "code",
   "execution_count": 1,
   "id": "3bf1f912",
   "metadata": {
    "_cell_guid": "b1076dfc-b9ad-4769-8c92-a6c4dae69d19",
    "_uuid": "8f2839f25d086af736a60e9eeb907d3b93b6e0e5",
    "execution": {
     "iopub.execute_input": "2025-04-10T13:14:35.564712Z",
     "iopub.status.busy": "2025-04-10T13:14:35.564405Z",
     "iopub.status.idle": "2025-04-10T13:14:37.709870Z",
     "shell.execute_reply": "2025-04-10T13:14:37.708739Z"
    },
    "papermill": {
     "duration": 2.154246,
     "end_time": "2025-04-10T13:14:37.712766",
     "exception": false,
     "start_time": "2025-04-10T13:14:35.558520",
     "status": "completed"
    },
    "tags": []
   },
   "outputs": [
    {
     "name": "stdout",
     "output_type": "stream",
     "text": [
      "/kaggle/input/iris-dataset/iris.csv\n"
     ]
    }
   ],
   "source": [
    "# This Python 3 environment comes with many helpful analytics libraries installed\n",
    "# It is defined by the kaggle/python Docker image: https://github.com/kaggle/docker-python\n",
    "# For example, here's several helpful packages to load\n",
    "\n",
    "import numpy as np # linear algebra\n",
    "import pandas as pd # data processing, CSV file I/O (e.g. pd.read_csv)\n",
    "\n",
    "# Input data files are available in the read-only \"../input/\" directory\n",
    "# For example, running this (by clicking run or pressing Shift+Enter) will list all files under the input directory\n",
    "\n",
    "import os\n",
    "for dirname, _, filenames in os.walk('/kaggle/input'):\n",
    "    for filename in filenames:\n",
    "        print(os.path.join(dirname, filename))\n",
    "\n",
    "# You can write up to 20GB to the current directory (/kaggle/working/) that gets preserved as output when you create a version using \"Save & Run All\" \n",
    "# You can also write temporary files to /kaggle/temp/, but they won't be saved outside of the current session"
   ]
  },
  {
   "cell_type": "code",
   "execution_count": 2,
   "id": "a8e7258f",
   "metadata": {
    "execution": {
     "iopub.execute_input": "2025-04-10T13:14:37.729581Z",
     "iopub.status.busy": "2025-04-10T13:14:37.729003Z",
     "iopub.status.idle": "2025-04-10T13:14:37.742489Z",
     "shell.execute_reply": "2025-04-10T13:14:37.741598Z"
    },
    "papermill": {
     "duration": 0.024655,
     "end_time": "2025-04-10T13:14:37.744565",
     "exception": false,
     "start_time": "2025-04-10T13:14:37.719910",
     "status": "completed"
    },
    "tags": []
   },
   "outputs": [
    {
     "name": "stdout",
     "output_type": "stream",
     "text": [
      "Headers: ['sepal_length', 'sepal_width', 'petal_length', 'petal_width', 'species']\n",
      "First 5 rows:\n",
      "['5.1', '3.5', '1.4', '0.2', 'setosa']\n",
      "['4.9', '3.0', '1.4', '0.2', 'setosa']\n",
      "['4.7', '3.2', '1.3', '0.2', 'setosa']\n",
      "['4.6', '3.1', '1.5', '0.2', 'setosa']\n",
      "['5.0', '3.6', '1.4', '0.2', 'setosa']\n"
     ]
    }
   ],
   "source": [
    "import csv\n",
    "\n",
    "filename = '/kaggle/input/iris-dataset/iris.csv'\n",
    "\n",
    "with open(filename, \"r\") as file:\n",
    "    reader = csv.reader(file)\n",
    "    header = next(reader)\n",
    "    data = [row for row in reader]\n",
    "\n",
    "print(\"Headers:\", header)\n",
    "print(\"First 5 rows:\")\n",
    "for row in data[:5]:\n",
    "    print(row)\n"
   ]
  },
  {
   "cell_type": "code",
   "execution_count": 3,
   "id": "6dcc656b",
   "metadata": {
    "execution": {
     "iopub.execute_input": "2025-04-10T13:14:37.759409Z",
     "iopub.status.busy": "2025-04-10T13:14:37.757879Z",
     "iopub.status.idle": "2025-04-10T13:14:37.768015Z",
     "shell.execute_reply": "2025-04-10T13:14:37.767039Z"
    },
    "papermill": {
     "duration": 0.018898,
     "end_time": "2025-04-10T13:14:37.770087",
     "exception": false,
     "start_time": "2025-04-10T13:14:37.751189",
     "status": "completed"
    },
    "tags": []
   },
   "outputs": [
    {
     "name": "stdout",
     "output_type": "stream",
     "text": [
      "sepal_length: min=4.30, max=7.90, mean=5.84\n",
      "sepal_width: min=2.00, max=4.40, mean=3.05\n",
      "petal_length: min=1.00, max=6.90, mean=3.76\n",
      "petal_width: min=0.10, max=2.50, mean=1.20\n"
     ]
    }
   ],
   "source": [
    "numeric_data = []\n",
    "for row in data:\n",
    "    numeric_row = list(map(float, row[:4]))\n",
    "    numeric_data.append(numeric_row)\n",
    "\n",
    "columns = list(zip(*numeric_data))\n",
    "\n",
    "for i, col in enumerate(columns):\n",
    "    print(f\"{header[i]}: min={min(col):.2f}, max={max(col):.2f}, mean={sum(col)/len(col):.2f}\")"
   ]
  },
  {
   "cell_type": "code",
   "execution_count": 4,
   "id": "091dc435",
   "metadata": {
    "execution": {
     "iopub.execute_input": "2025-04-10T13:14:37.784219Z",
     "iopub.status.busy": "2025-04-10T13:14:37.783827Z",
     "iopub.status.idle": "2025-04-10T13:14:37.792018Z",
     "shell.execute_reply": "2025-04-10T13:14:37.790735Z"
    },
    "papermill": {
     "duration": 0.017444,
     "end_time": "2025-04-10T13:14:37.795038",
     "exception": false,
     "start_time": "2025-04-10T13:14:37.777594",
     "status": "completed"
    },
    "tags": []
   },
   "outputs": [
    {
     "name": "stdout",
     "output_type": "stream",
     "text": [
      "Species distribution: \n",
      "setosa: 50\n",
      "versicolor: 50\n",
      "virginica: 50\n"
     ]
    }
   ],
   "source": [
    "from collections import Counter\n",
    "\n",
    "species_col = [row[4] for row in data]\n",
    "class_counts = Counter(species_col)\n",
    "\n",
    "print(\"Species distribution: \")\n",
    "for species, count in class_counts.items():\n",
    "    print(f\"{species}: {count}\")"
   ]
  },
  {
   "cell_type": "code",
   "execution_count": 5,
   "id": "40d02357",
   "metadata": {
    "execution": {
     "iopub.execute_input": "2025-04-10T13:14:37.807580Z",
     "iopub.status.busy": "2025-04-10T13:14:37.807255Z",
     "iopub.status.idle": "2025-04-10T13:14:37.813935Z",
     "shell.execute_reply": "2025-04-10T13:14:37.813134Z"
    },
    "papermill": {
     "duration": 0.014252,
     "end_time": "2025-04-10T13:14:37.815540",
     "exception": false,
     "start_time": "2025-04-10T13:14:37.801288",
     "status": "completed"
    },
    "tags": []
   },
   "outputs": [
    {
     "name": "stdout",
     "output_type": "stream",
     "text": [
      "First 3 samples (X, y):\n",
      "[5.1, 3.5, 1.4, 0.2] 0\n",
      "[4.9, 3.0, 1.4, 0.2] 0\n",
      "[4.7, 3.2, 1.3, 0.2] 0\n"
     ]
    }
   ],
   "source": [
    "label_map = {\"setosa\": 0, \"versicolor\" : 1, \"virginica\": 2}\n",
    "X = []\n",
    "y = []\n",
    "\n",
    "for row in data:\n",
    "    features = list(map(float, row[:4]))\n",
    "    label = label_map[row[4]]\n",
    "    X.append(features)\n",
    "    y.append(label)\n",
    "print(\"First 3 samples (X, y):\")\n",
    "for i in range(3):\n",
    "    print(X[i], y[i])"
   ]
  },
  {
   "cell_type": "code",
   "execution_count": 6,
   "id": "dce94b16",
   "metadata": {
    "execution": {
     "iopub.execute_input": "2025-04-10T13:14:37.825953Z",
     "iopub.status.busy": "2025-04-10T13:14:37.825622Z",
     "iopub.status.idle": "2025-04-10T13:14:37.833085Z",
     "shell.execute_reply": "2025-04-10T13:14:37.831429Z"
    },
    "papermill": {
     "duration": 0.014275,
     "end_time": "2025-04-10T13:14:37.834710",
     "exception": false,
     "start_time": "2025-04-10T13:14:37.820435",
     "status": "completed"
    },
    "tags": []
   },
   "outputs": [
    {
     "name": "stdout",
     "output_type": "stream",
     "text": [
      "Missing values per column: \n",
      "sepal_length: 0\n",
      "sepal_width: 0\n",
      "petal_length: 0\n",
      "petal_width: 0\n",
      "species: 0\n"
     ]
    }
   ],
   "source": [
    "missing_counts = [0] * len(header)\n",
    "\n",
    "for row in data:\n",
    "    for i, val in enumerate(row):\n",
    "        if val.strip() == \"\" or val.strip().lower() in ['na', 'null', 'none']:\n",
    "            missing_counts[i] += 1\n",
    "print(\"Missing values per column: \")\n",
    "for i, count in enumerate(missing_counts):\n",
    "    print(f\"{header[i]}: {count}\")"
   ]
  },
  {
   "cell_type": "code",
   "execution_count": 7,
   "id": "54e64bdf",
   "metadata": {
    "execution": {
     "iopub.execute_input": "2025-04-10T13:14:37.844570Z",
     "iopub.status.busy": "2025-04-10T13:14:37.844260Z",
     "iopub.status.idle": "2025-04-10T13:14:37.850328Z",
     "shell.execute_reply": "2025-04-10T13:14:37.849319Z"
    },
    "papermill": {
     "duration": 0.01296,
     "end_time": "2025-04-10T13:14:37.851877",
     "exception": false,
     "start_time": "2025-04-10T13:14:37.838917",
     "status": "completed"
    },
    "tags": []
   },
   "outputs": [
    {
     "name": "stdout",
     "output_type": "stream",
     "text": [
      "Total rows: 150\n",
      "Duplicate rows found: 3\n"
     ]
    }
   ],
   "source": [
    "unique_rows = set()\n",
    "duplicates = []\n",
    "\n",
    "for row in data:\n",
    "    row_tuple = tuple(row)\n",
    "    if row_tuple in unique_rows:\n",
    "        duplicates.append(row)\n",
    "    else:\n",
    "        unique_rows.add(row_tuple)\n",
    "\n",
    "print(f\"Total rows: {len(data)}\")\n",
    "print(f\"Duplicate rows found: {len(duplicates)}\")"
   ]
  },
  {
   "cell_type": "code",
   "execution_count": 8,
   "id": "acc93fac",
   "metadata": {
    "execution": {
     "iopub.execute_input": "2025-04-10T13:14:37.861533Z",
     "iopub.status.busy": "2025-04-10T13:14:37.861235Z",
     "iopub.status.idle": "2025-04-10T13:14:37.866772Z",
     "shell.execute_reply": "2025-04-10T13:14:37.865523Z"
    },
    "papermill": {
     "duration": 0.012267,
     "end_time": "2025-04-10T13:14:37.868380",
     "exception": false,
     "start_time": "2025-04-10T13:14:37.856113",
     "status": "completed"
    },
    "tags": []
   },
   "outputs": [
    {
     "name": "stdout",
     "output_type": "stream",
     "text": [
      "Cleaned dataset size : 147\n"
     ]
    }
   ],
   "source": [
    "clean_data = [list(row) for row in unique_rows]\n",
    "print(f\"Cleaned dataset size : {len(clean_data)}\")"
   ]
  },
  {
   "cell_type": "code",
   "execution_count": 9,
   "id": "709759d7",
   "metadata": {
    "execution": {
     "iopub.execute_input": "2025-04-10T13:14:37.881742Z",
     "iopub.status.busy": "2025-04-10T13:14:37.880887Z",
     "iopub.status.idle": "2025-04-10T13:14:37.888490Z",
     "shell.execute_reply": "2025-04-10T13:14:37.887298Z"
    },
    "papermill": {
     "duration": 0.017442,
     "end_time": "2025-04-10T13:14:37.890446",
     "exception": false,
     "start_time": "2025-04-10T13:14:37.873004",
     "status": "completed"
    },
    "tags": []
   },
   "outputs": [
    {
     "name": "stdout",
     "output_type": "stream",
     "text": [
      "Petal Length Distribution:\n",
      "0-1:  (0)\n",
      "1-2: ██████████████████████████████████████████████████ (50)\n",
      "2-3:  (0)\n",
      "3-4: ███████████ (11)\n",
      "4-5: ███████████████████████████████████████████ (43)\n",
      "5-6: ███████████████████████████████████ (35)\n",
      "6-7: ███████████ (11)\n"
     ]
    }
   ],
   "source": [
    "\n",
    "buckets = [0] * 7  \n",
    "\n",
    "for row in numeric_data:\n",
    "    val = row[2]  \n",
    "    index = int(val)\n",
    "    if index < len(buckets):\n",
    "        buckets[index] += 1\n",
    "\n",
    "print(\"Petal Length Distribution:\")\n",
    "for i, count in enumerate(buckets):\n",
    "    print(f\"{i}-{i+1}: {'█' * count} ({count})\")\n"
   ]
  },
  {
   "cell_type": "code",
   "execution_count": 10,
   "id": "23767b6a",
   "metadata": {
    "execution": {
     "iopub.execute_input": "2025-04-10T13:14:37.901856Z",
     "iopub.status.busy": "2025-04-10T13:14:37.901464Z",
     "iopub.status.idle": "2025-04-10T13:14:37.909012Z",
     "shell.execute_reply": "2025-04-10T13:14:37.907230Z"
    },
    "papermill": {
     "duration": 0.015681,
     "end_time": "2025-04-10T13:14:37.911162",
     "exception": false,
     "start_time": "2025-04-10T13:14:37.895481",
     "status": "completed"
    },
    "tags": []
   },
   "outputs": [
    {
     "name": "stdout",
     "output_type": "stream",
     "text": [
      "setosa    : ██████████████████████████████████████████████████ (50)\n",
      "versicolor: ██████████████████████████████████████████████████ (50)\n",
      "virginica : ██████████████████████████████████████████████████ (50)\n"
     ]
    }
   ],
   "source": [
    "for species, count in class_counts.items():\n",
    "    print(f\"{species:10}: {'█' * count} ({count})\")\n"
   ]
  },
  {
   "cell_type": "code",
   "execution_count": 11,
   "id": "e3fbac5a",
   "metadata": {
    "execution": {
     "iopub.execute_input": "2025-04-10T13:14:37.924406Z",
     "iopub.status.busy": "2025-04-10T13:14:37.923663Z",
     "iopub.status.idle": "2025-04-10T13:14:37.930369Z",
     "shell.execute_reply": "2025-04-10T13:14:37.929190Z"
    },
    "papermill": {
     "duration": 0.016118,
     "end_time": "2025-04-10T13:14:37.932503",
     "exception": false,
     "start_time": "2025-04-10T13:14:37.916385",
     "status": "completed"
    },
    "tags": []
   },
   "outputs": [],
   "source": [
    "import math\n",
    "\n",
    "def euclidean_distance(a, b):\n",
    "    return math.sqrt(sum((x-y)** 2 for x, y in zip (a, b)))"
   ]
  },
  {
   "cell_type": "code",
   "execution_count": 12,
   "id": "36cdea4d",
   "metadata": {
    "execution": {
     "iopub.execute_input": "2025-04-10T13:14:37.943217Z",
     "iopub.status.busy": "2025-04-10T13:14:37.942649Z",
     "iopub.status.idle": "2025-04-10T13:14:37.949029Z",
     "shell.execute_reply": "2025-04-10T13:14:37.948031Z"
    },
    "papermill": {
     "duration": 0.013426,
     "end_time": "2025-04-10T13:14:37.950548",
     "exception": false,
     "start_time": "2025-04-10T13:14:37.937122",
     "status": "completed"
    },
    "tags": []
   },
   "outputs": [],
   "source": [
    "from collections import Counter\n",
    "\n",
    "def knn_predict(X_train, y_train, test_point, k=3):\n",
    "    distances = []\n",
    "\n",
    "    for features, label in zip(X_train, y_train):\n",
    "        dist = euclidean_distance(features, test_point)\n",
    "        distances.append((dist, label))\n",
    "\n",
    "    distances.sort(key=lambda x: x[0])\n",
    "    k_nearest_labels = [label for _, label in distances[:k]]\n",
    "    most_common = Counter(k_nearest_labels).most_common(1)[0][0]\n",
    "    return most_common\n"
   ]
  },
  {
   "cell_type": "code",
   "execution_count": 13,
   "id": "22ce4388",
   "metadata": {
    "execution": {
     "iopub.execute_input": "2025-04-10T13:14:37.960904Z",
     "iopub.status.busy": "2025-04-10T13:14:37.960607Z",
     "iopub.status.idle": "2025-04-10T13:14:37.998142Z",
     "shell.execute_reply": "2025-04-10T13:14:37.997147Z"
    },
    "papermill": {
     "duration": 0.044192,
     "end_time": "2025-04-10T13:14:37.999620",
     "exception": false,
     "start_time": "2025-04-10T13:14:37.955428",
     "status": "completed"
    },
    "tags": []
   },
   "outputs": [
    {
     "name": "stdout",
     "output_type": "stream",
     "text": [
      "accuracy (KNN from scratch) : 0.96\n"
     ]
    }
   ],
   "source": [
    "correct = 0\n",
    "total = len(X)\n",
    "\n",
    "for features, label in zip(X, y):\n",
    "    pred = knn_predict(X, y, features, k=3)\n",
    "    if pred == label:\n",
    "        correct += 1\n",
    "\n",
    "accuracy = correct / total\n",
    "print(f\"accuracy (KNN from scratch) : {accuracy:.2f}\")"
   ]
  },
  {
   "cell_type": "code",
   "execution_count": 14,
   "id": "1f023dbd",
   "metadata": {
    "execution": {
     "iopub.execute_input": "2025-04-10T13:14:38.009935Z",
     "iopub.status.busy": "2025-04-10T13:14:38.009506Z",
     "iopub.status.idle": "2025-04-10T13:14:38.314106Z",
     "shell.execute_reply": "2025-04-10T13:14:38.313175Z"
    },
    "papermill": {
     "duration": 0.311705,
     "end_time": "2025-04-10T13:14:38.315825",
     "exception": false,
     "start_time": "2025-04-10T13:14:38.004120",
     "status": "completed"
    },
    "tags": []
   },
   "outputs": [
    {
     "data": {
      "image/png": "[encoded data removed]",
      "text/plain": [
       "<Figure size 800x600 with 1 Axes>"
      ]
     },
     "metadata": {},
     "output_type": "display_data"
    }
   ],
   "source": [
    "import matplotlib.pyplot as plt\n",
    "\n",
    "\n",
    "label_map_reverse = {0: 'setosa', 1: 'versicolor', 2: 'virginica'}\n",
    "species_colors = ['red', 'green', 'blue']\n",
    "colors = [species_colors[label] for label in y]\n",
    "\n",
    "\n",
    "X_petal = [row[2:4] for row in X]\n",
    "\n",
    "x_vals = [row[0] for row in X_petal]\n",
    "y_vals = [row[1] for row in X_petal]\n",
    "\n",
    "plt.figure(figsize=(8, 6))\n",
    "plt.scatter(x_vals, y_vals, c=colors, alpha=0.7)\n",
    "plt.xlabel(\"Petal Length\")\n",
    "plt.ylabel(\"Petal Width\")\n",
    "plt.title(\"Iris Classification – Actual Labels\")\n",
    "plt.grid(True)\n",
    "plt.show()\n"
   ]
  },
  {
   "cell_type": "code",
   "execution_count": 15,
   "id": "a5e7eef3",
   "metadata": {
    "execution": {
     "iopub.execute_input": "2025-04-10T13:14:38.327697Z",
     "iopub.status.busy": "2025-04-10T13:14:38.327403Z",
     "iopub.status.idle": "2025-04-10T13:14:38.332164Z",
     "shell.execute_reply": "2025-04-10T13:14:38.331036Z"
    },
    "papermill": {
     "duration": 0.012256,
     "end_time": "2025-04-10T13:14:38.333617",
     "exception": false,
     "start_time": "2025-04-10T13:14:38.321361",
     "status": "completed"
    },
    "tags": []
   },
   "outputs": [],
   "source": [
    "y_binary = [1 if label == 0  else 0 for label in y]\n",
    "X_binary = [x[:2] for x in X]"
   ]
  },
  {
   "cell_type": "code",
   "execution_count": 16,
   "id": "8bc0eb76",
   "metadata": {
    "execution": {
     "iopub.execute_input": "2025-04-10T13:14:38.345089Z",
     "iopub.status.busy": "2025-04-10T13:14:38.344784Z",
     "iopub.status.idle": "2025-04-10T13:14:38.351261Z",
     "shell.execute_reply": "2025-04-10T13:14:38.350355Z"
    },
    "papermill": {
     "duration": 0.014222,
     "end_time": "2025-04-10T13:14:38.353067",
     "exception": false,
     "start_time": "2025-04-10T13:14:38.338845",
     "status": "completed"
    },
    "tags": []
   },
   "outputs": [],
   "source": [
    "def sigmoid(z):\n",
    "    return 1 / (1 + np.exp(-z))\n",
    "\n",
    "def train_logistic(X, y, lr=0.1, epochs=1000):\n",
    "    X = np.array(X)\n",
    "    y = np.array(y)\n",
    "    n_samples, n_features = X.shape\n",
    "    weights = np.zeros(n_features)\n",
    "    bias = 0\n",
    "\n",
    "    for _ in range(epochs):\n",
    "        linear_model = np.dot(X, weights) + bias\n",
    "        y_pred = sigmoid(linear_model)\n",
    "\n",
    "        dw = (1 / n_samples) * np.dot(X.T, (y_pred - y))\n",
    "        db = (1 / n_samples) * np.sum(y_pred - y)\n",
    "\n",
    "        weights -= lr * dw\n",
    "        bias -= lr * db\n",
    "\n",
    "    return weights, bias"
   ]
  },
  {
   "cell_type": "code",
   "execution_count": 17,
   "id": "dd7f0104",
   "metadata": {
    "execution": {
     "iopub.execute_input": "2025-04-10T13:14:38.365243Z",
     "iopub.status.busy": "2025-04-10T13:14:38.364780Z",
     "iopub.status.idle": "2025-04-10T13:14:38.397767Z",
     "shell.execute_reply": "2025-04-10T13:14:38.396800Z"
    },
    "papermill": {
     "duration": 0.041449,
     "end_time": "2025-04-10T13:14:38.399809",
     "exception": false,
     "start_time": "2025-04-10T13:14:38.358360",
     "status": "completed"
    },
    "tags": []
   },
   "outputs": [
    {
     "name": "stdout",
     "output_type": "stream",
     "text": [
      "Accuracy (Logistic Regression from scratch): 0.99\n"
     ]
    }
   ],
   "source": [
    "def predict(X, weights, bias):\n",
    "    linear = np.dot(X, weights) + bias\n",
    "    probs = sigmoid(linear)\n",
    "    return [1 if p >= 0.5 else 0 for p in probs]\n",
    "\n",
    "\n",
    "weights, bias = train_logistic(X_binary, y_binary)\n",
    "\n",
    "\n",
    "y_pred = predict(np.array(X_binary), weights, bias)\n",
    "\n",
    "\n",
    "correct = sum(p == t for p, t in zip(y_pred, y_binary))\n",
    "accuracy = correct / len(y_binary)\n",
    "print(f\"Accuracy (Logistic Regression from scratch): {accuracy:.2f}\")"
   ]
  },
  {
   "cell_type": "code",
   "execution_count": 18,
   "id": "2bbeda28",
   "metadata": {
    "execution": {
     "iopub.execute_input": "2025-04-10T13:14:38.412151Z",
     "iopub.status.busy": "2025-04-10T13:14:38.411689Z",
     "iopub.status.idle": "2025-04-10T13:14:38.760418Z",
     "shell.execute_reply": "2025-04-10T13:14:38.759528Z"
    },
    "papermill": {
     "duration": 0.356751,
     "end_time": "2025-04-10T13:14:38.762291",
     "exception": false,
     "start_time": "2025-04-10T13:14:38.405540",
     "status": "completed"
    },
    "tags": []
   },
   "outputs": [
    {
     "data": {
      "image/png": "[encoded data removed]",
      "text/plain": [
       "<Figure size 800x600 with 1 Axes>"
      ]
     },
     "metadata": {},
     "output_type": "display_data"
    }
   ],
   "source": [
    "X_np = np.array(X_binary)\n",
    "y_np = np.array(y_binary)\n",
    "\n",
    "\n",
    "class_0 = X_np[y_np == 0]\n",
    "class_1 = X_np[y_np == 1]\n",
    "\n",
    "plt.figure(figsize=(8, 6))\n",
    "plt.scatter(class_0[:, 0], class_0[:, 1], color='blue', label='Not Setosa (0)', alpha=0.7)\n",
    "plt.scatter(class_1[:, 0], class_1[:, 1], color='red', label='Setosa (1)', alpha=0.7)\n",
    "\n",
    "\n",
    "x1_vals = np.linspace(min(X_np[:, 0]), max(X_np[:, 0]), 100)\n",
    "x2_vals = -(weights[0] * x1_vals + bias) / weights[1]\n",
    "\n",
    "plt.plot(x1_vals, x2_vals, color='black', linestyle='--', label='Decision Boundary')\n",
    "\n",
    "# Labels\n",
    "plt.xlabel(\"Sepal Length\")\n",
    "plt.ylabel(\"Sepal Width\")\n",
    "plt.title(\"Logistic Regression Decision Boundary (Scratch)\")\n",
    "plt.legend()\n",
    "plt.grid(True)\n",
    "plt.show()\n"
   ]
  },
  {
   "cell_type": "code",
   "execution_count": 19,
   "id": "df67c81e",
   "metadata": {
    "execution": {
     "iopub.execute_input": "2025-04-10T13:14:38.776561Z",
     "iopub.status.busy": "2025-04-10T13:14:38.776291Z",
     "iopub.status.idle": "2025-04-10T13:14:38.783962Z",
     "shell.execute_reply": "2025-04-10T13:14:38.782569Z"
    },
    "papermill": {
     "duration": 0.01644,
     "end_time": "2025-04-10T13:14:38.785576",
     "exception": false,
     "start_time": "2025-04-10T13:14:38.769136",
     "status": "completed"
    },
    "tags": []
   },
   "outputs": [
    {
     "name": "stdout",
     "output_type": "stream",
     "text": [
      "Saved to: /kaggle/working/iris_binary_cleaned.csv\n"
     ]
    }
   ],
   "source": [
    "\n",
    "\n",
    "\n",
    "X_binary = [[5.1, 3.5], [6.2, 2.8], [4.9, 3.0]]  \n",
    "y_binary = [1, 0, 1]  # 1 = Setosa, 0 = Not Setosa\n",
    "\n",
    "\n",
    "output_path = \"/kaggle/working/iris_binary_cleaned.csv\"\n",
    "\n",
    "\n",
    "with open(output_path, mode='w', newline='') as file:\n",
    "    writer = csv.writer(file)\n",
    "    writer.writerow(['sepal_length', 'sepal_width', 'is_setosa'])  # header\n",
    "    for x_row, y_label in zip(X_binary, y_binary):\n",
    "        writer.writerow(x_row + [y_label])\n",
    "\n",
    "print(f\"Saved to: {output_path}\")\n"
   ]
  },
  {
   "cell_type": "code",
   "execution_count": null,
   "id": "11fb118a",
   "metadata": {
    "papermill": {
     "duration": 0.006024,
     "end_time": "2025-04-10T13:14:38.798040",
     "exception": false,
     "start_time": "2025-04-10T13:14:38.792016",
     "status": "completed"
    },
    "tags": []
   },
   "outputs": [],
   "source": []
  }
 ],
 "metadata": {
  "kaggle": {
   "accelerator": "none",
   "dataSources": [
    {
     "datasetId": 2354152,
     "sourceId": 3966491,
     "sourceType": "datasetVersion"
    }
   ],
   "dockerImageVersionId": 31012,
   "isGpuEnabled": false,
   "isInternetEnabled": true,
   "language": "python",
   "sourceType": "notebook"
  },
  "kernelspec": {
   "display_name": "Python 3",
   "language": "python",
   "name": "python3"
  },
  "language_info": {
   "codemirror_mode": {
    "name": "ipython",
    "version": 3
   },
   "file_extension": ".py",
   "mimetype": "text/x-python",
   "name": "python",
   "nbconvert_exporter": "python",
   "pygments_lexer": "ipython3",
   "version": "3.11.11"
  },
  "papermill": {
   "default_parameters": {},
   "duration": 8.777219,
   "end_time": "2025-04-10T13:14:39.324273",
   "environment_variables": {},
   "exception": null,
   "input_path": "__notebook__.ipynb",
   "output_path": "__notebook__.ipynb",
   "parameters": {},
   "start_time": "2025-04-10T13:14:30.547054",
   "version": "2.6.0"
  }
 },
 "nbformat": 4,
 "nbformat_minor": 5
}
