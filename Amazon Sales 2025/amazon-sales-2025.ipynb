{
 "cells": [
  {
   "cell_type": "code",
   "execution_count": 1,
   "id": "3e9fec17",
   "metadata": {
    "_cell_guid": "b1076dfc-b9ad-4769-8c92-a6c4dae69d19",
    "_uuid": "8f2839f25d086af736a60e9eeb907d3b93b6e0e5",
    "execution": {
     "iopub.execute_input": "2025-04-11T18:38:36.780820Z",
     "iopub.status.busy": "2025-04-11T18:38:36.780498Z",
     "iopub.status.idle": "2025-04-11T18:38:39.021191Z",
     "shell.execute_reply": "2025-04-11T18:38:39.019697Z"
    },
    "papermill": {
     "duration": 2.249878,
     "end_time": "2025-04-11T18:38:39.023163",
     "exception": false,
     "start_time": "2025-04-11T18:38:36.773285",
     "status": "completed"
    },
    "tags": []
   },
   "outputs": [
    {
     "name": "stdout",
     "output_type": "stream",
     "text": [
      "/kaggle/input/amazon-sales-2025/amazon_sales_data 2025.csv\n"
     ]
    }
   ],
   "source": [
    "# This Python 3 environment comes with many helpful analytics libraries installed\n",
    "# It is defined by the kaggle/python Docker image: https://github.com/kaggle/docker-python\n",
    "# For example, here's several helpful packages to load\n",
    "\n",
    "import numpy as np # linear algebra\n",
    "import pandas as pd # data processing, CSV file I/O (e.g. pd.read_csv)\n",
    "\n",
    "# Input data files are available in the read-only \"../input/\" directory\n",
    "# For example, running this (by clicking run or pressing Shift+Enter) will list all files under the input directory\n",
    "\n",
    "import os\n",
    "for dirname, _, filenames in os.walk('/kaggle/input'):\n",
    "    for filename in filenames:\n",
    "        print(os.path.join(dirname, filename))\n",
    "\n",
    "# You can write up to 20GB to the current directory (/kaggle/working/) that gets preserved as output when you create a version using \"Save & Run All\" \n",
    "# You can also write temporary files to /kaggle/temp/, but they won't be saved outside of the current session"
   ]
  },
  {
   "cell_type": "code",
   "execution_count": 2,
   "id": "5025fb88",
   "metadata": {
    "execution": {
     "iopub.execute_input": "2025-04-11T18:38:39.035087Z",
     "iopub.status.busy": "2025-04-11T18:38:39.034701Z",
     "iopub.status.idle": "2025-04-11T18:38:39.086328Z",
     "shell.execute_reply": "2025-04-11T18:38:39.085190Z"
    },
    "papermill": {
     "duration": 0.059531,
     "end_time": "2025-04-11T18:38:39.088165",
     "exception": false,
     "start_time": "2025-04-11T18:38:39.028634",
     "status": "completed"
    },
    "tags": []
   },
   "outputs": [
    {
     "data": {
      "text/html": [
       "<div>\n",
       "<style scoped>\n",
       "    .dataframe tbody tr th:only-of-type {\n",
       "        vertical-align: middle;\n",
       "    }\n",
       "\n",
       "    .dataframe tbody tr th {\n",
       "        vertical-align: top;\n",
       "    }\n",
       "\n",
       "    .dataframe thead th {\n",
       "        text-align: right;\n",
       "    }\n",
       "</style>\n",
       "<table border=\"1\" class=\"dataframe\">\n",
       "  <thead>\n",
       "    <tr style=\"text-align: right;\">\n",
       "      <th></th>\n",
       "      <th>Order ID</th>\n",
       "      <th>Date</th>\n",
       "      <th>Product</th>\n",
       "      <th>Category</th>\n",
       "      <th>Price</th>\n",
       "      <th>Quantity</th>\n",
       "      <th>Total Sales</th>\n",
       "      <th>Customer Name</th>\n",
       "      <th>Customer Location</th>\n",
       "      <th>Payment Method</th>\n",
       "      <th>Status</th>\n",
       "    </tr>\n",
       "  </thead>\n",
       "  <tbody>\n",
       "    <tr>\n",
       "      <th>0</th>\n",
       "      <td>ORD0001</td>\n",
       "      <td>14-03-25</td>\n",
       "      <td>Running Shoes</td>\n",
       "      <td>Footwear</td>\n",
       "      <td>60</td>\n",
       "      <td>3</td>\n",
       "      <td>180</td>\n",
       "      <td>Emma Clark</td>\n",
       "      <td>New York</td>\n",
       "      <td>Debit Card</td>\n",
       "      <td>Cancelled</td>\n",
       "    </tr>\n",
       "    <tr>\n",
       "      <th>1</th>\n",
       "      <td>ORD0002</td>\n",
       "      <td>20-03-25</td>\n",
       "      <td>Headphones</td>\n",
       "      <td>Electronics</td>\n",
       "      <td>100</td>\n",
       "      <td>4</td>\n",
       "      <td>400</td>\n",
       "      <td>Emily Johnson</td>\n",
       "      <td>San Francisco</td>\n",
       "      <td>Debit Card</td>\n",
       "      <td>Pending</td>\n",
       "    </tr>\n",
       "    <tr>\n",
       "      <th>2</th>\n",
       "      <td>ORD0003</td>\n",
       "      <td>15-02-25</td>\n",
       "      <td>Running Shoes</td>\n",
       "      <td>Footwear</td>\n",
       "      <td>60</td>\n",
       "      <td>2</td>\n",
       "      <td>120</td>\n",
       "      <td>John Doe</td>\n",
       "      <td>Denver</td>\n",
       "      <td>Amazon Pay</td>\n",
       "      <td>Cancelled</td>\n",
       "    </tr>\n",
       "    <tr>\n",
       "      <th>3</th>\n",
       "      <td>ORD0004</td>\n",
       "      <td>19-02-25</td>\n",
       "      <td>Running Shoes</td>\n",
       "      <td>Footwear</td>\n",
       "      <td>60</td>\n",
       "      <td>3</td>\n",
       "      <td>180</td>\n",
       "      <td>Olivia Wilson</td>\n",
       "      <td>Dallas</td>\n",
       "      <td>Credit Card</td>\n",
       "      <td>Pending</td>\n",
       "    </tr>\n",
       "    <tr>\n",
       "      <th>4</th>\n",
       "      <td>ORD0005</td>\n",
       "      <td>10-03-25</td>\n",
       "      <td>Smartwatch</td>\n",
       "      <td>Electronics</td>\n",
       "      <td>150</td>\n",
       "      <td>3</td>\n",
       "      <td>450</td>\n",
       "      <td>Emma Clark</td>\n",
       "      <td>New York</td>\n",
       "      <td>Debit Card</td>\n",
       "      <td>Pending</td>\n",
       "    </tr>\n",
       "  </tbody>\n",
       "</table>\n",
       "</div>"
      ],
      "text/plain": [
       "  Order ID      Date        Product     Category  Price  Quantity  \\\n",
       "0  ORD0001  14-03-25  Running Shoes     Footwear     60         3   \n",
       "1  ORD0002  20-03-25     Headphones  Electronics    100         4   \n",
       "2  ORD0003  15-02-25  Running Shoes     Footwear     60         2   \n",
       "3  ORD0004  19-02-25  Running Shoes     Footwear     60         3   \n",
       "4  ORD0005  10-03-25     Smartwatch  Electronics    150         3   \n",
       "\n",
       "   Total Sales  Customer Name Customer Location Payment Method     Status  \n",
       "0          180     Emma Clark          New York     Debit Card  Cancelled  \n",
       "1          400  Emily Johnson     San Francisco     Debit Card    Pending  \n",
       "2          120       John Doe            Denver     Amazon Pay  Cancelled  \n",
       "3          180  Olivia Wilson            Dallas    Credit Card    Pending  \n",
       "4          450     Emma Clark          New York     Debit Card    Pending  "
      ]
     },
     "execution_count": 2,
     "metadata": {},
     "output_type": "execute_result"
    }
   ],
   "source": [
    "df = pd.read_csv(\"/kaggle/input/amazon-sales-2025/amazon_sales_data 2025.csv\")\n",
    "df.head()"
   ]
  },
  {
   "cell_type": "code",
   "execution_count": 3,
   "id": "a76cb5e7",
   "metadata": {
    "execution": {
     "iopub.execute_input": "2025-04-11T18:38:39.100477Z",
     "iopub.status.busy": "2025-04-11T18:38:39.100154Z",
     "iopub.status.idle": "2025-04-11T18:38:39.131033Z",
     "shell.execute_reply": "2025-04-11T18:38:39.130068Z"
    },
    "papermill": {
     "duration": 0.039277,
     "end_time": "2025-04-11T18:38:39.133093",
     "exception": false,
     "start_time": "2025-04-11T18:38:39.093816",
     "status": "completed"
    },
    "tags": []
   },
   "outputs": [
    {
     "name": "stdout",
     "output_type": "stream",
     "text": [
      "<class 'pandas.core.frame.DataFrame'>\n",
      "RangeIndex: 250 entries, 0 to 249\n",
      "Data columns (total 11 columns):\n",
      " #   Column             Non-Null Count  Dtype \n",
      "---  ------             --------------  ----- \n",
      " 0   Order ID           250 non-null    object\n",
      " 1   Date               250 non-null    object\n",
      " 2   Product            250 non-null    object\n",
      " 3   Category           250 non-null    object\n",
      " 4   Price              250 non-null    int64 \n",
      " 5   Quantity           250 non-null    int64 \n",
      " 6   Total Sales        250 non-null    int64 \n",
      " 7   Customer Name      250 non-null    object\n",
      " 8   Customer Location  250 non-null    object\n",
      " 9   Payment Method     250 non-null    object\n",
      " 10  Status             250 non-null    object\n",
      "dtypes: int64(3), object(8)\n",
      "memory usage: 21.6+ KB\n"
     ]
    }
   ],
   "source": [
    "df.info()"
   ]
  },
  {
   "cell_type": "code",
   "execution_count": 4,
   "id": "a375aea9",
   "metadata": {
    "execution": {
     "iopub.execute_input": "2025-04-11T18:38:39.152668Z",
     "iopub.status.busy": "2025-04-11T18:38:39.152222Z",
     "iopub.status.idle": "2025-04-11T18:38:39.160911Z",
     "shell.execute_reply": "2025-04-11T18:38:39.159962Z"
    },
    "papermill": {
     "duration": 0.01895,
     "end_time": "2025-04-11T18:38:39.163518",
     "exception": false,
     "start_time": "2025-04-11T18:38:39.144568",
     "status": "completed"
    },
    "tags": []
   },
   "outputs": [
    {
     "data": {
      "text/plain": [
       "Order ID             0\n",
       "Date                 0\n",
       "Product              0\n",
       "Category             0\n",
       "Price                0\n",
       "Quantity             0\n",
       "Total Sales          0\n",
       "Customer Name        0\n",
       "Customer Location    0\n",
       "Payment Method       0\n",
       "Status               0\n",
       "dtype: int64"
      ]
     },
     "execution_count": 4,
     "metadata": {},
     "output_type": "execute_result"
    }
   ],
   "source": [
    "df.isnull().sum()"
   ]
  },
  {
   "cell_type": "code",
   "execution_count": 5,
   "id": "166b4a9b",
   "metadata": {
    "execution": {
     "iopub.execute_input": "2025-04-11T18:38:39.179836Z",
     "iopub.status.busy": "2025-04-11T18:38:39.179407Z",
     "iopub.status.idle": "2025-04-11T18:38:39.195615Z",
     "shell.execute_reply": "2025-04-11T18:38:39.193325Z"
    },
    "papermill": {
     "duration": 0.025198,
     "end_time": "2025-04-11T18:38:39.197897",
     "exception": false,
     "start_time": "2025-04-11T18:38:39.172699",
     "status": "completed"
    },
    "tags": []
   },
   "outputs": [
    {
     "data": {
      "text/plain": [
       "0"
      ]
     },
     "execution_count": 5,
     "metadata": {},
     "output_type": "execute_result"
    }
   ],
   "source": [
    "df.duplicated().sum()"
   ]
  },
  {
   "cell_type": "code",
   "execution_count": 6,
   "id": "970c9103",
   "metadata": {
    "execution": {
     "iopub.execute_input": "2025-04-11T18:38:39.212957Z",
     "iopub.status.busy": "2025-04-11T18:38:39.212391Z",
     "iopub.status.idle": "2025-04-11T18:38:39.238422Z",
     "shell.execute_reply": "2025-04-11T18:38:39.237361Z"
    },
    "papermill": {
     "duration": 0.035451,
     "end_time": "2025-04-11T18:38:39.240383",
     "exception": false,
     "start_time": "2025-04-11T18:38:39.204932",
     "status": "completed"
    },
    "tags": []
   },
   "outputs": [
    {
     "data": {
      "text/html": [
       "<div>\n",
       "<style scoped>\n",
       "    .dataframe tbody tr th:only-of-type {\n",
       "        vertical-align: middle;\n",
       "    }\n",
       "\n",
       "    .dataframe tbody tr th {\n",
       "        vertical-align: top;\n",
       "    }\n",
       "\n",
       "    .dataframe thead th {\n",
       "        text-align: right;\n",
       "    }\n",
       "</style>\n",
       "<table border=\"1\" class=\"dataframe\">\n",
       "  <thead>\n",
       "    <tr style=\"text-align: right;\">\n",
       "      <th></th>\n",
       "      <th>Price</th>\n",
       "      <th>Quantity</th>\n",
       "      <th>Total Sales</th>\n",
       "    </tr>\n",
       "  </thead>\n",
       "  <tbody>\n",
       "    <tr>\n",
       "      <th>count</th>\n",
       "      <td>250.000000</td>\n",
       "      <td>250.000000</td>\n",
       "      <td>250.000000</td>\n",
       "    </tr>\n",
       "    <tr>\n",
       "      <th>mean</th>\n",
       "      <td>343.580000</td>\n",
       "      <td>2.856000</td>\n",
       "      <td>975.380000</td>\n",
       "    </tr>\n",
       "    <tr>\n",
       "      <th>std</th>\n",
       "      <td>380.635808</td>\n",
       "      <td>1.429489</td>\n",
       "      <td>1252.112254</td>\n",
       "    </tr>\n",
       "    <tr>\n",
       "      <th>min</th>\n",
       "      <td>15.000000</td>\n",
       "      <td>1.000000</td>\n",
       "      <td>15.000000</td>\n",
       "    </tr>\n",
       "    <tr>\n",
       "      <th>25%</th>\n",
       "      <td>40.000000</td>\n",
       "      <td>2.000000</td>\n",
       "      <td>100.000000</td>\n",
       "    </tr>\n",
       "    <tr>\n",
       "      <th>50%</th>\n",
       "      <td>150.000000</td>\n",
       "      <td>3.000000</td>\n",
       "      <td>400.000000</td>\n",
       "    </tr>\n",
       "    <tr>\n",
       "      <th>75%</th>\n",
       "      <td>600.000000</td>\n",
       "      <td>4.000000</td>\n",
       "      <td>1500.000000</td>\n",
       "    </tr>\n",
       "    <tr>\n",
       "      <th>max</th>\n",
       "      <td>1200.000000</td>\n",
       "      <td>5.000000</td>\n",
       "      <td>6000.000000</td>\n",
       "    </tr>\n",
       "  </tbody>\n",
       "</table>\n",
       "</div>"
      ],
      "text/plain": [
       "             Price    Quantity  Total Sales\n",
       "count   250.000000  250.000000   250.000000\n",
       "mean    343.580000    2.856000   975.380000\n",
       "std     380.635808    1.429489  1252.112254\n",
       "min      15.000000    1.000000    15.000000\n",
       "25%      40.000000    2.000000   100.000000\n",
       "50%     150.000000    3.000000   400.000000\n",
       "75%     600.000000    4.000000  1500.000000\n",
       "max    1200.000000    5.000000  6000.000000"
      ]
     },
     "execution_count": 6,
     "metadata": {},
     "output_type": "execute_result"
    }
   ],
   "source": [
    "df.describe()"
   ]
  },
  {
   "cell_type": "code",
   "execution_count": 7,
   "id": "74c80a37",
   "metadata": {
    "execution": {
     "iopub.execute_input": "2025-04-11T18:38:39.256308Z",
     "iopub.status.busy": "2025-04-11T18:38:39.254864Z",
     "iopub.status.idle": "2025-04-11T18:38:41.931799Z",
     "shell.execute_reply": "2025-04-11T18:38:41.930779Z"
    },
    "papermill": {
     "duration": 2.686485,
     "end_time": "2025-04-11T18:38:41.933467",
     "exception": false,
     "start_time": "2025-04-11T18:38:39.246982",
     "status": "completed"
    },
    "tags": []
   },
   "outputs": [
    {
     "data": {
      "image/png": "[encoded data removed]",
      "text/plain": [
       "<Figure size 1200x800 with 1 Axes>"
      ]
     },
     "metadata": {},
     "output_type": "display_data"
    }
   ],
   "source": [
    "import matplotlib.pyplot as plt\n",
    "import seaborn as sns\n",
    "\n",
    "top_products = df.groupby(\"Product\")[\"Total Sales\"].sum().sort_values(ascending=False).head(10)\n",
    "\n",
    "plt.figure(figsize=(12,8))\n",
    "sns.barplot(x=top_products.values, y=top_products.index)\n",
    "plt.title(\"Top 10 Best Selling Products\")\n",
    "plt.xlabel(\"Total Sales\")\n",
    "plt.ylabel(\"Products\")\n",
    "plt.show()"
   ]
  },
  {
   "cell_type": "code",
   "execution_count": 8,
   "id": "7e77e877",
   "metadata": {
    "execution": {
     "iopub.execute_input": "2025-04-11T18:38:41.948502Z",
     "iopub.status.busy": "2025-04-11T18:38:41.947934Z",
     "iopub.status.idle": "2025-04-11T18:38:42.213854Z",
     "shell.execute_reply": "2025-04-11T18:38:42.212854Z"
    },
    "papermill": {
     "duration": 0.275607,
     "end_time": "2025-04-11T18:38:42.216007",
     "exception": false,
     "start_time": "2025-04-11T18:38:41.940400",
     "status": "completed"
    },
    "tags": []
   },
   "outputs": [
    {
     "data": {
      "image/png": "[encoded data removed]",
      "text/plain": [
       "<Figure size 1200x800 with 1 Axes>"
      ]
     },
     "metadata": {},
     "output_type": "display_data"
    }
   ],
   "source": [
    "category_sales = df.groupby(\"Category\")[\"Total Sales\"].sum()\n",
    "plt.figure(figsize=(12,8))\n",
    "category_sales.plot(kind=\"pie\", autopct=\"%1.1f%%\", startangle=140, shadow=True, colors=sns.color_palette(\"pastel\"))\n",
    "plt.title(\"Sales Distribution by Category\")\n",
    "plt.ylabel(\"\")\n",
    "plt.show()\n"
   ]
  },
  {
   "cell_type": "code",
   "execution_count": 9,
   "id": "a37dcbe0",
   "metadata": {
    "execution": {
     "iopub.execute_input": "2025-04-11T18:38:42.232833Z",
     "iopub.status.busy": "2025-04-11T18:38:42.232497Z",
     "iopub.status.idle": "2025-04-11T18:38:42.430039Z",
     "shell.execute_reply": "2025-04-11T18:38:42.428918Z"
    },
    "papermill": {
     "duration": 0.207648,
     "end_time": "2025-04-11T18:38:42.431696",
     "exception": false,
     "start_time": "2025-04-11T18:38:42.224048",
     "status": "completed"
    },
    "tags": []
   },
   "outputs": [
    {
     "data": {
      "image/png": "[encoded data removed]",
      "text/plain": [
       "<Figure size 1200x800 with 1 Axes>"
      ]
     },
     "metadata": {},
     "output_type": "display_data"
    }
   ],
   "source": [
    "plt.figure(figsize=(12,8))\n",
    "sns.countplot(data=df, x=\"Payment Method\", order=df['Payment Method'].value_counts().index, palette='coolwarm')\n",
    "plt.title(\"Payment Method Popularity\")\n",
    "plt.xlabel(\"Payment Method\")\n",
    "plt.ylabel(\"Number of Transactions\")\n",
    "plt.xticks(rotation=45)\n",
    "plt.show()"
   ]
  },
  {
   "cell_type": "code",
   "execution_count": 10,
   "id": "d11a5a0b",
   "metadata": {
    "execution": {
     "iopub.execute_input": "2025-04-11T18:38:42.450414Z",
     "iopub.status.busy": "2025-04-11T18:38:42.450095Z",
     "iopub.status.idle": "2025-04-11T18:38:42.589913Z",
     "shell.execute_reply": "2025-04-11T18:38:42.588731Z"
    },
    "papermill": {
     "duration": 0.150758,
     "end_time": "2025-04-11T18:38:42.591605",
     "exception": false,
     "start_time": "2025-04-11T18:38:42.440847",
     "status": "completed"
    },
    "tags": []
   },
   "outputs": [
    {
     "data": {
      "image/png": "[encoded data removed]",
      "text/plain": [
       "<Figure size 600x400 with 1 Axes>"
      ]
     },
     "metadata": {},
     "output_type": "display_data"
    }
   ],
   "source": [
    "plt.figure(figsize=(6,4))\n",
    "sns.countplot(data=df, x=\"Status\", palette=\"Set2\")\n",
    "plt.title(\"Order Status Overview\")\n",
    "plt.xlabel(\"Order Status\")\n",
    "plt.ylabel(\"Count\")\n",
    "plt.show()\n"
   ]
  },
  {
   "cell_type": "code",
   "execution_count": 11,
   "id": "ae639c28",
   "metadata": {
    "execution": {
     "iopub.execute_input": "2025-04-11T18:38:42.610737Z",
     "iopub.status.busy": "2025-04-11T18:38:42.610400Z",
     "iopub.status.idle": "2025-04-11T18:38:42.824876Z",
     "shell.execute_reply": "2025-04-11T18:38:42.823886Z"
    },
    "papermill": {
     "duration": 0.226042,
     "end_time": "2025-04-11T18:38:42.826459",
     "exception": false,
     "start_time": "2025-04-11T18:38:42.600417",
     "status": "completed"
    },
    "tags": []
   },
   "outputs": [
    {
     "data": {
      "image/png": "[encoded data removed]",
      "text/plain": [
       "<Figure size 1000x600 with 1 Axes>"
      ]
     },
     "metadata": {},
     "output_type": "display_data"
    }
   ],
   "source": [
    "plt.figure(figsize=(10,6))\n",
    "location_sales = df.groupby(\"Customer Location\")[\"Total Sales\"].sum().sort_values(ascending=False)\n",
    "sns.barplot(x=location_sales.values, y=location_sales.index, palette=\"viridis\")\n",
    "plt.title(\"Total Sales by Customer Location\")\n",
    "plt.xlabel(\"Total Sales\")\n",
    "plt.ylabel(\"Location\")\n",
    "plt.show()\n"
   ]
  },
  {
   "cell_type": "code",
   "execution_count": 12,
   "id": "4c08e7bb",
   "metadata": {
    "execution": {
     "iopub.execute_input": "2025-04-11T18:38:42.846982Z",
     "iopub.status.busy": "2025-04-11T18:38:42.846704Z",
     "iopub.status.idle": "2025-04-11T18:38:43.058865Z",
     "shell.execute_reply": "2025-04-11T18:38:43.057868Z"
    },
    "papermill": {
     "duration": 0.225223,
     "end_time": "2025-04-11T18:38:43.061396",
     "exception": false,
     "start_time": "2025-04-11T18:38:42.836173",
     "status": "completed"
    },
    "tags": []
   },
   "outputs": [
    {
     "name": "stderr",
     "output_type": "stream",
     "text": [
      "/tmp/ipykernel_13/3428388162.py:11: SettingWithCopyWarning: \n",
      "A value is trying to be set on a copy of a slice from a DataFrame.\n",
      "Try using .loc[row_indexer,col_indexer] = value instead\n",
      "\n",
      "See the caveats in the documentation: https://pandas.pydata.org/pandas-docs/stable/user_guide/indexing.html#returning-a-view-versus-a-copy\n",
      "  ml_df[\"Category\"] = le_category.fit_transform(ml_df[\"Category\"])\n",
      "/tmp/ipykernel_13/3428388162.py:12: SettingWithCopyWarning: \n",
      "A value is trying to be set on a copy of a slice from a DataFrame.\n",
      "Try using .loc[row_indexer,col_indexer] = value instead\n",
      "\n",
      "See the caveats in the documentation: https://pandas.pydata.org/pandas-docs/stable/user_guide/indexing.html#returning-a-view-versus-a-copy\n",
      "  ml_df[\"Payment Method\"] = le_payment.fit_transform(ml_df[\"Payment Method\"])\n",
      "/tmp/ipykernel_13/3428388162.py:13: SettingWithCopyWarning: \n",
      "A value is trying to be set on a copy of a slice from a DataFrame.\n",
      "Try using .loc[row_indexer,col_indexer] = value instead\n",
      "\n",
      "See the caveats in the documentation: https://pandas.pydata.org/pandas-docs/stable/user_guide/indexing.html#returning-a-view-versus-a-copy\n",
      "  ml_df[\"Customer Location\"] = le_location.fit_transform(ml_df[\"Customer Location\"])\n",
      "/tmp/ipykernel_13/3428388162.py:14: SettingWithCopyWarning: \n",
      "A value is trying to be set on a copy of a slice from a DataFrame.\n",
      "Try using .loc[row_indexer,col_indexer] = value instead\n",
      "\n",
      "See the caveats in the documentation: https://pandas.pydata.org/pandas-docs/stable/user_guide/indexing.html#returning-a-view-versus-a-copy\n",
      "  ml_df[\"Status\"] = le_status.fit_transform(ml_df[\"Status\"])\n"
     ]
    }
   ],
   "source": [
    "\n",
    "ml_df = df[[\"Price\", \"Quantity\", \"Total Sales\", \"Category\", \"Payment Method\", \"Customer Location\", \"Status\"]]\n",
    "\n",
    "\n",
    "from sklearn.preprocessing import LabelEncoder\n",
    "\n",
    "le_category = LabelEncoder()\n",
    "le_payment = LabelEncoder()\n",
    "le_location = LabelEncoder()\n",
    "le_status = LabelEncoder()\n",
    "\n",
    "ml_df[\"Category\"] = le_category.fit_transform(ml_df[\"Category\"])\n",
    "ml_df[\"Payment Method\"] = le_payment.fit_transform(ml_df[\"Payment Method\"])\n",
    "ml_df[\"Customer Location\"] = le_location.fit_transform(ml_df[\"Customer Location\"])\n",
    "ml_df[\"Status\"] = le_status.fit_transform(ml_df[\"Status\"])\n"
   ]
  },
  {
   "cell_type": "code",
   "execution_count": 13,
   "id": "a4d9ec3f",
   "metadata": {
    "execution": {
     "iopub.execute_input": "2025-04-11T18:38:43.084022Z",
     "iopub.status.busy": "2025-04-11T18:38:43.083684Z",
     "iopub.status.idle": "2025-04-11T18:38:43.094870Z",
     "shell.execute_reply": "2025-04-11T18:38:43.093855Z"
    },
    "papermill": {
     "duration": 0.023445,
     "end_time": "2025-04-11T18:38:43.096541",
     "exception": false,
     "start_time": "2025-04-11T18:38:43.073096",
     "status": "completed"
    },
    "tags": []
   },
   "outputs": [
    {
     "data": {
      "text/html": [
       "<div>\n",
       "<style scoped>\n",
       "    .dataframe tbody tr th:only-of-type {\n",
       "        vertical-align: middle;\n",
       "    }\n",
       "\n",
       "    .dataframe tbody tr th {\n",
       "        vertical-align: top;\n",
       "    }\n",
       "\n",
       "    .dataframe thead th {\n",
       "        text-align: right;\n",
       "    }\n",
       "</style>\n",
       "<table border=\"1\" class=\"dataframe\">\n",
       "  <thead>\n",
       "    <tr style=\"text-align: right;\">\n",
       "      <th></th>\n",
       "      <th>Price</th>\n",
       "      <th>Quantity</th>\n",
       "      <th>Total Sales</th>\n",
       "      <th>Category</th>\n",
       "      <th>Payment Method</th>\n",
       "      <th>Customer Location</th>\n",
       "      <th>Status</th>\n",
       "    </tr>\n",
       "  </thead>\n",
       "  <tbody>\n",
       "    <tr>\n",
       "      <th>0</th>\n",
       "      <td>60</td>\n",
       "      <td>3</td>\n",
       "      <td>180</td>\n",
       "      <td>3</td>\n",
       "      <td>2</td>\n",
       "      <td>7</td>\n",
       "      <td>0</td>\n",
       "    </tr>\n",
       "    <tr>\n",
       "      <th>1</th>\n",
       "      <td>100</td>\n",
       "      <td>4</td>\n",
       "      <td>400</td>\n",
       "      <td>2</td>\n",
       "      <td>2</td>\n",
       "      <td>8</td>\n",
       "      <td>2</td>\n",
       "    </tr>\n",
       "    <tr>\n",
       "      <th>2</th>\n",
       "      <td>60</td>\n",
       "      <td>2</td>\n",
       "      <td>120</td>\n",
       "      <td>3</td>\n",
       "      <td>0</td>\n",
       "      <td>3</td>\n",
       "      <td>0</td>\n",
       "    </tr>\n",
       "    <tr>\n",
       "      <th>3</th>\n",
       "      <td>60</td>\n",
       "      <td>3</td>\n",
       "      <td>180</td>\n",
       "      <td>3</td>\n",
       "      <td>1</td>\n",
       "      <td>2</td>\n",
       "      <td>2</td>\n",
       "    </tr>\n",
       "    <tr>\n",
       "      <th>4</th>\n",
       "      <td>150</td>\n",
       "      <td>3</td>\n",
       "      <td>450</td>\n",
       "      <td>2</td>\n",
       "      <td>2</td>\n",
       "      <td>7</td>\n",
       "      <td>2</td>\n",
       "    </tr>\n",
       "  </tbody>\n",
       "</table>\n",
       "</div>"
      ],
      "text/plain": [
       "   Price  Quantity  Total Sales  Category  Payment Method  Customer Location  \\\n",
       "0     60         3          180         3               2                  7   \n",
       "1    100         4          400         2               2                  8   \n",
       "2     60         2          120         3               0                  3   \n",
       "3     60         3          180         3               1                  2   \n",
       "4    150         3          450         2               2                  7   \n",
       "\n",
       "   Status  \n",
       "0       0  \n",
       "1       2  \n",
       "2       0  \n",
       "3       2  \n",
       "4       2  "
      ]
     },
     "execution_count": 13,
     "metadata": {},
     "output_type": "execute_result"
    }
   ],
   "source": [
    "ml_df.head()"
   ]
  },
  {
   "cell_type": "code",
   "execution_count": 14,
   "id": "624db531",
   "metadata": {
    "execution": {
     "iopub.execute_input": "2025-04-11T18:38:43.119716Z",
     "iopub.status.busy": "2025-04-11T18:38:43.119266Z",
     "iopub.status.idle": "2025-04-11T18:38:43.267928Z",
     "shell.execute_reply": "2025-04-11T18:38:43.266913Z"
    },
    "papermill": {
     "duration": 0.16242,
     "end_time": "2025-04-11T18:38:43.269817",
     "exception": false,
     "start_time": "2025-04-11T18:38:43.107397",
     "status": "completed"
    },
    "tags": []
   },
   "outputs": [],
   "source": [
    "from sklearn.model_selection import train_test_split\n",
    "\n",
    "X = ml_df.drop(\"Status\", axis=1)\n",
    "y = ml_df['Status']\n",
    "\n",
    "X_train, X_test, y_train, y_test = train_test_split(X, y, test_size=0.2, random_state=42)"
   ]
  },
  {
   "cell_type": "code",
   "execution_count": 15,
   "id": "3af97aba",
   "metadata": {
    "execution": {
     "iopub.execute_input": "2025-04-11T18:38:43.292977Z",
     "iopub.status.busy": "2025-04-11T18:38:43.292609Z",
     "iopub.status.idle": "2025-04-11T18:38:43.898288Z",
     "shell.execute_reply": "2025-04-11T18:38:43.897476Z"
    },
    "papermill": {
     "duration": 0.620046,
     "end_time": "2025-04-11T18:38:43.899941",
     "exception": false,
     "start_time": "2025-04-11T18:38:43.279895",
     "status": "completed"
    },
    "tags": []
   },
   "outputs": [
    {
     "data": {
      "text/html": [
       "<style>#sk-container-id-1 {color: black;background-color: white;}#sk-container-id-1 pre{padding: 0;}#sk-container-id-1 div.sk-toggleable {background-color: white;}#sk-container-id-1 label.sk-toggleable__label {cursor: pointer;display: block;width: 100%;margin-bottom: 0;padding: 0.3em;box-sizing: border-box;text-align: center;}#sk-container-id-1 label.sk-toggleable__label-arrow:before {content: \"▸\";float: left;margin-right: 0.25em;color: #696969;}#sk-container-id-1 label.sk-toggleable__label-arrow:hover:before {color: black;}#sk-container-id-1 div.sk-estimator:hover label.sk-toggleable__label-arrow:before {color: black;}#sk-container-id-1 div.sk-toggleable__content {max-height: 0;max-width: 0;overflow: hidden;text-align: left;background-color: #f0f8ff;}#sk-container-id-1 div.sk-toggleable__content pre {margin: 0.2em;color: black;border-radius: 0.25em;background-color: #f0f8ff;}#sk-container-id-1 input.sk-toggleable__control:checked~div.sk-toggleable__content {max-height: 200px;max-width: 100%;overflow: auto;}#sk-container-id-1 input.sk-toggleable__control:checked~label.sk-toggleable__label-arrow:before {content: \"▾\";}#sk-container-id-1 div.sk-estimator input.sk-toggleable__control:checked~label.sk-toggleable__label {background-color: #d4ebff;}#sk-container-id-1 div.sk-label input.sk-toggleable__control:checked~label.sk-toggleable__label {background-color: #d4ebff;}#sk-container-id-1 input.sk-hidden--visually {border: 0;clip: rect(1px 1px 1px 1px);clip: rect(1px, 1px, 1px, 1px);height: 1px;margin: -1px;overflow: hidden;padding: 0;position: absolute;width: 1px;}#sk-container-id-1 div.sk-estimator {font-family: monospace;background-color: #f0f8ff;border: 1px dotted black;border-radius: 0.25em;box-sizing: border-box;margin-bottom: 0.5em;}#sk-container-id-1 div.sk-estimator:hover {background-color: #d4ebff;}#sk-container-id-1 div.sk-parallel-item::after {content: \"\";width: 100%;border-bottom: 1px solid gray;flex-grow: 1;}#sk-container-id-1 div.sk-label:hover label.sk-toggleable__label {background-color: #d4ebff;}#sk-container-id-1 div.sk-serial::before {content: \"\";position: absolute;border-left: 1px solid gray;box-sizing: border-box;top: 0;bottom: 0;left: 50%;z-index: 0;}#sk-container-id-1 div.sk-serial {display: flex;flex-direction: column;align-items: center;background-color: white;padding-right: 0.2em;padding-left: 0.2em;position: relative;}#sk-container-id-1 div.sk-item {position: relative;z-index: 1;}#sk-container-id-1 div.sk-parallel {display: flex;align-items: stretch;justify-content: center;background-color: white;position: relative;}#sk-container-id-1 div.sk-item::before, #sk-container-id-1 div.sk-parallel-item::before {content: \"\";position: absolute;border-left: 1px solid gray;box-sizing: border-box;top: 0;bottom: 0;left: 50%;z-index: -1;}#sk-container-id-1 div.sk-parallel-item {display: flex;flex-direction: column;z-index: 1;position: relative;background-color: white;}#sk-container-id-1 div.sk-parallel-item:first-child::after {align-self: flex-end;width: 50%;}#sk-container-id-1 div.sk-parallel-item:last-child::after {align-self: flex-start;width: 50%;}#sk-container-id-1 div.sk-parallel-item:only-child::after {width: 0;}#sk-container-id-1 div.sk-dashed-wrapped {border: 1px dashed gray;margin: 0 0.4em 0.5em 0.4em;box-sizing: border-box;padding-bottom: 0.4em;background-color: white;}#sk-container-id-1 div.sk-label label {font-family: monospace;font-weight: bold;display: inline-block;line-height: 1.2em;}#sk-container-id-1 div.sk-label-container {text-align: center;}#sk-container-id-1 div.sk-container {/* jupyter's `normalize.less` sets `[hidden] { display: none; }` but bootstrap.min.css set `[hidden] { display: none !important; }` so we also need the `!important` here to be able to override the default hidden behavior on the sphinx rendered scikit-learn.org. See: https://github.com/scikit-learn/scikit-learn/issues/21755 */display: inline-block !important;position: relative;}#sk-container-id-1 div.sk-text-repr-fallback {display: none;}</style><div id=\"sk-container-id-1\" class=\"sk-top-container\"><div class=\"sk-text-repr-fallback\"><pre>RandomForestClassifier(random_state=42)</pre><b>In a Jupyter environment, please rerun this cell to show the HTML representation or trust the notebook. <br />On GitHub, the HTML representation is unable to render, please try loading this page with nbviewer.org.</b></div><div class=\"sk-container\" hidden><div class=\"sk-item\"><div class=\"sk-estimator sk-toggleable\"><input class=\"sk-toggleable__control sk-hidden--visually\" id=\"sk-estimator-id-1\" type=\"checkbox\" checked><label for=\"sk-estimator-id-1\" class=\"sk-toggleable__label sk-toggleable__label-arrow\">RandomForestClassifier</label><div class=\"sk-toggleable__content\"><pre>RandomForestClassifier(random_state=42)</pre></div></div></div></div></div>"
      ],
      "text/plain": [
       "RandomForestClassifier(random_state=42)"
      ]
     },
     "execution_count": 15,
     "metadata": {},
     "output_type": "execute_result"
    }
   ],
   "source": [
    "from sklearn.ensemble import RandomForestClassifier\n",
    "\n",
    "model = RandomForestClassifier(random_state=42)\n",
    "model.fit(X_train, y_train)"
   ]
  },
  {
   "cell_type": "code",
   "execution_count": 16,
   "id": "f9e260d0",
   "metadata": {
    "execution": {
     "iopub.execute_input": "2025-04-11T18:38:43.921886Z",
     "iopub.status.busy": "2025-04-11T18:38:43.921549Z",
     "iopub.status.idle": "2025-04-11T18:38:43.946774Z",
     "shell.execute_reply": "2025-04-11T18:38:43.945518Z"
    },
    "papermill": {
     "duration": 0.03851,
     "end_time": "2025-04-11T18:38:43.948748",
     "exception": false,
     "start_time": "2025-04-11T18:38:43.910238",
     "status": "completed"
    },
    "tags": []
   },
   "outputs": [
    {
     "name": "stdout",
     "output_type": "stream",
     "text": [
      "Accuracy:  0.26\n",
      "Classification report:\n",
      "              precision    recall  f1-score   support\n",
      "\n",
      "           0       0.29      0.38      0.32        16\n",
      "           1       0.13      0.12      0.12        17\n",
      "           2       0.36      0.29      0.32        17\n",
      "\n",
      "    accuracy                           0.26        50\n",
      "   macro avg       0.26      0.26      0.26        50\n",
      "weighted avg       0.26      0.26      0.26        50\n",
      "\n"
     ]
    }
   ],
   "source": [
    "from sklearn.metrics import classification_report, accuracy_score\n",
    "\n",
    "y_pred = model.predict(X_test)\n",
    "\n",
    "print(\"Accuracy: \", accuracy_score(y_test, y_pred))\n",
    "print(\"Classification report:\")\n",
    "print(classification_report(y_test, y_pred))"
   ]
  },
  {
   "cell_type": "code",
   "execution_count": 17,
   "id": "463e54fb",
   "metadata": {
    "execution": {
     "iopub.execute_input": "2025-04-11T18:38:43.970815Z",
     "iopub.status.busy": "2025-04-11T18:38:43.970423Z",
     "iopub.status.idle": "2025-04-11T18:38:43.982995Z",
     "shell.execute_reply": "2025-04-11T18:38:43.982020Z"
    },
    "papermill": {
     "duration": 0.025247,
     "end_time": "2025-04-11T18:38:43.984582",
     "exception": false,
     "start_time": "2025-04-11T18:38:43.959335",
     "status": "completed"
    },
    "tags": []
   },
   "outputs": [
    {
     "name": "stderr",
     "output_type": "stream",
     "text": [
      "/tmp/ipykernel_13/62254960.py:14: SettingWithCopyWarning: \n",
      "A value is trying to be set on a copy of a slice from a DataFrame.\n",
      "Try using .loc[row_indexer,col_indexer] = value instead\n",
      "\n",
      "See the caveats in the documentation: https://pandas.pydata.org/pandas-docs/stable/user_guide/indexing.html#returning-a-view-versus-a-copy\n",
      "  ml_df[\"Category\"] = le_category.fit_transform(ml_df[\"Category\"])\n",
      "/tmp/ipykernel_13/62254960.py:15: SettingWithCopyWarning: \n",
      "A value is trying to be set on a copy of a slice from a DataFrame.\n",
      "Try using .loc[row_indexer,col_indexer] = value instead\n",
      "\n",
      "See the caveats in the documentation: https://pandas.pydata.org/pandas-docs/stable/user_guide/indexing.html#returning-a-view-versus-a-copy\n",
      "  ml_df[\"Payment Method\"] = le_payment.fit_transform(ml_df[\"Payment Method\"])\n",
      "/tmp/ipykernel_13/62254960.py:16: SettingWithCopyWarning: \n",
      "A value is trying to be set on a copy of a slice from a DataFrame.\n",
      "Try using .loc[row_indexer,col_indexer] = value instead\n",
      "\n",
      "See the caveats in the documentation: https://pandas.pydata.org/pandas-docs/stable/user_guide/indexing.html#returning-a-view-versus-a-copy\n",
      "  ml_df[\"Customer Location\"] = le_location.fit_transform(ml_df[\"Customer Location\"])\n",
      "/tmp/ipykernel_13/62254960.py:17: SettingWithCopyWarning: \n",
      "A value is trying to be set on a copy of a slice from a DataFrame.\n",
      "Try using .loc[row_indexer,col_indexer] = value instead\n",
      "\n",
      "See the caveats in the documentation: https://pandas.pydata.org/pandas-docs/stable/user_guide/indexing.html#returning-a-view-versus-a-copy\n",
      "  ml_df[\"Status\"] = le_status.fit_transform(ml_df[\"Status\"])\n"
     ]
    }
   ],
   "source": [
    "# Create a new feature: Price Per Unit\n",
    "df[\"Price Per Unit\"] = df[\"Total Sales\"] / df[\"Quantity\"]\n",
    "\n",
    "# Encode again with the new feature\n",
    "ml_df = df[[\"Price\", \"Quantity\", \"Total Sales\", \"Price Per Unit\", \"Category\", \"Payment Method\", \"Customer Location\", \"Status\"]]\n",
    "\n",
    "from sklearn.preprocessing import LabelEncoder\n",
    "\n",
    "le_category = LabelEncoder()\n",
    "le_payment = LabelEncoder()\n",
    "le_location = LabelEncoder()\n",
    "le_status = LabelEncoder()\n",
    "\n",
    "ml_df[\"Category\"] = le_category.fit_transform(ml_df[\"Category\"])\n",
    "ml_df[\"Payment Method\"] = le_payment.fit_transform(ml_df[\"Payment Method\"])\n",
    "ml_df[\"Customer Location\"] = le_location.fit_transform(ml_df[\"Customer Location\"])\n",
    "ml_df[\"Status\"] = le_status.fit_transform(ml_df[\"Status\"])\n"
   ]
  },
  {
   "cell_type": "code",
   "execution_count": 18,
   "id": "8f8e1390",
   "metadata": {
    "execution": {
     "iopub.execute_input": "2025-04-11T18:38:44.007534Z",
     "iopub.status.busy": "2025-04-11T18:38:44.007155Z",
     "iopub.status.idle": "2025-04-11T18:38:44.188755Z",
     "shell.execute_reply": "2025-04-11T18:38:44.187310Z"
    },
    "papermill": {
     "duration": 0.195013,
     "end_time": "2025-04-11T18:38:44.190425",
     "exception": false,
     "start_time": "2025-04-11T18:38:43.995412",
     "status": "completed"
    },
    "tags": []
   },
   "outputs": [
    {
     "name": "stdout",
     "output_type": "stream",
     "text": [
      "Accuracy: 0.28\n",
      "Classification Report:\n",
      "              precision    recall  f1-score   support\n",
      "\n",
      "           0       0.35      0.44      0.39        16\n",
      "           1       0.13      0.12      0.12        17\n",
      "           2       0.33      0.29      0.31        17\n",
      "\n",
      "    accuracy                           0.28        50\n",
      "   macro avg       0.27      0.28      0.28        50\n",
      "weighted avg       0.27      0.28      0.27        50\n",
      "\n"
     ]
    }
   ],
   "source": [
    "from sklearn.model_selection import train_test_split\n",
    "from sklearn.ensemble import RandomForestClassifier\n",
    "from sklearn.metrics import classification_report, accuracy_score\n",
    "\n",
    "X = ml_df.drop(\"Status\", axis=1)\n",
    "y = ml_df[\"Status\"]\n",
    "\n",
    "X_train, X_test, y_train, y_test = train_test_split(X, y, test_size=0.2, random_state=42)\n",
    "\n",
    "model = RandomForestClassifier(random_state=42)\n",
    "model.fit(X_train, y_train)\n",
    "\n",
    "y_pred = model.predict(X_test)\n",
    "\n",
    "print(\"Accuracy:\", accuracy_score(y_test, y_pred))\n",
    "print(\"Classification Report:\")\n",
    "print(classification_report(y_test, y_pred))\n"
   ]
  },
  {
   "cell_type": "code",
   "execution_count": 19,
   "id": "f32de8b3",
   "metadata": {
    "execution": {
     "iopub.execute_input": "2025-04-11T18:38:44.216180Z",
     "iopub.status.busy": "2025-04-11T18:38:44.215873Z",
     "iopub.status.idle": "2025-04-11T18:38:44.315364Z",
     "shell.execute_reply": "2025-04-11T18:38:44.313254Z"
    },
    "papermill": {
     "duration": 0.114889,
     "end_time": "2025-04-11T18:38:44.317579",
     "exception": false,
     "start_time": "2025-04-11T18:38:44.202690",
     "status": "completed"
    },
    "tags": []
   },
   "outputs": [
    {
     "name": "stdout",
     "output_type": "stream",
     "text": [
      "Logistic Regression Accuracy: 0.34\n",
      "              precision    recall  f1-score   support\n",
      "\n",
      "           0       0.50      0.31      0.38        16\n",
      "           1       0.25      0.35      0.29        17\n",
      "           2       0.38      0.35      0.36        17\n",
      "\n",
      "    accuracy                           0.34        50\n",
      "   macro avg       0.38      0.34      0.35        50\n",
      "weighted avg       0.37      0.34      0.35        50\n",
      "\n"
     ]
    }
   ],
   "source": [
    "from sklearn.linear_model import LogisticRegression\n",
    "\n",
    "log_model = LogisticRegression(max_iter=1000)\n",
    "log_model.fit(X_train, y_train)\n",
    "y_pred_log = log_model.predict(X_test)\n",
    "\n",
    "print(\"Logistic Regression Accuracy:\", accuracy_score(y_test, y_pred_log))\n",
    "print(classification_report(y_test, y_pred_log))\n"
   ]
  },
  {
   "cell_type": "code",
   "execution_count": 20,
   "id": "8e776643",
   "metadata": {
    "execution": {
     "iopub.execute_input": "2025-04-11T18:38:44.354261Z",
     "iopub.status.busy": "2025-04-11T18:38:44.353931Z",
     "iopub.status.idle": "2025-04-11T18:38:44.367019Z",
     "shell.execute_reply": "2025-04-11T18:38:44.366221Z"
    },
    "papermill": {
     "duration": 0.032693,
     "end_time": "2025-04-11T18:38:44.368939",
     "exception": false,
     "start_time": "2025-04-11T18:38:44.336246",
     "status": "completed"
    },
    "tags": []
   },
   "outputs": [
    {
     "data": {
      "text/plain": [
       "High Spender\n",
       "0    176\n",
       "1     74\n",
       "Name: count, dtype: int64"
      ]
     },
     "execution_count": 20,
     "metadata": {},
     "output_type": "execute_result"
    }
   ],
   "source": [
    "# Step 1: Create the binary target\n",
    "df[\"High Spender\"] = df[\"Total Sales\"].apply(lambda x: 1 if x > 1000 else 0)\n",
    "\n",
    "# Let's see the distribution\n",
    "df[\"High Spender\"].value_counts()\n"
   ]
  },
  {
   "cell_type": "code",
   "execution_count": 21,
   "id": "d16e3ea9",
   "metadata": {
    "execution": {
     "iopub.execute_input": "2025-04-11T18:38:44.405935Z",
     "iopub.status.busy": "2025-04-11T18:38:44.405577Z",
     "iopub.status.idle": "2025-04-11T18:38:44.414287Z",
     "shell.execute_reply": "2025-04-11T18:38:44.413511Z"
    },
    "papermill": {
     "duration": 0.029825,
     "end_time": "2025-04-11T18:38:44.416657",
     "exception": false,
     "start_time": "2025-04-11T18:38:44.386832",
     "status": "completed"
    },
    "tags": []
   },
   "outputs": [],
   "source": [
    "# Create a new feature: Price Per Unit\n",
    "df[\"Price Per Unit\"] = df[\"Total Sales\"] / df[\"Quantity\"]\n",
    "\n",
    "# Select features\n",
    "features = [\"Price\", \"Quantity\", \"Total Sales\", \"Price Per Unit\", \"Category\", \"Payment Method\", \"Customer Location\"]\n",
    "target = \"High Spender\"\n",
    "\n",
    "ml_df = df[features + [target]]\n"
   ]
  },
  {
   "cell_type": "code",
   "execution_count": 22,
   "id": "fcd0f191",
   "metadata": {
    "execution": {
     "iopub.execute_input": "2025-04-11T18:38:44.441798Z",
     "iopub.status.busy": "2025-04-11T18:38:44.441397Z",
     "iopub.status.idle": "2025-04-11T18:38:44.449531Z",
     "shell.execute_reply": "2025-04-11T18:38:44.448551Z"
    },
    "papermill": {
     "duration": 0.021437,
     "end_time": "2025-04-11T18:38:44.451111",
     "exception": false,
     "start_time": "2025-04-11T18:38:44.429674",
     "status": "completed"
    },
    "tags": []
   },
   "outputs": [
    {
     "name": "stderr",
     "output_type": "stream",
     "text": [
      "/tmp/ipykernel_13/3671505921.py:7: SettingWithCopyWarning: \n",
      "A value is trying to be set on a copy of a slice from a DataFrame.\n",
      "Try using .loc[row_indexer,col_indexer] = value instead\n",
      "\n",
      "See the caveats in the documentation: https://pandas.pydata.org/pandas-docs/stable/user_guide/indexing.html#returning-a-view-versus-a-copy\n",
      "  ml_df[\"Category\"] = le_cat.fit_transform(ml_df[\"Category\"])\n",
      "/tmp/ipykernel_13/3671505921.py:8: SettingWithCopyWarning: \n",
      "A value is trying to be set on a copy of a slice from a DataFrame.\n",
      "Try using .loc[row_indexer,col_indexer] = value instead\n",
      "\n",
      "See the caveats in the documentation: https://pandas.pydata.org/pandas-docs/stable/user_guide/indexing.html#returning-a-view-versus-a-copy\n",
      "  ml_df[\"Payment Method\"] = le_pay.fit_transform(ml_df[\"Payment Method\"])\n",
      "/tmp/ipykernel_13/3671505921.py:9: SettingWithCopyWarning: \n",
      "A value is trying to be set on a copy of a slice from a DataFrame.\n",
      "Try using .loc[row_indexer,col_indexer] = value instead\n",
      "\n",
      "See the caveats in the documentation: https://pandas.pydata.org/pandas-docs/stable/user_guide/indexing.html#returning-a-view-versus-a-copy\n",
      "  ml_df[\"Customer Location\"] = le_loc.fit_transform(ml_df[\"Customer Location\"])\n"
     ]
    }
   ],
   "source": [
    "from sklearn.preprocessing import LabelEncoder\n",
    "\n",
    "le_cat = LabelEncoder()\n",
    "le_pay = LabelEncoder()\n",
    "le_loc = LabelEncoder()\n",
    "\n",
    "ml_df[\"Category\"] = le_cat.fit_transform(ml_df[\"Category\"])\n",
    "ml_df[\"Payment Method\"] = le_pay.fit_transform(ml_df[\"Payment Method\"])\n",
    "ml_df[\"Customer Location\"] = le_loc.fit_transform(ml_df[\"Customer Location\"])\n"
   ]
  },
  {
   "cell_type": "code",
   "execution_count": 23,
   "id": "745f17dc",
   "metadata": {
    "execution": {
     "iopub.execute_input": "2025-04-11T18:38:44.476073Z",
     "iopub.status.busy": "2025-04-11T18:38:44.475178Z",
     "iopub.status.idle": "2025-04-11T18:38:44.483251Z",
     "shell.execute_reply": "2025-04-11T18:38:44.482387Z"
    },
    "papermill": {
     "duration": 0.021751,
     "end_time": "2025-04-11T18:38:44.484871",
     "exception": false,
     "start_time": "2025-04-11T18:38:44.463120",
     "status": "completed"
    },
    "tags": []
   },
   "outputs": [],
   "source": [
    "from sklearn.model_selection import train_test_split\n",
    "\n",
    "X = ml_df.drop(target, axis=1)\n",
    "y = ml_df[target]\n",
    "\n",
    "X_train, X_test, y_train, y_test = train_test_split(X, y, test_size=0.2, random_state=42)\n"
   ]
  },
  {
   "cell_type": "code",
   "execution_count": 24,
   "id": "c136760c",
   "metadata": {
    "execution": {
     "iopub.execute_input": "2025-04-11T18:38:44.512416Z",
     "iopub.status.busy": "2025-04-11T18:38:44.512109Z",
     "iopub.status.idle": "2025-04-11T18:38:44.665509Z",
     "shell.execute_reply": "2025-04-11T18:38:44.664403Z"
    },
    "papermill": {
     "duration": 0.169639,
     "end_time": "2025-04-11T18:38:44.667290",
     "exception": false,
     "start_time": "2025-04-11T18:38:44.497651",
     "status": "completed"
    },
    "tags": []
   },
   "outputs": [
    {
     "data": {
      "text/html": [
       "<style>#sk-container-id-2 {color: black;background-color: white;}#sk-container-id-2 pre{padding: 0;}#sk-container-id-2 div.sk-toggleable {background-color: white;}#sk-container-id-2 label.sk-toggleable__label {cursor: pointer;display: block;width: 100%;margin-bottom: 0;padding: 0.3em;box-sizing: border-box;text-align: center;}#sk-container-id-2 label.sk-toggleable__label-arrow:before {content: \"▸\";float: left;margin-right: 0.25em;color: #696969;}#sk-container-id-2 label.sk-toggleable__label-arrow:hover:before {color: black;}#sk-container-id-2 div.sk-estimator:hover label.sk-toggleable__label-arrow:before {color: black;}#sk-container-id-2 div.sk-toggleable__content {max-height: 0;max-width: 0;overflow: hidden;text-align: left;background-color: #f0f8ff;}#sk-container-id-2 div.sk-toggleable__content pre {margin: 0.2em;color: black;border-radius: 0.25em;background-color: #f0f8ff;}#sk-container-id-2 input.sk-toggleable__control:checked~div.sk-toggleable__content {max-height: 200px;max-width: 100%;overflow: auto;}#sk-container-id-2 input.sk-toggleable__control:checked~label.sk-toggleable__label-arrow:before {content: \"▾\";}#sk-container-id-2 div.sk-estimator input.sk-toggleable__control:checked~label.sk-toggleable__label {background-color: #d4ebff;}#sk-container-id-2 div.sk-label input.sk-toggleable__control:checked~label.sk-toggleable__label {background-color: #d4ebff;}#sk-container-id-2 input.sk-hidden--visually {border: 0;clip: rect(1px 1px 1px 1px);clip: rect(1px, 1px, 1px, 1px);height: 1px;margin: -1px;overflow: hidden;padding: 0;position: absolute;width: 1px;}#sk-container-id-2 div.sk-estimator {font-family: monospace;background-color: #f0f8ff;border: 1px dotted black;border-radius: 0.25em;box-sizing: border-box;margin-bottom: 0.5em;}#sk-container-id-2 div.sk-estimator:hover {background-color: #d4ebff;}#sk-container-id-2 div.sk-parallel-item::after {content: \"\";width: 100%;border-bottom: 1px solid gray;flex-grow: 1;}#sk-container-id-2 div.sk-label:hover label.sk-toggleable__label {background-color: #d4ebff;}#sk-container-id-2 div.sk-serial::before {content: \"\";position: absolute;border-left: 1px solid gray;box-sizing: border-box;top: 0;bottom: 0;left: 50%;z-index: 0;}#sk-container-id-2 div.sk-serial {display: flex;flex-direction: column;align-items: center;background-color: white;padding-right: 0.2em;padding-left: 0.2em;position: relative;}#sk-container-id-2 div.sk-item {position: relative;z-index: 1;}#sk-container-id-2 div.sk-parallel {display: flex;align-items: stretch;justify-content: center;background-color: white;position: relative;}#sk-container-id-2 div.sk-item::before, #sk-container-id-2 div.sk-parallel-item::before {content: \"\";position: absolute;border-left: 1px solid gray;box-sizing: border-box;top: 0;bottom: 0;left: 50%;z-index: -1;}#sk-container-id-2 div.sk-parallel-item {display: flex;flex-direction: column;z-index: 1;position: relative;background-color: white;}#sk-container-id-2 div.sk-parallel-item:first-child::after {align-self: flex-end;width: 50%;}#sk-container-id-2 div.sk-parallel-item:last-child::after {align-self: flex-start;width: 50%;}#sk-container-id-2 div.sk-parallel-item:only-child::after {width: 0;}#sk-container-id-2 div.sk-dashed-wrapped {border: 1px dashed gray;margin: 0 0.4em 0.5em 0.4em;box-sizing: border-box;padding-bottom: 0.4em;background-color: white;}#sk-container-id-2 div.sk-label label {font-family: monospace;font-weight: bold;display: inline-block;line-height: 1.2em;}#sk-container-id-2 div.sk-label-container {text-align: center;}#sk-container-id-2 div.sk-container {/* jupyter's `normalize.less` sets `[hidden] { display: none; }` but bootstrap.min.css set `[hidden] { display: none !important; }` so we also need the `!important` here to be able to override the default hidden behavior on the sphinx rendered scikit-learn.org. See: https://github.com/scikit-learn/scikit-learn/issues/21755 */display: inline-block !important;position: relative;}#sk-container-id-2 div.sk-text-repr-fallback {display: none;}</style><div id=\"sk-container-id-2\" class=\"sk-top-container\"><div class=\"sk-text-repr-fallback\"><pre>RandomForestClassifier(random_state=42)</pre><b>In a Jupyter environment, please rerun this cell to show the HTML representation or trust the notebook. <br />On GitHub, the HTML representation is unable to render, please try loading this page with nbviewer.org.</b></div><div class=\"sk-container\" hidden><div class=\"sk-item\"><div class=\"sk-estimator sk-toggleable\"><input class=\"sk-toggleable__control sk-hidden--visually\" id=\"sk-estimator-id-2\" type=\"checkbox\" checked><label for=\"sk-estimator-id-2\" class=\"sk-toggleable__label sk-toggleable__label-arrow\">RandomForestClassifier</label><div class=\"sk-toggleable__content\"><pre>RandomForestClassifier(random_state=42)</pre></div></div></div></div></div>"
      ],
      "text/plain": [
       "RandomForestClassifier(random_state=42)"
      ]
     },
     "execution_count": 24,
     "metadata": {},
     "output_type": "execute_result"
    }
   ],
   "source": [
    "from sklearn.ensemble import RandomForestClassifier\n",
    "\n",
    "model1 = RandomForestClassifier(random_state=42)\n",
    "model1.fit(X_train, y_train)\n"
   ]
  },
  {
   "cell_type": "code",
   "execution_count": 25,
   "id": "13fd3f5b",
   "metadata": {
    "execution": {
     "iopub.execute_input": "2025-04-11T18:38:44.692318Z",
     "iopub.status.busy": "2025-04-11T18:38:44.692007Z",
     "iopub.status.idle": "2025-04-11T18:38:44.713691Z",
     "shell.execute_reply": "2025-04-11T18:38:44.712543Z"
    },
    "papermill": {
     "duration": 0.036049,
     "end_time": "2025-04-11T18:38:44.715624",
     "exception": false,
     "start_time": "2025-04-11T18:38:44.679575",
     "status": "completed"
    },
    "tags": []
   },
   "outputs": [
    {
     "name": "stdout",
     "output_type": "stream",
     "text": [
      "🎯 Accuracy: 1.0\n",
      "📋 Classification Report:\n",
      "              precision    recall  f1-score   support\n",
      "\n",
      "           0       1.00      1.00      1.00        37\n",
      "           1       1.00      1.00      1.00        13\n",
      "\n",
      "    accuracy                           1.00        50\n",
      "   macro avg       1.00      1.00      1.00        50\n",
      "weighted avg       1.00      1.00      1.00        50\n",
      "\n"
     ]
    }
   ],
   "source": [
    "from sklearn.metrics import accuracy_score, classification_report\n",
    "\n",
    "y_pred1 = model1.predict(X_test)\n",
    "\n",
    "print(\"🎯 Accuracy:\", accuracy_score(y_test, y_pred1))\n",
    "print(\"📋 Classification Report:\")\n",
    "print(classification_report(y_test, y_pred1))\n"
   ]
  },
  {
   "cell_type": "code",
   "execution_count": 26,
   "id": "99503457",
   "metadata": {
    "execution": {
     "iopub.execute_input": "2025-04-11T18:38:44.739963Z",
     "iopub.status.busy": "2025-04-11T18:38:44.739669Z",
     "iopub.status.idle": "2025-04-11T18:38:44.967705Z",
     "shell.execute_reply": "2025-04-11T18:38:44.966573Z"
    },
    "papermill": {
     "duration": 0.242061,
     "end_time": "2025-04-11T18:38:44.969457",
     "exception": false,
     "start_time": "2025-04-11T18:38:44.727396",
     "status": "completed"
    },
    "tags": []
   },
   "outputs": [
    {
     "data": {
      "image/png": "[encoded data removed]",
      "text/plain": [
       "<Figure size 640x480 with 2 Axes>"
      ]
     },
     "metadata": {},
     "output_type": "display_data"
    }
   ],
   "source": [
    "from sklearn.metrics import ConfusionMatrixDisplay\n",
    "import matplotlib.pyplot as plt\n",
    "\n",
    "ConfusionMatrixDisplay.from_estimator(model, X_test, y_test, cmap=\"Blues\")\n",
    "plt.title(\"Confusion Matrix - High Spender Prediction\")\n",
    "plt.show()\n"
   ]
  },
  {
   "cell_type": "code",
   "execution_count": 27,
   "id": "5ac2dff4",
   "metadata": {
    "execution": {
     "iopub.execute_input": "2025-04-11T18:38:44.994860Z",
     "iopub.status.busy": "2025-04-11T18:38:44.994570Z",
     "iopub.status.idle": "2025-04-11T18:38:45.006687Z",
     "shell.execute_reply": "2025-04-11T18:38:45.005782Z"
    },
    "papermill": {
     "duration": 0.026622,
     "end_time": "2025-04-11T18:38:45.008251",
     "exception": false,
     "start_time": "2025-04-11T18:38:44.981629",
     "status": "completed"
    },
    "tags": []
   },
   "outputs": [],
   "source": [
    "\n",
    "df.to_csv(\"/kaggle/working/amazon_sales_processed.csv\", index=False)\n"
   ]
  },
  {
   "cell_type": "code",
   "execution_count": null,
   "id": "107de5dc",
   "metadata": {
    "papermill": {
     "duration": 0.011403,
     "end_time": "2025-04-11T18:38:45.031953",
     "exception": false,
     "start_time": "2025-04-11T18:38:45.020550",
     "status": "completed"
    },
    "tags": []
   },
   "outputs": [],
   "source": []
  }
 ],
 "metadata": {
  "kaggle": {
   "accelerator": "none",
   "dataSources": [
    {
     "datasetId": 7043791,
     "sourceId": 11268405,
     "sourceType": "datasetVersion"
    }
   ],
   "dockerImageVersionId": 31012,
   "isGpuEnabled": false,
   "isInternetEnabled": true,
   "language": "python",
   "sourceType": "notebook"
  },
  "kernelspec": {
   "display_name": "Python 3",
   "language": "python",
   "name": "python3"
  },
  "language_info": {
   "codemirror_mode": {
    "name": "ipython",
    "version": 3
   },
   "file_extension": ".py",
   "mimetype": "text/x-python",
   "name": "python",
   "nbconvert_exporter": "python",
   "pygments_lexer": "ipython3",
   "version": "3.11.11"
  },
  "papermill": {
   "default_parameters": {},
   "duration": 14.329207,
   "end_time": "2025-04-11T18:38:45.866109",
   "environment_variables": {},
   "exception": null,
   "input_path": "__notebook__.ipynb",
   "output_path": "__notebook__.ipynb",
   "parameters": {},
   "start_time": "2025-04-11T18:38:31.536902",
   "version": "2.6.0"
  }
 },
 "nbformat": 4,
 "nbformat_minor": 5
}
