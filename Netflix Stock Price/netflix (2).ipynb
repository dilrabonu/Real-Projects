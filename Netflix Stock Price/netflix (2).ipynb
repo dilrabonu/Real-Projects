{
 "cells": [
  {
   "cell_type": "code",
   "execution_count": 1,
   "id": "10972826",
   "metadata": {
    "_cell_guid": "b1076dfc-b9ad-4769-8c92-a6c4dae69d19",
    "_uuid": "8f2839f25d086af736a60e9eeb907d3b93b6e0e5",
    "execution": {
     "iopub.execute_input": "2025-03-27T16:55:09.819443Z",
     "iopub.status.busy": "2025-03-27T16:55:09.819085Z",
     "iopub.status.idle": "2025-03-27T16:55:10.823565Z",
     "shell.execute_reply": "2025-03-27T16:55:10.821909Z"
    },
    "papermill": {
     "duration": 1.01695,
     "end_time": "2025-03-27T16:55:10.826692",
     "exception": false,
     "start_time": "2025-03-27T16:55:09.809742",
     "status": "completed"
    },
    "tags": []
   },
   "outputs": [
    {
     "name": "stdout",
     "output_type": "stream",
     "text": [
      "/kaggle/input/netflix-stock-price-2002-2025/Netflix Inc. (NFLX) Stock Price 2002-2025.csv\n"
     ]
    }
   ],
   "source": [
    "# This Python 3 environment comes with many helpful analytics libraries installed\n",
    "# It is defined by the kaggle/python Docker image: https://github.com/kaggle/docker-python\n",
    "# For example, here's several helpful packages to load\n",
    "\n",
    "import numpy as np # linear algebra\n",
    "import pandas as pd # data processing, CSV file I/O (e.g. pd.read_csv)\n",
    "\n",
    "# Input data files are available in the read-only \"../input/\" directory\n",
    "# For example, running this (by clicking run or pressing Shift+Enter) will list all files under the input directory\n",
    "\n",
    "import os\n",
    "for dirname, _, filenames in os.walk('/kaggle/input'):\n",
    "    for filename in filenames:\n",
    "        print(os.path.join(dirname, filename))\n",
    "\n",
    "# You can write up to 20GB to the current directory (/kaggle/working/) that gets preserved as output when you create a version using \"Save & Run All\" \n",
    "# You can also write temporary files to /kaggle/temp/, but they won't be saved outside of the current session"
   ]
  },
  {
   "cell_type": "code",
   "execution_count": 2,
   "id": "90769c03",
   "metadata": {
    "execution": {
     "iopub.execute_input": "2025-03-27T16:55:10.848915Z",
     "iopub.status.busy": "2025-03-27T16:55:10.848235Z",
     "iopub.status.idle": "2025-03-27T16:55:10.915863Z",
     "shell.execute_reply": "2025-03-27T16:55:10.914635Z"
    },
    "papermill": {
     "duration": 0.081625,
     "end_time": "2025-03-27T16:55:10.918104",
     "exception": false,
     "start_time": "2025-03-27T16:55:10.836479",
     "status": "completed"
    },
    "tags": []
   },
   "outputs": [
    {
     "data": {
      "text/html": [
       "<div>\n",
       "<style scoped>\n",
       "    .dataframe tbody tr th:only-of-type {\n",
       "        vertical-align: middle;\n",
       "    }\n",
       "\n",
       "    .dataframe tbody tr th {\n",
       "        vertical-align: top;\n",
       "    }\n",
       "\n",
       "    .dataframe thead th {\n",
       "        text-align: right;\n",
       "    }\n",
       "</style>\n",
       "<table border=\"1\" class=\"dataframe\">\n",
       "  <thead>\n",
       "    <tr style=\"text-align: right;\">\n",
       "      <th></th>\n",
       "      <th>Date</th>\n",
       "      <th>Open</th>\n",
       "      <th>High</th>\n",
       "      <th>Low</th>\n",
       "      <th>Close</th>\n",
       "      <th>Adj Close</th>\n",
       "      <th>Volume</th>\n",
       "    </tr>\n",
       "  </thead>\n",
       "  <tbody>\n",
       "    <tr>\n",
       "      <th>0</th>\n",
       "      <td>Feb 25, 2025</td>\n",
       "      <td>989.4</td>\n",
       "      <td>994.4</td>\n",
       "      <td>955</td>\n",
       "      <td>977.24</td>\n",
       "      <td>977.24</td>\n",
       "      <td>4,733,000</td>\n",
       "    </tr>\n",
       "    <tr>\n",
       "      <th>1</th>\n",
       "      <td>Feb 24, 2025</td>\n",
       "      <td>1,008.00</td>\n",
       "      <td>1,015.17</td>\n",
       "      <td>984.48</td>\n",
       "      <td>988.47</td>\n",
       "      <td>988.47</td>\n",
       "      <td>4,426,200</td>\n",
       "    </tr>\n",
       "    <tr>\n",
       "      <th>2</th>\n",
       "      <td>Feb 21, 2025</td>\n",
       "      <td>1,029.42</td>\n",
       "      <td>1,032.38</td>\n",
       "      <td>999.39</td>\n",
       "      <td>1,003.15</td>\n",
       "      <td>1,003.15</td>\n",
       "      <td>3,738,700</td>\n",
       "    </tr>\n",
       "    <tr>\n",
       "      <th>3</th>\n",
       "      <td>Feb 20, 2025</td>\n",
       "      <td>1,042.00</td>\n",
       "      <td>1,045.00</td>\n",
       "      <td>1,015.59</td>\n",
       "      <td>1,024.54</td>\n",
       "      <td>1,024.54</td>\n",
       "      <td>3,111,800</td>\n",
       "    </tr>\n",
       "    <tr>\n",
       "      <th>4</th>\n",
       "      <td>Feb 19, 2025</td>\n",
       "      <td>1,035.18</td>\n",
       "      <td>1,045.00</td>\n",
       "      <td>1,024.51</td>\n",
       "      <td>1,043.33</td>\n",
       "      <td>1,043.33</td>\n",
       "      <td>2,600,000</td>\n",
       "    </tr>\n",
       "  </tbody>\n",
       "</table>\n",
       "</div>"
      ],
      "text/plain": [
       "           Date     Open       High       Low     Close Adj Close     Volume\n",
       "0  Feb 25, 2025     989.4     994.4       955    977.24    977.24  4,733,000\n",
       "1  Feb 24, 2025  1,008.00  1,015.17    984.48    988.47    988.47  4,426,200\n",
       "2  Feb 21, 2025  1,029.42  1,032.38    999.39  1,003.15  1,003.15  3,738,700\n",
       "3  Feb 20, 2025  1,042.00  1,045.00  1,015.59  1,024.54  1,024.54  3,111,800\n",
       "4  Feb 19, 2025  1,035.18  1,045.00  1,024.51  1,043.33  1,043.33  2,600,000"
      ]
     },
     "execution_count": 2,
     "metadata": {},
     "output_type": "execute_result"
    }
   ],
   "source": [
    "df = pd.read_csv(\"/kaggle/input/netflix-stock-price-2002-2025/Netflix Inc. (NFLX) Stock Price 2002-2025.csv\")\n",
    "df.head()"
   ]
  },
  {
   "cell_type": "code",
   "execution_count": 3,
   "id": "851318ca",
   "metadata": {
    "execution": {
     "iopub.execute_input": "2025-03-27T16:55:10.935375Z",
     "iopub.status.busy": "2025-03-27T16:55:10.935048Z",
     "iopub.status.idle": "2025-03-27T16:55:10.945865Z",
     "shell.execute_reply": "2025-03-27T16:55:10.944616Z"
    },
    "papermill": {
     "duration": 0.021398,
     "end_time": "2025-03-27T16:55:10.947715",
     "exception": false,
     "start_time": "2025-03-27T16:55:10.926317",
     "status": "completed"
    },
    "tags": []
   },
   "outputs": [
    {
     "data": {
      "text/plain": [
       "Date         0\n",
       "Open         0\n",
       "High         2\n",
       "Low          2\n",
       "Close        2\n",
       "Adj Close    2\n",
       "Volume       2\n",
       "dtype: int64"
      ]
     },
     "execution_count": 3,
     "metadata": {},
     "output_type": "execute_result"
    }
   ],
   "source": [
    "df.isnull().sum()"
   ]
  },
  {
   "cell_type": "code",
   "execution_count": 4,
   "id": "edefb466",
   "metadata": {
    "execution": {
     "iopub.execute_input": "2025-03-27T16:55:10.965283Z",
     "iopub.status.busy": "2025-03-27T16:55:10.964972Z",
     "iopub.status.idle": "2025-03-27T16:55:10.984702Z",
     "shell.execute_reply": "2025-03-27T16:55:10.983537Z"
    },
    "papermill": {
     "duration": 0.030465,
     "end_time": "2025-03-27T16:55:10.986584",
     "exception": false,
     "start_time": "2025-03-27T16:55:10.956119",
     "status": "completed"
    },
    "tags": []
   },
   "outputs": [
    {
     "data": {
      "text/plain": [
       "0"
      ]
     },
     "execution_count": 4,
     "metadata": {},
     "output_type": "execute_result"
    }
   ],
   "source": [
    "df.duplicated().sum()"
   ]
  },
  {
   "cell_type": "code",
   "execution_count": 5,
   "id": "8b8ed9a5",
   "metadata": {
    "execution": {
     "iopub.execute_input": "2025-03-27T16:55:11.004699Z",
     "iopub.status.busy": "2025-03-27T16:55:11.004198Z",
     "iopub.status.idle": "2025-03-27T16:55:11.055218Z",
     "shell.execute_reply": "2025-03-27T16:55:11.054029Z"
    },
    "papermill": {
     "duration": 0.065399,
     "end_time": "2025-03-27T16:55:11.060248",
     "exception": false,
     "start_time": "2025-03-27T16:55:10.994849",
     "status": "completed"
    },
    "tags": []
   },
   "outputs": [
    {
     "data": {
      "text/html": [
       "<div>\n",
       "<style scoped>\n",
       "    .dataframe tbody tr th:only-of-type {\n",
       "        vertical-align: middle;\n",
       "    }\n",
       "\n",
       "    .dataframe tbody tr th {\n",
       "        vertical-align: top;\n",
       "    }\n",
       "\n",
       "    .dataframe thead th {\n",
       "        text-align: right;\n",
       "    }\n",
       "</style>\n",
       "<table border=\"1\" class=\"dataframe\">\n",
       "  <thead>\n",
       "    <tr style=\"text-align: right;\">\n",
       "      <th></th>\n",
       "      <th>Date</th>\n",
       "      <th>Open</th>\n",
       "      <th>High</th>\n",
       "      <th>Low</th>\n",
       "      <th>Close</th>\n",
       "      <th>Adj Close</th>\n",
       "      <th>Volume</th>\n",
       "    </tr>\n",
       "  </thead>\n",
       "  <tbody>\n",
       "    <tr>\n",
       "      <th>count</th>\n",
       "      <td>5729</td>\n",
       "      <td>5729</td>\n",
       "      <td>5727</td>\n",
       "      <td>5727</td>\n",
       "      <td>5727</td>\n",
       "      <td>5727</td>\n",
       "      <td>5727</td>\n",
       "    </tr>\n",
       "    <tr>\n",
       "      <th>unique</th>\n",
       "      <td>5727</td>\n",
       "      <td>4092</td>\n",
       "      <td>4114</td>\n",
       "      <td>4113</td>\n",
       "      <td>4164</td>\n",
       "      <td>4164</td>\n",
       "      <td>5560</td>\n",
       "    </tr>\n",
       "    <tr>\n",
       "      <th>top</th>\n",
       "      <td>Jul 15, 2015</td>\n",
       "      <td>2.86</td>\n",
       "      <td>4.14</td>\n",
       "      <td>1.61</td>\n",
       "      <td>3.96</td>\n",
       "      <td>3.96</td>\n",
       "      <td>14,634,900</td>\n",
       "    </tr>\n",
       "    <tr>\n",
       "      <th>freq</th>\n",
       "      <td>2</td>\n",
       "      <td>14</td>\n",
       "      <td>15</td>\n",
       "      <td>16</td>\n",
       "      <td>14</td>\n",
       "      <td>14</td>\n",
       "      <td>3</td>\n",
       "    </tr>\n",
       "  </tbody>\n",
       "</table>\n",
       "</div>"
      ],
      "text/plain": [
       "                Date Open   High   Low Close Adj Close      Volume\n",
       "count           5729  5729  5727  5727  5727      5727        5727\n",
       "unique          5727  4092  4114  4113  4164      4164        5560\n",
       "top     Jul 15, 2015  2.86  4.14  1.61  3.96      3.96  14,634,900\n",
       "freq               2    14    15    16    14        14           3"
      ]
     },
     "execution_count": 5,
     "metadata": {},
     "output_type": "execute_result"
    }
   ],
   "source": [
    "df.describe()"
   ]
  },
  {
   "cell_type": "code",
   "execution_count": 6,
   "id": "3496c878",
   "metadata": {
    "execution": {
     "iopub.execute_input": "2025-03-27T16:55:11.081582Z",
     "iopub.status.busy": "2025-03-27T16:55:11.081078Z",
     "iopub.status.idle": "2025-03-27T16:55:11.104933Z",
     "shell.execute_reply": "2025-03-27T16:55:11.103628Z"
    },
    "papermill": {
     "duration": 0.035149,
     "end_time": "2025-03-27T16:55:11.106834",
     "exception": false,
     "start_time": "2025-03-27T16:55:11.071685",
     "status": "completed"
    },
    "tags": []
   },
   "outputs": [
    {
     "name": "stdout",
     "output_type": "stream",
     "text": [
      "<class 'pandas.core.frame.DataFrame'>\n",
      "RangeIndex: 5729 entries, 0 to 5728\n",
      "Data columns (total 7 columns):\n",
      " #   Column     Non-Null Count  Dtype \n",
      "---  ------     --------------  ----- \n",
      " 0   Date       5729 non-null   object\n",
      " 1   Open       5729 non-null   object\n",
      " 2   High       5727 non-null   object\n",
      " 3   Low        5727 non-null   object\n",
      " 4   Close      5727 non-null   object\n",
      " 5   Adj Close  5727 non-null   object\n",
      " 6   Volume     5727 non-null   object\n",
      "dtypes: object(7)\n",
      "memory usage: 313.4+ KB\n"
     ]
    }
   ],
   "source": [
    "df.info()"
   ]
  },
  {
   "cell_type": "code",
   "execution_count": 7,
   "id": "1cc7c88d",
   "metadata": {
    "execution": {
     "iopub.execute_input": "2025-03-27T16:55:11.125262Z",
     "iopub.status.busy": "2025-03-27T16:55:11.124783Z",
     "iopub.status.idle": "2025-03-27T16:55:11.130401Z",
     "shell.execute_reply": "2025-03-27T16:55:11.129322Z"
    },
    "papermill": {
     "duration": 0.016823,
     "end_time": "2025-03-27T16:55:11.132067",
     "exception": false,
     "start_time": "2025-03-27T16:55:11.115244",
     "status": "completed"
    },
    "tags": []
   },
   "outputs": [],
   "source": [
    "df.columns = df.columns.str.strip()"
   ]
  },
  {
   "cell_type": "code",
   "execution_count": 8,
   "id": "f4cb4b8a",
   "metadata": {
    "execution": {
     "iopub.execute_input": "2025-03-27T16:55:11.150674Z",
     "iopub.status.busy": "2025-03-27T16:55:11.150139Z",
     "iopub.status.idle": "2025-03-27T16:55:11.186558Z",
     "shell.execute_reply": "2025-03-27T16:55:11.185310Z"
    },
    "papermill": {
     "duration": 0.047725,
     "end_time": "2025-03-27T16:55:11.188414",
     "exception": false,
     "start_time": "2025-03-27T16:55:11.140689",
     "status": "completed"
    },
    "tags": []
   },
   "outputs": [
    {
     "name": "stdout",
     "output_type": "stream",
     "text": [
      "<class 'pandas.core.frame.DataFrame'>\n",
      "RangeIndex: 5729 entries, 0 to 5728\n",
      "Data columns (total 7 columns):\n",
      " #   Column     Non-Null Count  Dtype  \n",
      "---  ------     --------------  -----  \n",
      " 0   Date       5729 non-null   object \n",
      " 1   Open       5715 non-null   float64\n",
      " 2   High       5713 non-null   float64\n",
      " 3   Low        5718 non-null   float64\n",
      " 4   Close      5715 non-null   float64\n",
      " 5   Adj Close  5715 non-null   float64\n",
      " 6   Volume     0 non-null      float64\n",
      "dtypes: float64(6), object(1)\n",
      "memory usage: 313.4+ KB\n"
     ]
    }
   ],
   "source": [
    "cols_to_convert = ['Open', 'High', 'Low', 'Close', 'Adj Close', 'Volume']\n",
    "for col in cols_to_convert:\n",
    "    df[col] = pd.to_numeric(df[col], errors='coerce')\n",
    "\n",
    "df.info()"
   ]
  },
  {
   "cell_type": "code",
   "execution_count": 9,
   "id": "ea5c7441",
   "metadata": {
    "execution": {
     "iopub.execute_input": "2025-03-27T16:55:11.206118Z",
     "iopub.status.busy": "2025-03-27T16:55:11.205806Z",
     "iopub.status.idle": "2025-03-27T16:55:11.232746Z",
     "shell.execute_reply": "2025-03-27T16:55:11.231529Z"
    },
    "papermill": {
     "duration": 0.037841,
     "end_time": "2025-03-27T16:55:11.234611",
     "exception": false,
     "start_time": "2025-03-27T16:55:11.196770",
     "status": "completed"
    },
    "tags": []
   },
   "outputs": [],
   "source": [
    "df[\"Date\"] = pd.to_datetime(df['Date'])"
   ]
  },
  {
   "cell_type": "code",
   "execution_count": 10,
   "id": "34ba87e7",
   "metadata": {
    "execution": {
     "iopub.execute_input": "2025-03-27T16:55:11.253119Z",
     "iopub.status.busy": "2025-03-27T16:55:11.252755Z",
     "iopub.status.idle": "2025-03-27T16:55:11.271084Z",
     "shell.execute_reply": "2025-03-27T16:55:11.268178Z"
    },
    "papermill": {
     "duration": 0.030693,
     "end_time": "2025-03-27T16:55:11.273797",
     "exception": false,
     "start_time": "2025-03-27T16:55:11.243104",
     "status": "completed"
    },
    "tags": []
   },
   "outputs": [
    {
     "name": "stderr",
     "output_type": "stream",
     "text": [
      "<ipython-input-10-7afccfbcbf8d>:2: FutureWarning: DataFrame.fillna with 'method' is deprecated and will raise in a future version. Use obj.ffill() or obj.bfill() instead.\n",
      "  df[['Open', 'High', 'Low', 'Close', 'Adj Close']] = df[['Open', 'High', 'Low', 'Close', 'Adj Close']].fillna(method='ffill')\n"
     ]
    }
   ],
   "source": [
    "# Fill price columns with forward-fill\n",
    "df[['Open', 'High', 'Low', 'Close', 'Adj Close']] = df[['Open', 'High', 'Low', 'Close', 'Adj Close']].fillna(method='ffill')\n"
   ]
  },
  {
   "cell_type": "code",
   "execution_count": 11,
   "id": "de9b58f5",
   "metadata": {
    "execution": {
     "iopub.execute_input": "2025-03-27T16:55:11.291860Z",
     "iopub.status.busy": "2025-03-27T16:55:11.291353Z",
     "iopub.status.idle": "2025-03-27T16:55:11.304674Z",
     "shell.execute_reply": "2025-03-27T16:55:11.303546Z"
    },
    "papermill": {
     "duration": 0.024687,
     "end_time": "2025-03-27T16:55:11.306647",
     "exception": false,
     "start_time": "2025-03-27T16:55:11.281960",
     "status": "completed"
    },
    "tags": []
   },
   "outputs": [
    {
     "name": "stdout",
     "output_type": "stream",
     "text": [
      "<class 'pandas.core.frame.DataFrame'>\n",
      "RangeIndex: 5729 entries, 0 to 5728\n",
      "Data columns (total 7 columns):\n",
      " #   Column     Non-Null Count  Dtype         \n",
      "---  ------     --------------  -----         \n",
      " 0   Date       5729 non-null   datetime64[ns]\n",
      " 1   Open       5729 non-null   float64       \n",
      " 2   High       5729 non-null   float64       \n",
      " 3   Low        5729 non-null   float64       \n",
      " 4   Close      5729 non-null   float64       \n",
      " 5   Adj Close  5729 non-null   float64       \n",
      " 6   Volume     0 non-null      float64       \n",
      "dtypes: datetime64[ns](1), float64(6)\n",
      "memory usage: 313.4 KB\n"
     ]
    }
   ],
   "source": [
    "df.info()"
   ]
  },
  {
   "cell_type": "code",
   "execution_count": 12,
   "id": "4f6690cd",
   "metadata": {
    "execution": {
     "iopub.execute_input": "2025-03-27T16:55:11.334050Z",
     "iopub.status.busy": "2025-03-27T16:55:11.333534Z",
     "iopub.status.idle": "2025-03-27T16:55:13.106970Z",
     "shell.execute_reply": "2025-03-27T16:55:13.106028Z"
    },
    "papermill": {
     "duration": 1.787323,
     "end_time": "2025-03-27T16:55:13.108927",
     "exception": false,
     "start_time": "2025-03-27T16:55:11.321604",
     "status": "completed"
    },
    "tags": []
   },
   "outputs": [],
   "source": [
    "import matplotlib.pyplot as plt\n",
    "import seaborn as sns"
   ]
  },
  {
   "cell_type": "code",
   "execution_count": 13,
   "id": "044858be",
   "metadata": {
    "execution": {
     "iopub.execute_input": "2025-03-27T16:55:13.127376Z",
     "iopub.status.busy": "2025-03-27T16:55:13.126859Z",
     "iopub.status.idle": "2025-03-27T16:55:13.508738Z",
     "shell.execute_reply": "2025-03-27T16:55:13.507457Z"
    },
    "papermill": {
     "duration": 0.393289,
     "end_time": "2025-03-27T16:55:13.510760",
     "exception": false,
     "start_time": "2025-03-27T16:55:13.117471",
     "status": "completed"
    },
    "tags": []
   },
   "outputs": [
    {
     "data": {
      "image/png": "[encoded data removed]",
      "text/plain": [
       "<Figure size 1000x600 with 1 Axes>"
      ]
     },
     "metadata": {},
     "output_type": "display_data"
    }
   ],
   "source": [
    "plt.figure(figsize=(10,6))\n",
    "plt.plot(df['Date'], df['Close'], label = 'Close Price', color='blue')\n",
    "plt.title(\"Netflix Stock Closing Price Over Time\")\n",
    "plt.xlabel(\"Date\")\n",
    "plt.ylabel(\"Price (USD)\")\n",
    "plt.legend()\n",
    "plt.grid(True)\n",
    "plt.show()"
   ]
  },
  {
   "cell_type": "code",
   "execution_count": 14,
   "id": "2b4066c4",
   "metadata": {
    "execution": {
     "iopub.execute_input": "2025-03-27T16:55:13.531270Z",
     "iopub.status.busy": "2025-03-27T16:55:13.530936Z",
     "iopub.status.idle": "2025-03-27T16:55:13.835644Z",
     "shell.execute_reply": "2025-03-27T16:55:13.834296Z"
    },
    "papermill": {
     "duration": 0.316758,
     "end_time": "2025-03-27T16:55:13.837422",
     "exception": false,
     "start_time": "2025-03-27T16:55:13.520664",
     "status": "completed"
    },
    "tags": []
   },
   "outputs": [
    {
     "data": {
      "image/png": "[encoded data removed]",
      "text/plain": [
       "<Figure size 1400x600 with 1 Axes>"
      ]
     },
     "metadata": {},
     "output_type": "display_data"
    }
   ],
   "source": [
    "df['MA30'] = df[\"Close\"].rolling(window=30).mean()\n",
    "\n",
    "plt.figure(figsize=(14,6))\n",
    "plt.plot(df['Date'], df['Close'], label = \"Close Price\", alpha=0.5)\n",
    "plt.plot(df['Date'], df['MA30'], label = \"30-Day MA\", color ='orange')\n",
    "plt.title(\"Netflix 30-Day Moving Average\")\n",
    "plt.legend()\n",
    "plt.show()"
   ]
  },
  {
   "cell_type": "code",
   "execution_count": 15,
   "id": "db753804",
   "metadata": {
    "execution": {
     "iopub.execute_input": "2025-03-27T16:55:13.863741Z",
     "iopub.status.busy": "2025-03-27T16:55:13.863257Z",
     "iopub.status.idle": "2025-03-27T16:55:13.868199Z",
     "shell.execute_reply": "2025-03-27T16:55:13.867116Z"
    },
    "papermill": {
     "duration": 0.019963,
     "end_time": "2025-03-27T16:55:13.869955",
     "exception": false,
     "start_time": "2025-03-27T16:55:13.849992",
     "status": "completed"
    },
    "tags": []
   },
   "outputs": [],
   "source": [
    "df['Volume'] = pd.to_numeric(df['Volume'], errors='coerce')\n"
   ]
  },
  {
   "cell_type": "code",
   "execution_count": 16,
   "id": "dd04bbbb",
   "metadata": {
    "execution": {
     "iopub.execute_input": "2025-03-27T16:55:13.893537Z",
     "iopub.status.busy": "2025-03-27T16:55:13.893139Z",
     "iopub.status.idle": "2025-03-27T16:55:14.393689Z",
     "shell.execute_reply": "2025-03-27T16:55:14.392488Z"
    },
    "papermill": {
     "duration": 0.51421,
     "end_time": "2025-03-27T16:55:14.395584",
     "exception": false,
     "start_time": "2025-03-27T16:55:13.881374",
     "status": "completed"
    },
    "tags": []
   },
   "outputs": [
    {
     "data": {
      "image/png": "[encoded data removed]",
      "text/plain": [
       "<Figure size 1400x600 with 1 Axes>"
      ]
     },
     "metadata": {},
     "output_type": "display_data"
    }
   ],
   "source": [
    "df['Year'] = df['Date'].dt.year\n",
    "\n",
    "plt.figure(figsize=(14,6))\n",
    "sns.boxplot(x=\"Year\", y=\"Close\", data=df)\n",
    "plt.xticks(rotation=45)\n",
    "plt.title(\"Yearly Metflix Closing Price Distribution\")\n",
    "plt.show()"
   ]
  },
  {
   "cell_type": "code",
   "execution_count": 17,
   "id": "933b78ff",
   "metadata": {
    "execution": {
     "iopub.execute_input": "2025-03-27T16:55:14.420247Z",
     "iopub.status.busy": "2025-03-27T16:55:14.419851Z",
     "iopub.status.idle": "2025-03-27T16:55:14.431730Z",
     "shell.execute_reply": "2025-03-27T16:55:14.430448Z"
    },
    "papermill": {
     "duration": 0.026103,
     "end_time": "2025-03-27T16:55:14.433473",
     "exception": false,
     "start_time": "2025-03-27T16:55:14.407370",
     "status": "completed"
    },
    "tags": []
   },
   "outputs": [
    {
     "name": "stdout",
     "output_type": "stream",
     "text": [
      "<class 'pandas.core.frame.DataFrame'>\n",
      "RangeIndex: 5729 entries, 0 to 5728\n",
      "Data columns (total 9 columns):\n",
      " #   Column     Non-Null Count  Dtype         \n",
      "---  ------     --------------  -----         \n",
      " 0   Date       5729 non-null   datetime64[ns]\n",
      " 1   Open       5729 non-null   float64       \n",
      " 2   High       5729 non-null   float64       \n",
      " 3   Low        5729 non-null   float64       \n",
      " 4   Close      5729 non-null   float64       \n",
      " 5   Adj Close  5729 non-null   float64       \n",
      " 6   Volume     0 non-null      float64       \n",
      " 7   MA30       5700 non-null   float64       \n",
      " 8   Year       5729 non-null   int32         \n",
      "dtypes: datetime64[ns](1), float64(7), int32(1)\n",
      "memory usage: 380.6 KB\n"
     ]
    }
   ],
   "source": [
    "df.info()"
   ]
  },
  {
   "cell_type": "code",
   "execution_count": 18,
   "id": "719d10f0",
   "metadata": {
    "execution": {
     "iopub.execute_input": "2025-03-27T16:55:14.458219Z",
     "iopub.status.busy": "2025-03-27T16:55:14.457899Z",
     "iopub.status.idle": "2025-03-27T16:55:14.463820Z",
     "shell.execute_reply": "2025-03-27T16:55:14.462629Z"
    },
    "papermill": {
     "duration": 0.020537,
     "end_time": "2025-03-27T16:55:14.465713",
     "exception": false,
     "start_time": "2025-03-27T16:55:14.445176",
     "status": "completed"
    },
    "tags": []
   },
   "outputs": [],
   "source": [
    "df['MA30'] = df['MA30'].fillna(df['MA30'].mean())\n"
   ]
  },
  {
   "cell_type": "code",
   "execution_count": 19,
   "id": "9a1cfd16",
   "metadata": {
    "execution": {
     "iopub.execute_input": "2025-03-27T16:55:14.490999Z",
     "iopub.status.busy": "2025-03-27T16:55:14.490628Z",
     "iopub.status.idle": "2025-03-27T16:55:14.502112Z",
     "shell.execute_reply": "2025-03-27T16:55:14.500875Z"
    },
    "papermill": {
     "duration": 0.026038,
     "end_time": "2025-03-27T16:55:14.503871",
     "exception": false,
     "start_time": "2025-03-27T16:55:14.477833",
     "status": "completed"
    },
    "tags": []
   },
   "outputs": [
    {
     "name": "stdout",
     "output_type": "stream",
     "text": [
      "<class 'pandas.core.frame.DataFrame'>\n",
      "RangeIndex: 5729 entries, 0 to 5728\n",
      "Data columns (total 9 columns):\n",
      " #   Column     Non-Null Count  Dtype         \n",
      "---  ------     --------------  -----         \n",
      " 0   Date       5729 non-null   datetime64[ns]\n",
      " 1   Open       5729 non-null   float64       \n",
      " 2   High       5729 non-null   float64       \n",
      " 3   Low        5729 non-null   float64       \n",
      " 4   Close      5729 non-null   float64       \n",
      " 5   Adj Close  5729 non-null   float64       \n",
      " 6   Volume     0 non-null      float64       \n",
      " 7   MA30       5729 non-null   float64       \n",
      " 8   Year       5729 non-null   int32         \n",
      "dtypes: datetime64[ns](1), float64(7), int32(1)\n",
      "memory usage: 380.6 KB\n"
     ]
    }
   ],
   "source": [
    "df.info()"
   ]
  },
  {
   "cell_type": "code",
   "execution_count": 20,
   "id": "612c24af",
   "metadata": {
    "execution": {
     "iopub.execute_input": "2025-03-27T16:55:14.529395Z",
     "iopub.status.busy": "2025-03-27T16:55:14.529034Z",
     "iopub.status.idle": "2025-03-27T16:55:14.536519Z",
     "shell.execute_reply": "2025-03-27T16:55:14.535303Z"
    },
    "papermill": {
     "duration": 0.022941,
     "end_time": "2025-03-27T16:55:14.538539",
     "exception": false,
     "start_time": "2025-03-27T16:55:14.515598",
     "status": "completed"
    },
    "tags": []
   },
   "outputs": [],
   "source": [
    "df['HL_PCT'] = (df['High'] - df['Low']) / df['Close'] * 100  # High-Low %\n",
    "df['PCT_change'] = (df['Close'] - df['Open']) / df['Open'] * 100  # % Change in price\n"
   ]
  },
  {
   "cell_type": "code",
   "execution_count": 21,
   "id": "0434505c",
   "metadata": {
    "execution": {
     "iopub.execute_input": "2025-03-27T16:55:14.566364Z",
     "iopub.status.busy": "2025-03-27T16:55:14.565975Z",
     "iopub.status.idle": "2025-03-27T16:55:14.572056Z",
     "shell.execute_reply": "2025-03-27T16:55:14.570878Z"
    },
    "papermill": {
     "duration": 0.022064,
     "end_time": "2025-03-27T16:55:14.573978",
     "exception": false,
     "start_time": "2025-03-27T16:55:14.551914",
     "status": "completed"
    },
    "tags": []
   },
   "outputs": [],
   "source": [
    "df['Prev_Close'] = df['Close'].shift(1)\n",
    "df['Prev_Volume'] = df['Volume'].shift(1)\n"
   ]
  },
  {
   "cell_type": "code",
   "execution_count": 22,
   "id": "60d89b0e",
   "metadata": {
    "execution": {
     "iopub.execute_input": "2025-03-27T16:55:14.598976Z",
     "iopub.status.busy": "2025-03-27T16:55:14.598587Z",
     "iopub.status.idle": "2025-03-27T16:55:14.605895Z",
     "shell.execute_reply": "2025-03-27T16:55:14.604758Z"
    },
    "papermill": {
     "duration": 0.022188,
     "end_time": "2025-03-27T16:55:14.607954",
     "exception": false,
     "start_time": "2025-03-27T16:55:14.585766",
     "status": "completed"
    },
    "tags": []
   },
   "outputs": [],
   "source": [
    "df['Rolling_Mean_7'] = df['Close'].rolling(window=7).mean()\n",
    "df['Rolling_Std_7'] = df['Close'].rolling(window=7).std()\n"
   ]
  },
  {
   "cell_type": "code",
   "execution_count": 23,
   "id": "60abd74d",
   "metadata": {
    "execution": {
     "iopub.execute_input": "2025-03-27T16:55:14.633133Z",
     "iopub.status.busy": "2025-03-27T16:55:14.632755Z",
     "iopub.status.idle": "2025-03-27T16:55:14.640713Z",
     "shell.execute_reply": "2025-03-27T16:55:14.639601Z"
    },
    "papermill": {
     "duration": 0.022723,
     "end_time": "2025-03-27T16:55:14.642576",
     "exception": false,
     "start_time": "2025-03-27T16:55:14.619853",
     "status": "completed"
    },
    "tags": []
   },
   "outputs": [],
   "source": [
    "df['Daily_Return'] = df['Close'].pct_change()\n",
    "df['Volatility_14'] = df['Daily_Return'].rolling(window=14).std()\n"
   ]
  },
  {
   "cell_type": "code",
   "execution_count": 24,
   "id": "4bf00094",
   "metadata": {
    "execution": {
     "iopub.execute_input": "2025-03-27T16:55:14.667470Z",
     "iopub.status.busy": "2025-03-27T16:55:14.667044Z",
     "iopub.status.idle": "2025-03-27T16:55:14.690889Z",
     "shell.execute_reply": "2025-03-27T16:55:14.689600Z"
    },
    "papermill": {
     "duration": 0.03849,
     "end_time": "2025-03-27T16:55:14.692817",
     "exception": false,
     "start_time": "2025-03-27T16:55:14.654327",
     "status": "completed"
    },
    "tags": []
   },
   "outputs": [
    {
     "name": "stderr",
     "output_type": "stream",
     "text": [
      "/usr/local/lib/python3.10/dist-packages/pandas/io/formats/format.py:1458: RuntimeWarning: invalid value encountered in greater\n",
      "  has_large_values = (abs_vals > 1e6).any()\n",
      "/usr/local/lib/python3.10/dist-packages/pandas/io/formats/format.py:1459: RuntimeWarning: invalid value encountered in less\n",
      "  has_small_values = ((abs_vals < 10 ** (-self.digits)) & (abs_vals > 0)).any()\n",
      "/usr/local/lib/python3.10/dist-packages/pandas/io/formats/format.py:1459: RuntimeWarning: invalid value encountered in greater\n",
      "  has_small_values = ((abs_vals < 10 ** (-self.digits)) & (abs_vals > 0)).any()\n"
     ]
    },
    {
     "data": {
      "text/html": [
       "<div>\n",
       "<style scoped>\n",
       "    .dataframe tbody tr th:only-of-type {\n",
       "        vertical-align: middle;\n",
       "    }\n",
       "\n",
       "    .dataframe tbody tr th {\n",
       "        vertical-align: top;\n",
       "    }\n",
       "\n",
       "    .dataframe thead th {\n",
       "        text-align: right;\n",
       "    }\n",
       "</style>\n",
       "<table border=\"1\" class=\"dataframe\">\n",
       "  <thead>\n",
       "    <tr style=\"text-align: right;\">\n",
       "      <th></th>\n",
       "      <th>Date</th>\n",
       "      <th>Open</th>\n",
       "      <th>High</th>\n",
       "      <th>Low</th>\n",
       "      <th>Close</th>\n",
       "      <th>Adj Close</th>\n",
       "      <th>Volume</th>\n",
       "      <th>MA30</th>\n",
       "      <th>Year</th>\n",
       "      <th>HL_PCT</th>\n",
       "      <th>PCT_change</th>\n",
       "      <th>Prev_Close</th>\n",
       "      <th>Prev_Volume</th>\n",
       "      <th>Rolling_Mean_7</th>\n",
       "      <th>Rolling_Std_7</th>\n",
       "      <th>Daily_Return</th>\n",
       "      <th>Volatility_14</th>\n",
       "    </tr>\n",
       "  </thead>\n",
       "  <tbody>\n",
       "    <tr>\n",
       "      <th>0</th>\n",
       "      <td>2025-02-25</td>\n",
       "      <td>989.4</td>\n",
       "      <td>994.4</td>\n",
       "      <td>955.00</td>\n",
       "      <td>977.24</td>\n",
       "      <td>977.24</td>\n",
       "      <td>NaN</td>\n",
       "      <td>159.502165</td>\n",
       "      <td>2025</td>\n",
       "      <td>4.031763</td>\n",
       "      <td>-1.229028</td>\n",
       "      <td>NaN</td>\n",
       "      <td>NaN</td>\n",
       "      <td>NaN</td>\n",
       "      <td>NaN</td>\n",
       "      <td>NaN</td>\n",
       "      <td>NaN</td>\n",
       "    </tr>\n",
       "    <tr>\n",
       "      <th>1</th>\n",
       "      <td>2025-02-24</td>\n",
       "      <td>989.4</td>\n",
       "      <td>994.4</td>\n",
       "      <td>984.48</td>\n",
       "      <td>988.47</td>\n",
       "      <td>988.47</td>\n",
       "      <td>NaN</td>\n",
       "      <td>159.502165</td>\n",
       "      <td>2025</td>\n",
       "      <td>1.003571</td>\n",
       "      <td>-0.093996</td>\n",
       "      <td>977.24</td>\n",
       "      <td>NaN</td>\n",
       "      <td>NaN</td>\n",
       "      <td>NaN</td>\n",
       "      <td>0.011492</td>\n",
       "      <td>NaN</td>\n",
       "    </tr>\n",
       "    <tr>\n",
       "      <th>2</th>\n",
       "      <td>2025-02-21</td>\n",
       "      <td>989.4</td>\n",
       "      <td>994.4</td>\n",
       "      <td>999.39</td>\n",
       "      <td>988.47</td>\n",
       "      <td>988.47</td>\n",
       "      <td>NaN</td>\n",
       "      <td>159.502165</td>\n",
       "      <td>2025</td>\n",
       "      <td>-0.504821</td>\n",
       "      <td>-0.093996</td>\n",
       "      <td>988.47</td>\n",
       "      <td>NaN</td>\n",
       "      <td>NaN</td>\n",
       "      <td>NaN</td>\n",
       "      <td>0.000000</td>\n",
       "      <td>NaN</td>\n",
       "    </tr>\n",
       "    <tr>\n",
       "      <th>3</th>\n",
       "      <td>2025-02-20</td>\n",
       "      <td>989.4</td>\n",
       "      <td>994.4</td>\n",
       "      <td>999.39</td>\n",
       "      <td>988.47</td>\n",
       "      <td>988.47</td>\n",
       "      <td>NaN</td>\n",
       "      <td>159.502165</td>\n",
       "      <td>2025</td>\n",
       "      <td>-0.504821</td>\n",
       "      <td>-0.093996</td>\n",
       "      <td>988.47</td>\n",
       "      <td>NaN</td>\n",
       "      <td>NaN</td>\n",
       "      <td>NaN</td>\n",
       "      <td>0.000000</td>\n",
       "      <td>NaN</td>\n",
       "    </tr>\n",
       "    <tr>\n",
       "      <th>4</th>\n",
       "      <td>2025-02-19</td>\n",
       "      <td>989.4</td>\n",
       "      <td>994.4</td>\n",
       "      <td>999.39</td>\n",
       "      <td>988.47</td>\n",
       "      <td>988.47</td>\n",
       "      <td>NaN</td>\n",
       "      <td>159.502165</td>\n",
       "      <td>2025</td>\n",
       "      <td>-0.504821</td>\n",
       "      <td>-0.093996</td>\n",
       "      <td>988.47</td>\n",
       "      <td>NaN</td>\n",
       "      <td>NaN</td>\n",
       "      <td>NaN</td>\n",
       "      <td>0.000000</td>\n",
       "      <td>NaN</td>\n",
       "    </tr>\n",
       "  </tbody>\n",
       "</table>\n",
       "</div>"
      ],
      "text/plain": [
       "        Date   Open   High     Low   Close  Adj Close  Volume        MA30  \\\n",
       "0 2025-02-25  989.4  994.4  955.00  977.24     977.24     NaN  159.502165   \n",
       "1 2025-02-24  989.4  994.4  984.48  988.47     988.47     NaN  159.502165   \n",
       "2 2025-02-21  989.4  994.4  999.39  988.47     988.47     NaN  159.502165   \n",
       "3 2025-02-20  989.4  994.4  999.39  988.47     988.47     NaN  159.502165   \n",
       "4 2025-02-19  989.4  994.4  999.39  988.47     988.47     NaN  159.502165   \n",
       "\n",
       "   Year    HL_PCT  PCT_change  Prev_Close  Prev_Volume  Rolling_Mean_7  \\\n",
       "0  2025  4.031763   -1.229028         NaN          NaN             NaN   \n",
       "1  2025  1.003571   -0.093996      977.24          NaN             NaN   \n",
       "2  2025 -0.504821   -0.093996      988.47          NaN             NaN   \n",
       "3  2025 -0.504821   -0.093996      988.47          NaN             NaN   \n",
       "4  2025 -0.504821   -0.093996      988.47          NaN             NaN   \n",
       "\n",
       "   Rolling_Std_7  Daily_Return  Volatility_14  \n",
       "0            NaN           NaN            NaN  \n",
       "1            NaN      0.011492            NaN  \n",
       "2            NaN      0.000000            NaN  \n",
       "3            NaN      0.000000            NaN  \n",
       "4            NaN      0.000000            NaN  "
      ]
     },
     "execution_count": 24,
     "metadata": {},
     "output_type": "execute_result"
    }
   ],
   "source": [
    "df.head()"
   ]
  },
  {
   "cell_type": "code",
   "execution_count": 25,
   "id": "93f926a1",
   "metadata": {
    "execution": {
     "iopub.execute_input": "2025-03-27T16:55:14.718385Z",
     "iopub.status.busy": "2025-03-27T16:55:14.717997Z",
     "iopub.status.idle": "2025-03-27T16:55:14.730199Z",
     "shell.execute_reply": "2025-03-27T16:55:14.728999Z"
    },
    "papermill": {
     "duration": 0.027035,
     "end_time": "2025-03-27T16:55:14.732042",
     "exception": false,
     "start_time": "2025-03-27T16:55:14.705007",
     "status": "completed"
    },
    "tags": []
   },
   "outputs": [
    {
     "name": "stdout",
     "output_type": "stream",
     "text": [
      "<class 'pandas.core.frame.DataFrame'>\n",
      "RangeIndex: 5729 entries, 0 to 5728\n",
      "Data columns (total 17 columns):\n",
      " #   Column          Non-Null Count  Dtype         \n",
      "---  ------          --------------  -----         \n",
      " 0   Date            5729 non-null   datetime64[ns]\n",
      " 1   Open            5729 non-null   float64       \n",
      " 2   High            5729 non-null   float64       \n",
      " 3   Low             5729 non-null   float64       \n",
      " 4   Close           5729 non-null   float64       \n",
      " 5   Adj Close       5729 non-null   float64       \n",
      " 6   Volume          0 non-null      float64       \n",
      " 7   MA30            5729 non-null   float64       \n",
      " 8   Year            5729 non-null   int32         \n",
      " 9   HL_PCT          5729 non-null   float64       \n",
      " 10  PCT_change      5729 non-null   float64       \n",
      " 11  Prev_Close      5728 non-null   float64       \n",
      " 12  Prev_Volume     0 non-null      float64       \n",
      " 13  Rolling_Mean_7  5723 non-null   float64       \n",
      " 14  Rolling_Std_7   5723 non-null   float64       \n",
      " 15  Daily_Return    5728 non-null   float64       \n",
      " 16  Volatility_14   5715 non-null   float64       \n",
      "dtypes: datetime64[ns](1), float64(15), int32(1)\n",
      "memory usage: 738.6 KB\n"
     ]
    }
   ],
   "source": [
    "df.info()"
   ]
  },
  {
   "cell_type": "code",
   "execution_count": 26,
   "id": "97ab0f02",
   "metadata": {
    "execution": {
     "iopub.execute_input": "2025-03-27T16:55:14.757735Z",
     "iopub.status.busy": "2025-03-27T16:55:14.757284Z",
     "iopub.status.idle": "2025-03-27T16:55:14.764578Z",
     "shell.execute_reply": "2025-03-27T16:55:14.763446Z"
    },
    "papermill": {
     "duration": 0.022356,
     "end_time": "2025-03-27T16:55:14.766535",
     "exception": false,
     "start_time": "2025-03-27T16:55:14.744179",
     "status": "completed"
    },
    "tags": []
   },
   "outputs": [],
   "source": [
    "df.drop(['Volume', 'Prev_Volume'], axis=1, inplace=True)\n"
   ]
  },
  {
   "cell_type": "code",
   "execution_count": 27,
   "id": "70829e5f",
   "metadata": {
    "execution": {
     "iopub.execute_input": "2025-03-27T16:55:14.792195Z",
     "iopub.status.busy": "2025-03-27T16:55:14.791835Z",
     "iopub.status.idle": "2025-03-27T16:55:14.800854Z",
     "shell.execute_reply": "2025-03-27T16:55:14.799712Z"
    },
    "papermill": {
     "duration": 0.024049,
     "end_time": "2025-03-27T16:55:14.802761",
     "exception": false,
     "start_time": "2025-03-27T16:55:14.778712",
     "status": "completed"
    },
    "tags": []
   },
   "outputs": [
    {
     "name": "stderr",
     "output_type": "stream",
     "text": [
      "<ipython-input-27-fd9525f81801>:1: FutureWarning: A value is trying to be set on a copy of a DataFrame or Series through chained assignment using an inplace method.\n",
      "The behavior will change in pandas 3.0. This inplace method will never work because the intermediate object on which we are setting values always behaves as a copy.\n",
      "\n",
      "For example, when doing 'df[col].method(value, inplace=True)', try using 'df.method({col: value}, inplace=True)' or df[col] = df[col].method(value) instead, to perform the operation inplace on the original object.\n",
      "\n",
      "\n",
      "  df['Rolling_Mean_7'].fillna(df['Rolling_Mean_7'].mean(), inplace=True)\n",
      "<ipython-input-27-fd9525f81801>:2: FutureWarning: A value is trying to be set on a copy of a DataFrame or Series through chained assignment using an inplace method.\n",
      "The behavior will change in pandas 3.0. This inplace method will never work because the intermediate object on which we are setting values always behaves as a copy.\n",
      "\n",
      "For example, when doing 'df[col].method(value, inplace=True)', try using 'df.method({col: value}, inplace=True)' or df[col] = df[col].method(value) instead, to perform the operation inplace on the original object.\n",
      "\n",
      "\n",
      "  df['Rolling_Std_7'].fillna(df['Rolling_Std_7'].mean(), inplace=True)\n",
      "<ipython-input-27-fd9525f81801>:3: FutureWarning: A value is trying to be set on a copy of a DataFrame or Series through chained assignment using an inplace method.\n",
      "The behavior will change in pandas 3.0. This inplace method will never work because the intermediate object on which we are setting values always behaves as a copy.\n",
      "\n",
      "For example, when doing 'df[col].method(value, inplace=True)', try using 'df.method({col: value}, inplace=True)' or df[col] = df[col].method(value) instead, to perform the operation inplace on the original object.\n",
      "\n",
      "\n",
      "  df['Volatility_14'].fillna(df['Volatility_14'].mean(), inplace=True)\n"
     ]
    }
   ],
   "source": [
    "df['Rolling_Mean_7'].fillna(df['Rolling_Mean_7'].mean(), inplace=True)\n",
    "df['Rolling_Std_7'].fillna(df['Rolling_Std_7'].mean(), inplace=True)\n",
    "df['Volatility_14'].fillna(df['Volatility_14'].mean(), inplace=True)\n"
   ]
  },
  {
   "cell_type": "code",
   "execution_count": 28,
   "id": "33aee220",
   "metadata": {
    "execution": {
     "iopub.execute_input": "2025-03-27T16:55:14.829637Z",
     "iopub.status.busy": "2025-03-27T16:55:14.829209Z",
     "iopub.status.idle": "2025-03-27T16:55:14.841871Z",
     "shell.execute_reply": "2025-03-27T16:55:14.840633Z"
    },
    "papermill": {
     "duration": 0.028652,
     "end_time": "2025-03-27T16:55:14.843786",
     "exception": false,
     "start_time": "2025-03-27T16:55:14.815134",
     "status": "completed"
    },
    "tags": []
   },
   "outputs": [
    {
     "name": "stdout",
     "output_type": "stream",
     "text": [
      "<class 'pandas.core.frame.DataFrame'>\n",
      "RangeIndex: 5729 entries, 0 to 5728\n",
      "Data columns (total 15 columns):\n",
      " #   Column          Non-Null Count  Dtype         \n",
      "---  ------          --------------  -----         \n",
      " 0   Date            5729 non-null   datetime64[ns]\n",
      " 1   Open            5729 non-null   float64       \n",
      " 2   High            5729 non-null   float64       \n",
      " 3   Low             5729 non-null   float64       \n",
      " 4   Close           5729 non-null   float64       \n",
      " 5   Adj Close       5729 non-null   float64       \n",
      " 6   MA30            5729 non-null   float64       \n",
      " 7   Year            5729 non-null   int32         \n",
      " 8   HL_PCT          5729 non-null   float64       \n",
      " 9   PCT_change      5729 non-null   float64       \n",
      " 10  Prev_Close      5728 non-null   float64       \n",
      " 11  Rolling_Mean_7  5729 non-null   float64       \n",
      " 12  Rolling_Std_7   5729 non-null   float64       \n",
      " 13  Daily_Return    5728 non-null   float64       \n",
      " 14  Volatility_14   5729 non-null   float64       \n",
      "dtypes: datetime64[ns](1), float64(13), int32(1)\n",
      "memory usage: 649.1 KB\n"
     ]
    }
   ],
   "source": [
    "df.info()"
   ]
  },
  {
   "cell_type": "code",
   "execution_count": 29,
   "id": "d5c7b10f",
   "metadata": {
    "execution": {
     "iopub.execute_input": "2025-03-27T16:55:14.871143Z",
     "iopub.status.busy": "2025-03-27T16:55:14.870775Z",
     "iopub.status.idle": "2025-03-27T16:55:14.878592Z",
     "shell.execute_reply": "2025-03-27T16:55:14.877124Z"
    },
    "papermill": {
     "duration": 0.023503,
     "end_time": "2025-03-27T16:55:14.880612",
     "exception": false,
     "start_time": "2025-03-27T16:55:14.857109",
     "status": "completed"
    },
    "tags": []
   },
   "outputs": [
    {
     "name": "stderr",
     "output_type": "stream",
     "text": [
      "<ipython-input-29-db7016d3513d>:1: FutureWarning: A value is trying to be set on a copy of a DataFrame or Series through chained assignment using an inplace method.\n",
      "The behavior will change in pandas 3.0. This inplace method will never work because the intermediate object on which we are setting values always behaves as a copy.\n",
      "\n",
      "For example, when doing 'df[col].method(value, inplace=True)', try using 'df.method({col: value}, inplace=True)' or df[col] = df[col].method(value) instead, to perform the operation inplace on the original object.\n",
      "\n",
      "\n",
      "  df['Prev_Close'].fillna(df['Prev_Close'].mean(), inplace=True)\n",
      "<ipython-input-29-db7016d3513d>:2: FutureWarning: A value is trying to be set on a copy of a DataFrame or Series through chained assignment using an inplace method.\n",
      "The behavior will change in pandas 3.0. This inplace method will never work because the intermediate object on which we are setting values always behaves as a copy.\n",
      "\n",
      "For example, when doing 'df[col].method(value, inplace=True)', try using 'df.method({col: value}, inplace=True)' or df[col] = df[col].method(value) instead, to perform the operation inplace on the original object.\n",
      "\n",
      "\n",
      "  df['Daily_Return'].fillna(df['Daily_Return'].mean(), inplace=True)\n"
     ]
    }
   ],
   "source": [
    "df['Prev_Close'].fillna(df['Prev_Close'].mean(), inplace=True)\n",
    "df['Daily_Return'].fillna(df['Daily_Return'].mean(), inplace=True)"
   ]
  },
  {
   "cell_type": "code",
   "execution_count": 30,
   "id": "901bd679",
   "metadata": {
    "execution": {
     "iopub.execute_input": "2025-03-27T16:55:14.907188Z",
     "iopub.status.busy": "2025-03-27T16:55:14.906850Z",
     "iopub.status.idle": "2025-03-27T16:55:14.918654Z",
     "shell.execute_reply": "2025-03-27T16:55:14.917202Z"
    },
    "papermill": {
     "duration": 0.027119,
     "end_time": "2025-03-27T16:55:14.920518",
     "exception": false,
     "start_time": "2025-03-27T16:55:14.893399",
     "status": "completed"
    },
    "tags": []
   },
   "outputs": [
    {
     "name": "stdout",
     "output_type": "stream",
     "text": [
      "<class 'pandas.core.frame.DataFrame'>\n",
      "RangeIndex: 5729 entries, 0 to 5728\n",
      "Data columns (total 15 columns):\n",
      " #   Column          Non-Null Count  Dtype         \n",
      "---  ------          --------------  -----         \n",
      " 0   Date            5729 non-null   datetime64[ns]\n",
      " 1   Open            5729 non-null   float64       \n",
      " 2   High            5729 non-null   float64       \n",
      " 3   Low             5729 non-null   float64       \n",
      " 4   Close           5729 non-null   float64       \n",
      " 5   Adj Close       5729 non-null   float64       \n",
      " 6   MA30            5729 non-null   float64       \n",
      " 7   Year            5729 non-null   int32         \n",
      " 8   HL_PCT          5729 non-null   float64       \n",
      " 9   PCT_change      5729 non-null   float64       \n",
      " 10  Prev_Close      5729 non-null   float64       \n",
      " 11  Rolling_Mean_7  5729 non-null   float64       \n",
      " 12  Rolling_Std_7   5729 non-null   float64       \n",
      " 13  Daily_Return    5729 non-null   float64       \n",
      " 14  Volatility_14   5729 non-null   float64       \n",
      "dtypes: datetime64[ns](1), float64(13), int32(1)\n",
      "memory usage: 649.1 KB\n"
     ]
    }
   ],
   "source": [
    "df.info()"
   ]
  },
  {
   "cell_type": "code",
   "execution_count": 31,
   "id": "8ae0bef0",
   "metadata": {
    "execution": {
     "iopub.execute_input": "2025-03-27T16:55:14.946780Z",
     "iopub.status.busy": "2025-03-27T16:55:14.946351Z",
     "iopub.status.idle": "2025-03-27T16:55:15.373960Z",
     "shell.execute_reply": "2025-03-27T16:55:15.372756Z"
    },
    "papermill": {
     "duration": 0.443004,
     "end_time": "2025-03-27T16:55:15.376061",
     "exception": false,
     "start_time": "2025-03-27T16:55:14.933057",
     "status": "completed"
    },
    "tags": []
   },
   "outputs": [],
   "source": [
    "from sklearn.model_selection import train_test_split\n",
    "\n",
    "X = df[['Open', 'High', 'Low', 'HL_PCT', 'PCT_change', 'Rolling_Mean_7', 'Rolling_Std_7', 'Volatility_14']]\n",
    "y = df['Close']\n",
    "\n",
    "# Split last 20% for test\n",
    "split_index = int(len(df) * 0.8)\n",
    "X_train, X_test = X[:split_index], X[split_index:]\n",
    "y_train, y_test = y[:split_index], y[split_index:]\n"
   ]
  },
  {
   "cell_type": "code",
   "execution_count": 32,
   "id": "f585787d",
   "metadata": {
    "execution": {
     "iopub.execute_input": "2025-03-27T16:55:15.403015Z",
     "iopub.status.busy": "2025-03-27T16:55:15.402654Z",
     "iopub.status.idle": "2025-03-27T16:55:15.411461Z",
     "shell.execute_reply": "2025-03-27T16:55:15.410302Z"
    },
    "papermill": {
     "duration": 0.024639,
     "end_time": "2025-03-27T16:55:15.413738",
     "exception": false,
     "start_time": "2025-03-27T16:55:15.389099",
     "status": "completed"
    },
    "tags": []
   },
   "outputs": [],
   "source": [
    "# Define features and target\n",
    "features = ['Open', 'High', 'Low', 'HL_PCT', 'PCT_change', \n",
    "            'Rolling_Mean_7', 'Rolling_Std_7', 'Volatility_14']\n",
    "target = 'Close'\n",
    "\n",
    "X = df[features]\n",
    "y = df[target]\n",
    "\n",
    "# Time Series Split: Last 20% for testing\n",
    "split_index = int(len(df) * 0.8)\n",
    "X_train, X_test = X[:split_index], X[split_index:]\n",
    "y_train, y_test = y[:split_index], y[split_index:]\n"
   ]
  },
  {
   "cell_type": "code",
   "execution_count": 33,
   "id": "3be77f24",
   "metadata": {
    "execution": {
     "iopub.execute_input": "2025-03-27T16:55:15.440560Z",
     "iopub.status.busy": "2025-03-27T16:55:15.440147Z",
     "iopub.status.idle": "2025-03-27T16:55:15.447792Z",
     "shell.execute_reply": "2025-03-27T16:55:15.446191Z"
    },
    "papermill": {
     "duration": 0.023571,
     "end_time": "2025-03-27T16:55:15.449935",
     "exception": false,
     "start_time": "2025-03-27T16:55:15.426364",
     "status": "completed"
    },
    "tags": []
   },
   "outputs": [
    {
     "name": "stdout",
     "output_type": "stream",
     "text": [
      "X shape: (5729, 8)\n",
      "Train shape: (4583, 8)\n",
      "Test shape: (1146, 8)\n"
     ]
    }
   ],
   "source": [
    "print(\"X shape:\", X.shape)\n",
    "print(\"Train shape:\", X_train.shape)\n",
    "print(\"Test shape:\", X_test.shape)\n"
   ]
  },
  {
   "cell_type": "code",
   "execution_count": 34,
   "id": "9d070879",
   "metadata": {
    "execution": {
     "iopub.execute_input": "2025-03-27T16:55:15.477237Z",
     "iopub.status.busy": "2025-03-27T16:55:15.476883Z",
     "iopub.status.idle": "2025-03-27T16:55:15.648943Z",
     "shell.execute_reply": "2025-03-27T16:55:15.647627Z"
    },
    "papermill": {
     "duration": 0.187664,
     "end_time": "2025-03-27T16:55:15.650698",
     "exception": false,
     "start_time": "2025-03-27T16:55:15.463034",
     "status": "completed"
    },
    "tags": []
   },
   "outputs": [
    {
     "name": "stdout",
     "output_type": "stream",
     "text": [
      "🔹 Linear Regression:\n",
      "R² Score: -0.18694729003499444\n",
      "RMSE: 1.4288617504649863\n"
     ]
    }
   ],
   "source": [
    "from sklearn.linear_model import LinearRegression\n",
    "from sklearn.metrics import mean_squared_error, r2_score\n",
    "\n",
    "lr_model = LinearRegression()\n",
    "lr_model.fit(X_train, y_train)\n",
    "\n",
    "lr_preds = lr_model.predict(X_test)\n",
    "\n",
    "print(\"🔹 Linear Regression:\")\n",
    "print(\"R² Score:\", r2_score(y_test, lr_preds))\n",
    "print(\"RMSE:\", mean_squared_error(y_test, lr_preds, squared=False))\n"
   ]
  },
  {
   "cell_type": "code",
   "execution_count": 35,
   "id": "1f8d2275",
   "metadata": {
    "execution": {
     "iopub.execute_input": "2025-03-27T16:55:15.679111Z",
     "iopub.status.busy": "2025-03-27T16:55:15.678775Z",
     "iopub.status.idle": "2025-03-27T16:55:18.913117Z",
     "shell.execute_reply": "2025-03-27T16:55:18.911846Z"
    },
    "papermill": {
     "duration": 3.251148,
     "end_time": "2025-03-27T16:55:18.915781",
     "exception": false,
     "start_time": "2025-03-27T16:55:15.664633",
     "status": "completed"
    },
    "tags": []
   },
   "outputs": [
    {
     "name": "stdout",
     "output_type": "stream",
     "text": [
      "🔹 Random Forest:\n",
      "R² Score: 0.6805931029901188\n",
      "RMSE: 0.7412191632249785\n"
     ]
    }
   ],
   "source": [
    "from sklearn.ensemble import RandomForestRegressor\n",
    "\n",
    "rf_model = RandomForestRegressor(n_estimators=100, random_state=42)\n",
    "rf_model.fit(X_train, y_train)\n",
    "\n",
    "rf_preds = rf_model.predict(X_test)\n",
    "\n",
    "print(\"🔹 Random Forest:\")\n",
    "print(\"R² Score:\", r2_score(y_test, rf_preds))\n",
    "print(\"RMSE:\", mean_squared_error(y_test, rf_preds, squared=False))\n"
   ]
  },
  {
   "cell_type": "code",
   "execution_count": 36,
   "id": "1e9edc16",
   "metadata": {
    "execution": {
     "iopub.execute_input": "2025-03-27T16:55:18.944478Z",
     "iopub.status.busy": "2025-03-27T16:55:18.944111Z",
     "iopub.status.idle": "2025-03-27T16:55:39.253170Z",
     "shell.execute_reply": "2025-03-27T16:55:39.251893Z"
    },
    "papermill": {
     "duration": 20.325072,
     "end_time": "2025-03-27T16:55:39.255311",
     "exception": false,
     "start_time": "2025-03-27T16:55:18.930239",
     "status": "completed"
    },
    "tags": []
   },
   "outputs": [
    {
     "name": "stdout",
     "output_type": "stream",
     "text": [
      "Epoch 1/10\n"
     ]
    },
    {
     "name": "stderr",
     "output_type": "stream",
     "text": [
      "/usr/local/lib/python3.10/dist-packages/keras/src/layers/rnn/rnn.py:204: UserWarning: Do not pass an `input_shape`/`input_dim` argument to a layer. When using Sequential models, prefer using an `Input(shape)` object as the first layer in the model instead.\n",
      "  super().__init__(**kwargs)\n"
     ]
    },
    {
     "name": "stdout",
     "output_type": "stream",
     "text": [
      "\u001b[1m144/144\u001b[0m \u001b[32m━━━━━━━━━━━━━━━━━━━━\u001b[0m\u001b[37m\u001b[0m \u001b[1m2s\u001b[0m 2ms/step - loss: 92191.2891\n",
      "Epoch 2/10\n",
      "\u001b[1m144/144\u001b[0m \u001b[32m━━━━━━━━━━━━━━━━━━━━\u001b[0m\u001b[37m\u001b[0m \u001b[1m0s\u001b[0m 2ms/step - loss: 84532.4844\n",
      "Epoch 3/10\n",
      "\u001b[1m144/144\u001b[0m \u001b[32m━━━━━━━━━━━━━━━━━━━━\u001b[0m\u001b[37m\u001b[0m \u001b[1m0s\u001b[0m 2ms/step - loss: 82125.5312\n",
      "Epoch 4/10\n",
      "\u001b[1m144/144\u001b[0m \u001b[32m━━━━━━━━━━━━━━━━━━━━\u001b[0m\u001b[37m\u001b[0m \u001b[1m0s\u001b[0m 2ms/step - loss: 82379.0234\n",
      "Epoch 5/10\n",
      "\u001b[1m144/144\u001b[0m \u001b[32m━━━━━━━━━━━━━━━━━━━━\u001b[0m\u001b[37m\u001b[0m \u001b[1m0s\u001b[0m 2ms/step - loss: 73542.4141\n",
      "Epoch 6/10\n",
      "\u001b[1m144/144\u001b[0m \u001b[32m━━━━━━━━━━━━━━━━━━━━\u001b[0m\u001b[37m\u001b[0m \u001b[1m0s\u001b[0m 2ms/step - loss: 72156.5234\n",
      "Epoch 7/10\n",
      "\u001b[1m144/144\u001b[0m \u001b[32m━━━━━━━━━━━━━━━━━━━━\u001b[0m\u001b[37m\u001b[0m \u001b[1m0s\u001b[0m 2ms/step - loss: 68948.3516\n",
      "Epoch 8/10\n",
      "\u001b[1m144/144\u001b[0m \u001b[32m━━━━━━━━━━━━━━━━━━━━\u001b[0m\u001b[37m\u001b[0m \u001b[1m0s\u001b[0m 2ms/step - loss: 68937.9375\n",
      "Epoch 9/10\n",
      "\u001b[1m144/144\u001b[0m \u001b[32m━━━━━━━━━━━━━━━━━━━━\u001b[0m\u001b[37m\u001b[0m \u001b[1m0s\u001b[0m 2ms/step - loss: 67381.1172\n",
      "Epoch 10/10\n",
      "\u001b[1m144/144\u001b[0m \u001b[32m━━━━━━━━━━━━━━━━━━━━\u001b[0m\u001b[37m\u001b[0m \u001b[1m0s\u001b[0m 2ms/step - loss: 66550.5859\n",
      "\u001b[1m36/36\u001b[0m \u001b[32m━━━━━━━━━━━━━━━━━━━━\u001b[0m\u001b[37m\u001b[0m \u001b[1m0s\u001b[0m 6ms/step\n",
      "🔹 LSTM:\n",
      "RMSE: 53.37554971470556\n"
     ]
    }
   ],
   "source": [
    "\n",
    "from tensorflow.keras.models import Sequential\n",
    "from tensorflow.keras.layers import LSTM, Dense\n",
    "\n",
    "# Normalize the features\n",
    "from sklearn.preprocessing import MinMaxScaler\n",
    "\n",
    "scaler = MinMaxScaler()\n",
    "X_scaled = scaler.fit_transform(X)\n",
    "\n",
    "# Re-split with scaled data\n",
    "X_train_scaled = X_scaled[:split_index]\n",
    "X_test_scaled = X_scaled[split_index:]\n",
    "\n",
    "# Reshape to 3D (samples, timesteps, features)\n",
    "X_train_lstm = np.reshape(X_train_scaled, (X_train_scaled.shape[0], 1, X_train_scaled.shape[1]))\n",
    "X_test_lstm = np.reshape(X_test_scaled, (X_test_scaled.shape[0], 1, X_test_scaled.shape[1]))\n",
    "\n",
    "# Build LSTM Model\n",
    "lstm_model = Sequential()\n",
    "lstm_model.add(LSTM(units=50, return_sequences=False, input_shape=(X_train_lstm.shape[1], X_train_lstm.shape[2])))\n",
    "lstm_model.add(Dense(1))\n",
    "lstm_model.compile(optimizer='adam', loss='mean_squared_error')\n",
    "\n",
    "# Train LSTM\n",
    "lstm_model.fit(X_train_lstm, y_train, epochs=10, batch_size=32, verbose=1)\n",
    "\n",
    "# Predict\n",
    "lstm_preds = lstm_model.predict(X_test_lstm)\n",
    "print(\"🔹 LSTM:\")\n",
    "print(\"RMSE:\", mean_squared_error(y_test, lstm_preds, squared=False))\n"
   ]
  },
  {
   "cell_type": "code",
   "execution_count": 37,
   "id": "3a748296",
   "metadata": {
    "execution": {
     "iopub.execute_input": "2025-03-27T16:55:39.292146Z",
     "iopub.status.busy": "2025-03-27T16:55:39.291402Z",
     "iopub.status.idle": "2025-03-27T16:55:39.611938Z",
     "shell.execute_reply": "2025-03-27T16:55:39.610749Z"
    },
    "papermill": {
     "duration": 0.340696,
     "end_time": "2025-03-27T16:55:39.614053",
     "exception": false,
     "start_time": "2025-03-27T16:55:39.273357",
     "status": "completed"
    },
    "tags": []
   },
   "outputs": [
    {
     "data": {
      "image/png": "[encoded data removed]",
      "text/plain": [
       "<Figure size 1400x600 with 1 Axes>"
      ]
     },
     "metadata": {},
     "output_type": "display_data"
    }
   ],
   "source": [
    "import matplotlib.pyplot as plt\n",
    "\n",
    "plt.figure(figsize=(14,6))\n",
    "plt.plot(y_test.values, label='True Close Price')\n",
    "plt.plot(rf_preds, label='Predicted (Random Forest)')\n",
    "plt.title('True vs Predicted Netflix Close Prices')\n",
    "plt.xlabel('Days')\n",
    "plt.ylabel('Close Price')\n",
    "plt.legend()\n",
    "plt.grid(True)\n",
    "plt.tight_layout()\n",
    "plt.show()\n"
   ]
  },
  {
   "cell_type": "code",
   "execution_count": 38,
   "id": "1012ae21",
   "metadata": {
    "execution": {
     "iopub.execute_input": "2025-03-27T16:55:39.655982Z",
     "iopub.status.busy": "2025-03-27T16:55:39.655488Z",
     "iopub.status.idle": "2025-03-27T16:55:39.764640Z",
     "shell.execute_reply": "2025-03-27T16:55:39.763520Z"
    },
    "papermill": {
     "duration": 0.132052,
     "end_time": "2025-03-27T16:55:39.766637",
     "exception": false,
     "start_time": "2025-03-27T16:55:39.634585",
     "status": "completed"
    },
    "tags": []
   },
   "outputs": [],
   "source": [
    "df.to_csv(\"cleaned_netflix_stock.csv\", index=False)\n"
   ]
  },
  {
   "cell_type": "code",
   "execution_count": null,
   "id": "8b23173a",
   "metadata": {
    "papermill": {
     "duration": 0.019156,
     "end_time": "2025-03-27T16:55:39.805792",
     "exception": false,
     "start_time": "2025-03-27T16:55:39.786636",
     "status": "completed"
    },
    "tags": []
   },
   "outputs": [],
   "source": []
  }
 ],
 "metadata": {
  "kaggle": {
   "accelerator": "none",
   "dataSources": [
    {
     "datasetId": 6745040,
     "sourceId": 10858545,
     "sourceType": "datasetVersion"
    }
   ],
   "dockerImageVersionId": 30918,
   "isGpuEnabled": false,
   "isInternetEnabled": true,
   "language": "python",
   "sourceType": "notebook"
  },
  "kernelspec": {
   "display_name": "Python 3",
   "language": "python",
   "name": "python3"
  },
  "language_info": {
   "codemirror_mode": {
    "name": "ipython",
    "version": 3
   },
   "file_extension": ".py",
   "mimetype": "text/x-python",
   "name": "python",
   "nbconvert_exporter": "python",
   "pygments_lexer": "ipython3",
   "version": "3.10.12"
  },
  "papermill": {
   "default_parameters": {},
   "duration": 34.644746,
   "end_time": "2025-03-27T16:55:41.551762",
   "environment_variables": {},
   "exception": null,
   "input_path": "__notebook__.ipynb",
   "output_path": "__notebook__.ipynb",
   "parameters": {},
   "start_time": "2025-03-27T16:55:06.907016",
   "version": "2.6.0"
  }
 },
 "nbformat": 4,
 "nbformat_minor": 5
}
