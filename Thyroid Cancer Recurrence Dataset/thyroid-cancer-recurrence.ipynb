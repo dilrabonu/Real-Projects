{
 "cells": [
  {
   "cell_type": "code",
   "execution_count": 1,
   "id": "c0bb05af",
   "metadata": {
    "_cell_guid": "b1076dfc-b9ad-4769-8c92-a6c4dae69d19",
    "_uuid": "8f2839f25d086af736a60e9eeb907d3b93b6e0e5",
    "execution": {
     "iopub.execute_input": "2025-04-15T17:32:04.831161Z",
     "iopub.status.busy": "2025-04-15T17:32:04.830811Z",
     "iopub.status.idle": "2025-04-15T17:32:06.841096Z",
     "shell.execute_reply": "2025-04-15T17:32:06.840028Z"
    },
    "papermill": {
     "duration": 2.017422,
     "end_time": "2025-04-15T17:32:06.842572",
     "exception": false,
     "start_time": "2025-04-15T17:32:04.825150",
     "status": "completed"
    },
    "tags": []
   },
   "outputs": [
    {
     "name": "stdout",
     "output_type": "stream",
     "text": [
      "/kaggle/input/thyroid-cancer-recurrence-dataset/filtered_thyroid_data.csv\n"
     ]
    }
   ],
   "source": [
    "# This Python 3 environment comes with many helpful analytics libraries installed\n",
    "# It is defined by the kaggle/python Docker image: https://github.com/kaggle/docker-python\n",
    "# For example, here's several helpful packages to load\n",
    "\n",
    "import numpy as np # linear algebra\n",
    "import pandas as pd # data processing, CSV file I/O (e.g. pd.read_csv)\n",
    "\n",
    "# Input data files are available in the read-only \"../input/\" directory\n",
    "# For example, running this (by clicking run or pressing Shift+Enter) will list all files under the input directory\n",
    "\n",
    "import os\n",
    "for dirname, _, filenames in os.walk('/kaggle/input'):\n",
    "    for filename in filenames:\n",
    "        print(os.path.join(dirname, filename))\n",
    "\n",
    "# You can write up to 20GB to the current directory (/kaggle/working/) that gets preserved as output when you create a version using \"Save & Run All\" \n",
    "# You can also write temporary files to /kaggle/temp/, but they won't be saved outside of the current session"
   ]
  },
  {
   "cell_type": "code",
   "execution_count": 2,
   "id": "91161a26",
   "metadata": {
    "execution": {
     "iopub.execute_input": "2025-04-15T17:32:06.853367Z",
     "iopub.status.busy": "2025-04-15T17:32:06.852950Z",
     "iopub.status.idle": "2025-04-15T17:32:06.899750Z",
     "shell.execute_reply": "2025-04-15T17:32:06.898834Z"
    },
    "papermill": {
     "duration": 0.053999,
     "end_time": "2025-04-15T17:32:06.901261",
     "exception": false,
     "start_time": "2025-04-15T17:32:06.847262",
     "status": "completed"
    },
    "tags": []
   },
   "outputs": [
    {
     "data": {
      "text/html": [
       "<div>\n",
       "<style scoped>\n",
       "    .dataframe tbody tr th:only-of-type {\n",
       "        vertical-align: middle;\n",
       "    }\n",
       "\n",
       "    .dataframe tbody tr th {\n",
       "        vertical-align: top;\n",
       "    }\n",
       "\n",
       "    .dataframe thead th {\n",
       "        text-align: right;\n",
       "    }\n",
       "</style>\n",
       "<table border=\"1\" class=\"dataframe\">\n",
       "  <thead>\n",
       "    <tr style=\"text-align: right;\">\n",
       "      <th></th>\n",
       "      <th>Age</th>\n",
       "      <th>Gender</th>\n",
       "      <th>Hx Radiothreapy</th>\n",
       "      <th>Adenopathy</th>\n",
       "      <th>Pathology</th>\n",
       "      <th>Focality</th>\n",
       "      <th>Risk</th>\n",
       "      <th>T</th>\n",
       "      <th>N</th>\n",
       "      <th>M</th>\n",
       "      <th>Stage</th>\n",
       "      <th>Response</th>\n",
       "      <th>Recurred</th>\n",
       "    </tr>\n",
       "  </thead>\n",
       "  <tbody>\n",
       "    <tr>\n",
       "      <th>0</th>\n",
       "      <td>27</td>\n",
       "      <td>F</td>\n",
       "      <td>No</td>\n",
       "      <td>No</td>\n",
       "      <td>Micropapillary</td>\n",
       "      <td>Uni-Focal</td>\n",
       "      <td>Low</td>\n",
       "      <td>T1a</td>\n",
       "      <td>N0</td>\n",
       "      <td>M0</td>\n",
       "      <td>I</td>\n",
       "      <td>Indeterminate</td>\n",
       "      <td>No</td>\n",
       "    </tr>\n",
       "    <tr>\n",
       "      <th>1</th>\n",
       "      <td>34</td>\n",
       "      <td>F</td>\n",
       "      <td>No</td>\n",
       "      <td>No</td>\n",
       "      <td>Micropapillary</td>\n",
       "      <td>Uni-Focal</td>\n",
       "      <td>Low</td>\n",
       "      <td>T1a</td>\n",
       "      <td>N0</td>\n",
       "      <td>M0</td>\n",
       "      <td>I</td>\n",
       "      <td>Excellent</td>\n",
       "      <td>No</td>\n",
       "    </tr>\n",
       "    <tr>\n",
       "      <th>2</th>\n",
       "      <td>30</td>\n",
       "      <td>F</td>\n",
       "      <td>No</td>\n",
       "      <td>No</td>\n",
       "      <td>Micropapillary</td>\n",
       "      <td>Uni-Focal</td>\n",
       "      <td>Low</td>\n",
       "      <td>T1a</td>\n",
       "      <td>N0</td>\n",
       "      <td>M0</td>\n",
       "      <td>I</td>\n",
       "      <td>Excellent</td>\n",
       "      <td>No</td>\n",
       "    </tr>\n",
       "    <tr>\n",
       "      <th>3</th>\n",
       "      <td>62</td>\n",
       "      <td>F</td>\n",
       "      <td>No</td>\n",
       "      <td>No</td>\n",
       "      <td>Micropapillary</td>\n",
       "      <td>Uni-Focal</td>\n",
       "      <td>Low</td>\n",
       "      <td>T1a</td>\n",
       "      <td>N0</td>\n",
       "      <td>M0</td>\n",
       "      <td>I</td>\n",
       "      <td>Excellent</td>\n",
       "      <td>No</td>\n",
       "    </tr>\n",
       "    <tr>\n",
       "      <th>4</th>\n",
       "      <td>62</td>\n",
       "      <td>F</td>\n",
       "      <td>No</td>\n",
       "      <td>No</td>\n",
       "      <td>Micropapillary</td>\n",
       "      <td>Multi-Focal</td>\n",
       "      <td>Low</td>\n",
       "      <td>T1a</td>\n",
       "      <td>N0</td>\n",
       "      <td>M0</td>\n",
       "      <td>I</td>\n",
       "      <td>Excellent</td>\n",
       "      <td>No</td>\n",
       "    </tr>\n",
       "  </tbody>\n",
       "</table>\n",
       "</div>"
      ],
      "text/plain": [
       "   Age Gender Hx Radiothreapy Adenopathy       Pathology     Focality Risk  \\\n",
       "0   27      F              No         No  Micropapillary    Uni-Focal  Low   \n",
       "1   34      F              No         No  Micropapillary    Uni-Focal  Low   \n",
       "2   30      F              No         No  Micropapillary    Uni-Focal  Low   \n",
       "3   62      F              No         No  Micropapillary    Uni-Focal  Low   \n",
       "4   62      F              No         No  Micropapillary  Multi-Focal  Low   \n",
       "\n",
       "     T   N   M Stage       Response Recurred  \n",
       "0  T1a  N0  M0     I  Indeterminate       No  \n",
       "1  T1a  N0  M0     I      Excellent       No  \n",
       "2  T1a  N0  M0     I      Excellent       No  \n",
       "3  T1a  N0  M0     I      Excellent       No  \n",
       "4  T1a  N0  M0     I      Excellent       No  "
      ]
     },
     "execution_count": 2,
     "metadata": {},
     "output_type": "execute_result"
    }
   ],
   "source": [
    "df = pd.read_csv(\"/kaggle/input/thyroid-cancer-recurrence-dataset/filtered_thyroid_data.csv\")\n",
    "df.head()"
   ]
  },
  {
   "cell_type": "code",
   "execution_count": 3,
   "id": "f106a2b7",
   "metadata": {
    "execution": {
     "iopub.execute_input": "2025-04-15T17:32:06.910667Z",
     "iopub.status.busy": "2025-04-15T17:32:06.910396Z",
     "iopub.status.idle": "2025-04-15T17:32:06.937973Z",
     "shell.execute_reply": "2025-04-15T17:32:06.936890Z"
    },
    "papermill": {
     "duration": 0.034015,
     "end_time": "2025-04-15T17:32:06.939497",
     "exception": false,
     "start_time": "2025-04-15T17:32:06.905482",
     "status": "completed"
    },
    "tags": []
   },
   "outputs": [
    {
     "name": "stdout",
     "output_type": "stream",
     "text": [
      "<class 'pandas.core.frame.DataFrame'>\n",
      "RangeIndex: 383 entries, 0 to 382\n",
      "Data columns (total 13 columns):\n",
      " #   Column           Non-Null Count  Dtype \n",
      "---  ------           --------------  ----- \n",
      " 0   Age              383 non-null    int64 \n",
      " 1   Gender           383 non-null    object\n",
      " 2   Hx Radiothreapy  383 non-null    object\n",
      " 3   Adenopathy       383 non-null    object\n",
      " 4   Pathology        383 non-null    object\n",
      " 5   Focality         383 non-null    object\n",
      " 6   Risk             383 non-null    object\n",
      " 7   T                383 non-null    object\n",
      " 8   N                383 non-null    object\n",
      " 9   M                383 non-null    object\n",
      " 10  Stage            383 non-null    object\n",
      " 11  Response         383 non-null    object\n",
      " 12  Recurred         383 non-null    object\n",
      "dtypes: int64(1), object(12)\n",
      "memory usage: 39.0+ KB\n"
     ]
    }
   ],
   "source": [
    "df.info()"
   ]
  },
  {
   "cell_type": "code",
   "execution_count": 4,
   "id": "c2e82d09",
   "metadata": {
    "execution": {
     "iopub.execute_input": "2025-04-15T17:32:06.949178Z",
     "iopub.status.busy": "2025-04-15T17:32:06.948867Z",
     "iopub.status.idle": "2025-04-15T17:32:06.956276Z",
     "shell.execute_reply": "2025-04-15T17:32:06.955482Z"
    },
    "papermill": {
     "duration": 0.013999,
     "end_time": "2025-04-15T17:32:06.957761",
     "exception": false,
     "start_time": "2025-04-15T17:32:06.943762",
     "status": "completed"
    },
    "tags": []
   },
   "outputs": [
    {
     "data": {
      "text/plain": [
       "Age                0\n",
       "Gender             0\n",
       "Hx Radiothreapy    0\n",
       "Adenopathy         0\n",
       "Pathology          0\n",
       "Focality           0\n",
       "Risk               0\n",
       "T                  0\n",
       "N                  0\n",
       "M                  0\n",
       "Stage              0\n",
       "Response           0\n",
       "Recurred           0\n",
       "dtype: int64"
      ]
     },
     "execution_count": 4,
     "metadata": {},
     "output_type": "execute_result"
    }
   ],
   "source": [
    "df.isnull().sum()"
   ]
  },
  {
   "cell_type": "code",
   "execution_count": 5,
   "id": "cb7120ab",
   "metadata": {
    "execution": {
     "iopub.execute_input": "2025-04-15T17:32:06.967462Z",
     "iopub.status.busy": "2025-04-15T17:32:06.966997Z",
     "iopub.status.idle": "2025-04-15T17:32:06.974918Z",
     "shell.execute_reply": "2025-04-15T17:32:06.974278Z"
    },
    "papermill": {
     "duration": 0.014243,
     "end_time": "2025-04-15T17:32:06.976326",
     "exception": false,
     "start_time": "2025-04-15T17:32:06.962083",
     "status": "completed"
    },
    "tags": []
   },
   "outputs": [
    {
     "data": {
      "text/plain": [
       "53"
      ]
     },
     "execution_count": 5,
     "metadata": {},
     "output_type": "execute_result"
    }
   ],
   "source": [
    "df.duplicated().sum()"
   ]
  },
  {
   "cell_type": "code",
   "execution_count": 6,
   "id": "e05668dd",
   "metadata": {
    "execution": {
     "iopub.execute_input": "2025-04-15T17:32:06.986090Z",
     "iopub.status.busy": "2025-04-15T17:32:06.985785Z",
     "iopub.status.idle": "2025-04-15T17:32:07.001153Z",
     "shell.execute_reply": "2025-04-15T17:32:07.000328Z"
    },
    "papermill": {
     "duration": 0.02199,
     "end_time": "2025-04-15T17:32:07.002591",
     "exception": false,
     "start_time": "2025-04-15T17:32:06.980601",
     "status": "completed"
    },
    "tags": []
   },
   "outputs": [
    {
     "data": {
      "text/html": [
       "<div>\n",
       "<style scoped>\n",
       "    .dataframe tbody tr th:only-of-type {\n",
       "        vertical-align: middle;\n",
       "    }\n",
       "\n",
       "    .dataframe tbody tr th {\n",
       "        vertical-align: top;\n",
       "    }\n",
       "\n",
       "    .dataframe thead th {\n",
       "        text-align: right;\n",
       "    }\n",
       "</style>\n",
       "<table border=\"1\" class=\"dataframe\">\n",
       "  <thead>\n",
       "    <tr style=\"text-align: right;\">\n",
       "      <th></th>\n",
       "      <th>Age</th>\n",
       "    </tr>\n",
       "  </thead>\n",
       "  <tbody>\n",
       "    <tr>\n",
       "      <th>count</th>\n",
       "      <td>383.000000</td>\n",
       "    </tr>\n",
       "    <tr>\n",
       "      <th>mean</th>\n",
       "      <td>40.866841</td>\n",
       "    </tr>\n",
       "    <tr>\n",
       "      <th>std</th>\n",
       "      <td>15.134494</td>\n",
       "    </tr>\n",
       "    <tr>\n",
       "      <th>min</th>\n",
       "      <td>15.000000</td>\n",
       "    </tr>\n",
       "    <tr>\n",
       "      <th>25%</th>\n",
       "      <td>29.000000</td>\n",
       "    </tr>\n",
       "    <tr>\n",
       "      <th>50%</th>\n",
       "      <td>37.000000</td>\n",
       "    </tr>\n",
       "    <tr>\n",
       "      <th>75%</th>\n",
       "      <td>51.000000</td>\n",
       "    </tr>\n",
       "    <tr>\n",
       "      <th>max</th>\n",
       "      <td>82.000000</td>\n",
       "    </tr>\n",
       "  </tbody>\n",
       "</table>\n",
       "</div>"
      ],
      "text/plain": [
       "              Age\n",
       "count  383.000000\n",
       "mean    40.866841\n",
       "std     15.134494\n",
       "min     15.000000\n",
       "25%     29.000000\n",
       "50%     37.000000\n",
       "75%     51.000000\n",
       "max     82.000000"
      ]
     },
     "execution_count": 6,
     "metadata": {},
     "output_type": "execute_result"
    }
   ],
   "source": [
    "df.describe()"
   ]
  },
  {
   "cell_type": "code",
   "execution_count": 7,
   "id": "12e69dc0",
   "metadata": {
    "execution": {
     "iopub.execute_input": "2025-04-15T17:32:07.012977Z",
     "iopub.status.busy": "2025-04-15T17:32:07.012642Z",
     "iopub.status.idle": "2025-04-15T17:32:07.024369Z",
     "shell.execute_reply": "2025-04-15T17:32:07.023607Z"
    },
    "papermill": {
     "duration": 0.018508,
     "end_time": "2025-04-15T17:32:07.025705",
     "exception": false,
     "start_time": "2025-04-15T17:32:07.007197",
     "status": "completed"
    },
    "tags": []
   },
   "outputs": [
    {
     "data": {
      "text/plain": [
       "0"
      ]
     },
     "execution_count": 7,
     "metadata": {},
     "output_type": "execute_result"
    }
   ],
   "source": [
    "df.drop_duplicates(inplace=True)\n",
    "df.duplicated().sum()"
   ]
  },
  {
   "cell_type": "code",
   "execution_count": 8,
   "id": "8ff56cfb",
   "metadata": {
    "execution": {
     "iopub.execute_input": "2025-04-15T17:32:07.035899Z",
     "iopub.status.busy": "2025-04-15T17:32:07.035565Z",
     "iopub.status.idle": "2025-04-15T17:32:07.041321Z",
     "shell.execute_reply": "2025-04-15T17:32:07.040379Z"
    },
    "papermill": {
     "duration": 0.012693,
     "end_time": "2025-04-15T17:32:07.042965",
     "exception": false,
     "start_time": "2025-04-15T17:32:07.030272",
     "status": "completed"
    },
    "tags": []
   },
   "outputs": [],
   "source": [
    "df.columns = df.columns.str.strip().str.lower().str.replace(' ', '_')"
   ]
  },
  {
   "cell_type": "code",
   "execution_count": 9,
   "id": "95977899",
   "metadata": {
    "execution": {
     "iopub.execute_input": "2025-04-15T17:32:07.053595Z",
     "iopub.status.busy": "2025-04-15T17:32:07.053320Z",
     "iopub.status.idle": "2025-04-15T17:32:07.067997Z",
     "shell.execute_reply": "2025-04-15T17:32:07.067235Z"
    },
    "papermill": {
     "duration": 0.021558,
     "end_time": "2025-04-15T17:32:07.069466",
     "exception": false,
     "start_time": "2025-04-15T17:32:07.047908",
     "status": "completed"
    },
    "tags": []
   },
   "outputs": [
    {
     "data": {
      "text/html": [
       "<div>\n",
       "<style scoped>\n",
       "    .dataframe tbody tr th:only-of-type {\n",
       "        vertical-align: middle;\n",
       "    }\n",
       "\n",
       "    .dataframe tbody tr th {\n",
       "        vertical-align: top;\n",
       "    }\n",
       "\n",
       "    .dataframe thead th {\n",
       "        text-align: right;\n",
       "    }\n",
       "</style>\n",
       "<table border=\"1\" class=\"dataframe\">\n",
       "  <thead>\n",
       "    <tr style=\"text-align: right;\">\n",
       "      <th></th>\n",
       "      <th>age</th>\n",
       "      <th>gender</th>\n",
       "      <th>hx_radiothreapy</th>\n",
       "      <th>adenopathy</th>\n",
       "      <th>pathology</th>\n",
       "      <th>focality</th>\n",
       "      <th>risk</th>\n",
       "      <th>t</th>\n",
       "      <th>n</th>\n",
       "      <th>m</th>\n",
       "      <th>stage</th>\n",
       "      <th>response</th>\n",
       "      <th>recurred</th>\n",
       "      <th>age_group</th>\n",
       "    </tr>\n",
       "  </thead>\n",
       "  <tbody>\n",
       "    <tr>\n",
       "      <th>0</th>\n",
       "      <td>27</td>\n",
       "      <td>F</td>\n",
       "      <td>No</td>\n",
       "      <td>No</td>\n",
       "      <td>Micropapillary</td>\n",
       "      <td>Uni-Focal</td>\n",
       "      <td>Low</td>\n",
       "      <td>T1a</td>\n",
       "      <td>N0</td>\n",
       "      <td>M0</td>\n",
       "      <td>I</td>\n",
       "      <td>Indeterminate</td>\n",
       "      <td>No</td>\n",
       "      <td>Adult</td>\n",
       "    </tr>\n",
       "    <tr>\n",
       "      <th>1</th>\n",
       "      <td>34</td>\n",
       "      <td>F</td>\n",
       "      <td>No</td>\n",
       "      <td>No</td>\n",
       "      <td>Micropapillary</td>\n",
       "      <td>Uni-Focal</td>\n",
       "      <td>Low</td>\n",
       "      <td>T1a</td>\n",
       "      <td>N0</td>\n",
       "      <td>M0</td>\n",
       "      <td>I</td>\n",
       "      <td>Excellent</td>\n",
       "      <td>No</td>\n",
       "      <td>Adult</td>\n",
       "    </tr>\n",
       "    <tr>\n",
       "      <th>2</th>\n",
       "      <td>30</td>\n",
       "      <td>F</td>\n",
       "      <td>No</td>\n",
       "      <td>No</td>\n",
       "      <td>Micropapillary</td>\n",
       "      <td>Uni-Focal</td>\n",
       "      <td>Low</td>\n",
       "      <td>T1a</td>\n",
       "      <td>N0</td>\n",
       "      <td>M0</td>\n",
       "      <td>I</td>\n",
       "      <td>Excellent</td>\n",
       "      <td>No</td>\n",
       "      <td>Adult</td>\n",
       "    </tr>\n",
       "    <tr>\n",
       "      <th>3</th>\n",
       "      <td>62</td>\n",
       "      <td>F</td>\n",
       "      <td>No</td>\n",
       "      <td>No</td>\n",
       "      <td>Micropapillary</td>\n",
       "      <td>Uni-Focal</td>\n",
       "      <td>Low</td>\n",
       "      <td>T1a</td>\n",
       "      <td>N0</td>\n",
       "      <td>M0</td>\n",
       "      <td>I</td>\n",
       "      <td>Excellent</td>\n",
       "      <td>No</td>\n",
       "      <td>Senior</td>\n",
       "    </tr>\n",
       "    <tr>\n",
       "      <th>4</th>\n",
       "      <td>62</td>\n",
       "      <td>F</td>\n",
       "      <td>No</td>\n",
       "      <td>No</td>\n",
       "      <td>Micropapillary</td>\n",
       "      <td>Multi-Focal</td>\n",
       "      <td>Low</td>\n",
       "      <td>T1a</td>\n",
       "      <td>N0</td>\n",
       "      <td>M0</td>\n",
       "      <td>I</td>\n",
       "      <td>Excellent</td>\n",
       "      <td>No</td>\n",
       "      <td>Senior</td>\n",
       "    </tr>\n",
       "  </tbody>\n",
       "</table>\n",
       "</div>"
      ],
      "text/plain": [
       "   age gender hx_radiothreapy adenopathy       pathology     focality risk  \\\n",
       "0   27      F              No         No  Micropapillary    Uni-Focal  Low   \n",
       "1   34      F              No         No  Micropapillary    Uni-Focal  Low   \n",
       "2   30      F              No         No  Micropapillary    Uni-Focal  Low   \n",
       "3   62      F              No         No  Micropapillary    Uni-Focal  Low   \n",
       "4   62      F              No         No  Micropapillary  Multi-Focal  Low   \n",
       "\n",
       "     t   n   m stage       response recurred age_group  \n",
       "0  T1a  N0  M0     I  Indeterminate       No     Adult  \n",
       "1  T1a  N0  M0     I      Excellent       No     Adult  \n",
       "2  T1a  N0  M0     I      Excellent       No     Adult  \n",
       "3  T1a  N0  M0     I      Excellent       No    Senior  \n",
       "4  T1a  N0  M0     I      Excellent       No    Senior  "
      ]
     },
     "execution_count": 9,
     "metadata": {},
     "output_type": "execute_result"
    }
   ],
   "source": [
    "df['age_group'] = ['Senior' if age > 50 else 'Adult' for age in df['age']]\n",
    "df.head()"
   ]
  },
  {
   "cell_type": "code",
   "execution_count": 10,
   "id": "37b4e658",
   "metadata": {
    "execution": {
     "iopub.execute_input": "2025-04-15T17:32:07.080956Z",
     "iopub.status.busy": "2025-04-15T17:32:07.080293Z",
     "iopub.status.idle": "2025-04-15T17:32:09.397584Z",
     "shell.execute_reply": "2025-04-15T17:32:09.396658Z"
    },
    "papermill": {
     "duration": 2.32436,
     "end_time": "2025-04-15T17:32:09.399190",
     "exception": false,
     "start_time": "2025-04-15T17:32:07.074830",
     "status": "completed"
    },
    "tags": []
   },
   "outputs": [
    {
     "data": {
      "image/png": "[encoded data removed]",
      "text/plain": [
       "<Figure size 640x480 with 1 Axes>"
      ]
     },
     "metadata": {},
     "output_type": "display_data"
    }
   ],
   "source": [
    "import seaborn as sns\n",
    "import matplotlib.pyplot as plt\n",
    "\n",
    "sns.countplot(x='recurred', data=df)\n",
    "plt.title(\"Class Distribution (Recurred)\")\n",
    "plt.show()"
   ]
  },
  {
   "cell_type": "code",
   "execution_count": 11,
   "id": "54280166",
   "metadata": {
    "execution": {
     "iopub.execute_input": "2025-04-15T17:32:09.411458Z",
     "iopub.status.busy": "2025-04-15T17:32:09.411027Z",
     "iopub.status.idle": "2025-04-15T17:32:09.573135Z",
     "shell.execute_reply": "2025-04-15T17:32:09.572098Z"
    },
    "papermill": {
     "duration": 0.170384,
     "end_time": "2025-04-15T17:32:09.574686",
     "exception": false,
     "start_time": "2025-04-15T17:32:09.404302",
     "status": "completed"
    },
    "tags": []
   },
   "outputs": [
    {
     "data": {
      "image/png": "[encoded data removed]",
      "text/plain": [
       "<Figure size 640x480 with 1 Axes>"
      ]
     },
     "metadata": {},
     "output_type": "display_data"
    }
   ],
   "source": [
    "sns.boxplot(x='recurred', y='age', data=df)\n",
    "plt.title(\"Age Distribution by Recurrence\")\n",
    "plt.show()"
   ]
  },
  {
   "cell_type": "code",
   "execution_count": 12,
   "id": "0bfbddfb",
   "metadata": {
    "execution": {
     "iopub.execute_input": "2025-04-15T17:32:09.587061Z",
     "iopub.status.busy": "2025-04-15T17:32:09.586685Z",
     "iopub.status.idle": "2025-04-15T17:32:09.770559Z",
     "shell.execute_reply": "2025-04-15T17:32:09.769531Z"
    },
    "papermill": {
     "duration": 0.191965,
     "end_time": "2025-04-15T17:32:09.772222",
     "exception": false,
     "start_time": "2025-04-15T17:32:09.580257",
     "status": "completed"
    },
    "tags": []
   },
   "outputs": [
    {
     "data": {
      "image/png": "[encoded data removed]",
      "text/plain": [
       "<Figure size 640x480 with 1 Axes>"
      ]
     },
     "metadata": {},
     "output_type": "display_data"
    }
   ],
   "source": [
    "sns.countplot(x='risk', hue='recurred', data=df)\n",
    "plt.title(\"Risk Level vs Recurrence\")\n",
    "plt.show()"
   ]
  },
  {
   "cell_type": "code",
   "execution_count": 13,
   "id": "857dbe9b",
   "metadata": {
    "execution": {
     "iopub.execute_input": "2025-04-15T17:32:09.785600Z",
     "iopub.status.busy": "2025-04-15T17:32:09.785288Z",
     "iopub.status.idle": "2025-04-15T17:32:09.790911Z",
     "shell.execute_reply": "2025-04-15T17:32:09.789959Z"
    },
    "papermill": {
     "duration": 0.014245,
     "end_time": "2025-04-15T17:32:09.792447",
     "exception": false,
     "start_time": "2025-04-15T17:32:09.778202",
     "status": "completed"
    },
    "tags": []
   },
   "outputs": [],
   "source": [
    "df['recurred'] = df['recurred'].map({'No': 0, 'Yes': 1})"
   ]
  },
  {
   "cell_type": "code",
   "execution_count": 14,
   "id": "858c80c5",
   "metadata": {
    "execution": {
     "iopub.execute_input": "2025-04-15T17:32:09.805357Z",
     "iopub.status.busy": "2025-04-15T17:32:09.805049Z",
     "iopub.status.idle": "2025-04-15T17:32:09.822371Z",
     "shell.execute_reply": "2025-04-15T17:32:09.821481Z"
    },
    "papermill": {
     "duration": 0.025817,
     "end_time": "2025-04-15T17:32:09.824271",
     "exception": false,
     "start_time": "2025-04-15T17:32:09.798454",
     "status": "completed"
    },
    "tags": []
   },
   "outputs": [],
   "source": [
    "df_encoded = pd.get_dummies(df.drop(columns=['recurred']), drop_first=True)"
   ]
  },
  {
   "cell_type": "code",
   "execution_count": 15,
   "id": "a6921747",
   "metadata": {
    "execution": {
     "iopub.execute_input": "2025-04-15T17:32:09.837313Z",
     "iopub.status.busy": "2025-04-15T17:32:09.837004Z",
     "iopub.status.idle": "2025-04-15T17:32:09.841739Z",
     "shell.execute_reply": "2025-04-15T17:32:09.840674Z"
    },
    "papermill": {
     "duration": 0.013267,
     "end_time": "2025-04-15T17:32:09.843362",
     "exception": false,
     "start_time": "2025-04-15T17:32:09.830095",
     "status": "completed"
    },
    "tags": []
   },
   "outputs": [],
   "source": [
    "X = df_encoded\n",
    "y = df['recurred']"
   ]
  },
  {
   "cell_type": "code",
   "execution_count": 16,
   "id": "776cbe1f",
   "metadata": {
    "execution": {
     "iopub.execute_input": "2025-04-15T17:32:09.856360Z",
     "iopub.status.busy": "2025-04-15T17:32:09.856058Z",
     "iopub.status.idle": "2025-04-15T17:32:10.738498Z",
     "shell.execute_reply": "2025-04-15T17:32:10.737332Z"
    },
    "papermill": {
     "duration": 0.890802,
     "end_time": "2025-04-15T17:32:10.740144",
     "exception": false,
     "start_time": "2025-04-15T17:32:09.849342",
     "status": "completed"
    },
    "tags": []
   },
   "outputs": [
    {
     "name": "stdout",
     "output_type": "stream",
     "text": [
      "[[39  1]\n",
      " [ 4 22]]\n",
      "              precision    recall  f1-score   support\n",
      "\n",
      "           0       0.91      0.97      0.94        40\n",
      "           1       0.96      0.85      0.90        26\n",
      "\n",
      "    accuracy                           0.92        66\n",
      "   macro avg       0.93      0.91      0.92        66\n",
      "weighted avg       0.93      0.92      0.92        66\n",
      "\n"
     ]
    }
   ],
   "source": [
    "from sklearn.model_selection import train_test_split\n",
    "from sklearn.ensemble import RandomForestClassifier\n",
    "from sklearn.metrics import classification_report, confusion_matrix\n",
    "\n",
    "X_train, X_test, y_train, y_test = train_test_split(X, y, test_size=0.2, random_state=42)\n",
    "\n",
    "model = RandomForestClassifier()\n",
    "model.fit(X_train, y_train)\n",
    "\n",
    "y_pred = model.predict(X_test)\n",
    "\n",
    "print(confusion_matrix(y_test, y_pred))\n",
    "print(classification_report(y_test, y_pred))"
   ]
  },
  {
   "cell_type": "code",
   "execution_count": 17,
   "id": "83476bf9",
   "metadata": {
    "execution": {
     "iopub.execute_input": "2025-04-15T17:32:10.753350Z",
     "iopub.status.busy": "2025-04-15T17:32:10.753028Z",
     "iopub.status.idle": "2025-04-15T17:32:10.962653Z",
     "shell.execute_reply": "2025-04-15T17:32:10.961592Z"
    },
    "papermill": {
     "duration": 0.218041,
     "end_time": "2025-04-15T17:32:10.964248",
     "exception": false,
     "start_time": "2025-04-15T17:32:10.746207",
     "status": "completed"
    },
    "tags": []
   },
   "outputs": [
    {
     "data": {
      "image/png": "[encoded data removed]",
      "text/plain": [
       "<Figure size 640x480 with 2 Axes>"
      ]
     },
     "metadata": {},
     "output_type": "display_data"
    }
   ],
   "source": [
    "\n",
    "from sklearn.metrics import ConfusionMatrixDisplay\n",
    "\n",
    "ConfusionMatrixDisplay.from_estimator(model, X_test, y_test, cmap='Blues')\n",
    "plt.title(\"Confusion Matrix – Thyroid Cancer Recurrence\")\n",
    "plt.show()\n"
   ]
  },
  {
   "cell_type": "code",
   "execution_count": 18,
   "id": "9925d2de",
   "metadata": {
    "execution": {
     "iopub.execute_input": "2025-04-15T17:32:10.978458Z",
     "iopub.status.busy": "2025-04-15T17:32:10.978138Z",
     "iopub.status.idle": "2025-04-15T17:32:11.242271Z",
     "shell.execute_reply": "2025-04-15T17:32:11.241243Z"
    },
    "papermill": {
     "duration": 0.272606,
     "end_time": "2025-04-15T17:32:11.243702",
     "exception": false,
     "start_time": "2025-04-15T17:32:10.971096",
     "status": "completed"
    },
    "tags": []
   },
   "outputs": [
    {
     "data": {
      "image/png": "[encoded data removed]",
      "text/plain": [
       "<Figure size 640x480 with 1 Axes>"
      ]
     },
     "metadata": {},
     "output_type": "display_data"
    }
   ],
   "source": [
    "feat_importances = pd.Series(model.feature_importances_, index=X.columns)\n",
    "feat_importances.nlargest(10).plot(kind='barh')\n",
    "plt.title(\"Top 10 Features Predicting Recurrence\")\n",
    "plt.xlabel(\"Importance\")\n",
    "plt.show()\n"
   ]
  },
  {
   "cell_type": "code",
   "execution_count": 19,
   "id": "550fb674",
   "metadata": {
    "execution": {
     "iopub.execute_input": "2025-04-15T17:32:11.258776Z",
     "iopub.status.busy": "2025-04-15T17:32:11.258426Z",
     "iopub.status.idle": "2025-04-15T17:32:11.270061Z",
     "shell.execute_reply": "2025-04-15T17:32:11.269054Z"
    },
    "papermill": {
     "duration": 0.020995,
     "end_time": "2025-04-15T17:32:11.271642",
     "exception": false,
     "start_time": "2025-04-15T17:32:11.250647",
     "status": "completed"
    },
    "tags": []
   },
   "outputs": [],
   "source": [
    "df.to_csv(\"thyroid_cancer.csv\", index=False)"
   ]
  },
  {
   "cell_type": "code",
   "execution_count": null,
   "id": "b92973d2",
   "metadata": {
    "papermill": {
     "duration": 0.006613,
     "end_time": "2025-04-15T17:32:11.285285",
     "exception": false,
     "start_time": "2025-04-15T17:32:11.278672",
     "status": "completed"
    },
    "tags": []
   },
   "outputs": [],
   "source": []
  }
 ],
 "metadata": {
  "kaggle": {
   "accelerator": "none",
   "dataSources": [
    {
     "datasetId": 6889747,
     "sourceId": 11058290,
     "sourceType": "datasetVersion"
    }
   ],
   "dockerImageVersionId": 31012,
   "isGpuEnabled": false,
   "isInternetEnabled": true,
   "language": "python",
   "sourceType": "notebook"
  },
  "kernelspec": {
   "display_name": "Python 3",
   "language": "python",
   "name": "python3"
  },
  "language_info": {
   "codemirror_mode": {
    "name": "ipython",
    "version": 3
   },
   "file_extension": ".py",
   "mimetype": "text/x-python",
   "name": "python",
   "nbconvert_exporter": "python",
   "pygments_lexer": "ipython3",
   "version": "3.11.11"
  },
  "papermill": {
   "default_parameters": {},
   "duration": 12.088797,
   "end_time": "2025-04-15T17:32:12.011773",
   "environment_variables": {},
   "exception": null,
   "input_path": "__notebook__.ipynb",
   "output_path": "__notebook__.ipynb",
   "parameters": {},
   "start_time": "2025-04-15T17:31:59.922976",
   "version": "2.6.0"
  }
 },
 "nbformat": 4,
 "nbformat_minor": 5
}
