{
 "cells": [
  {
   "cell_type": "code",
   "execution_count": 1,
   "id": "2f556e2a",
   "metadata": {
    "_cell_guid": "b1076dfc-b9ad-4769-8c92-a6c4dae69d19",
    "_uuid": "8f2839f25d086af736a60e9eeb907d3b93b6e0e5",
    "execution": {
     "iopub.execute_input": "2025-04-08T12:32:19.188350Z",
     "iopub.status.busy": "2025-04-08T12:32:19.188031Z",
     "iopub.status.idle": "2025-04-08T12:32:20.187702Z",
     "shell.execute_reply": "2025-04-08T12:32:20.186467Z"
    },
    "papermill": {
     "duration": 1.008083,
     "end_time": "2025-04-08T12:32:20.189657",
     "exception": false,
     "start_time": "2025-04-08T12:32:19.181574",
     "status": "completed"
    },
    "tags": []
   },
   "outputs": [
    {
     "name": "stdout",
     "output_type": "stream",
     "text": [
      "/kaggle/input/nlp-task/movies_overview.csv\n",
      "/kaggle/input/nlp-task/movies_genres.csv\n"
     ]
    }
   ],
   "source": [
    "# This Python 3 environment comes with many helpful analytics libraries installed\n",
    "# It is defined by the kaggle/python Docker image: https://github.com/kaggle/docker-python\n",
    "# For example, here's several helpful packages to load\n",
    "\n",
    "import numpy as np # linear algebra\n",
    "import pandas as pd # data processing, CSV file I/O (e.g. pd.read_csv)\n",
    "\n",
    "# Input data files are available in the read-only \"../input/\" directory\n",
    "# For example, running this (by clicking run or pressing Shift+Enter) will list all files under the input directory\n",
    "\n",
    "import os\n",
    "for dirname, _, filenames in os.walk('/kaggle/input'):\n",
    "    for filename in filenames:\n",
    "        print(os.path.join(dirname, filename))\n",
    "\n",
    "# You can write up to 20GB to the current directory (/kaggle/working/) that gets preserved as output when you create a version using \"Save & Run All\" \n",
    "# You can also write temporary files to /kaggle/temp/, but they won't be saved outside of the current session"
   ]
  },
  {
   "cell_type": "code",
   "execution_count": 2,
   "id": "391a6d52",
   "metadata": {
    "execution": {
     "iopub.execute_input": "2025-04-08T12:32:20.201009Z",
     "iopub.status.busy": "2025-04-08T12:32:20.200544Z",
     "iopub.status.idle": "2025-04-08T12:32:20.332647Z",
     "shell.execute_reply": "2025-04-08T12:32:20.331595Z"
    },
    "papermill": {
     "duration": 0.139616,
     "end_time": "2025-04-08T12:32:20.334554",
     "exception": false,
     "start_time": "2025-04-08T12:32:20.194938",
     "status": "completed"
    },
    "tags": []
   },
   "outputs": [],
   "source": [
    "movies_df = pd.read_csv(\"/kaggle/input/nlp-task/movies_overview.csv\")\n",
    "\n",
    "genres_df = pd.read_csv(\"/kaggle/input/nlp-task/movies_genres.csv\")"
   ]
  },
  {
   "cell_type": "code",
   "execution_count": 3,
   "id": "65b4a120",
   "metadata": {
    "execution": {
     "iopub.execute_input": "2025-04-08T12:32:20.345101Z",
     "iopub.status.busy": "2025-04-08T12:32:20.344771Z",
     "iopub.status.idle": "2025-04-08T12:32:20.376178Z",
     "shell.execute_reply": "2025-04-08T12:32:20.375012Z"
    },
    "papermill": {
     "duration": 0.038313,
     "end_time": "2025-04-08T12:32:20.377695",
     "exception": false,
     "start_time": "2025-04-08T12:32:20.339382",
     "status": "completed"
    },
    "tags": []
   },
   "outputs": [
    {
     "name": "stdout",
     "output_type": "stream",
     "text": [
      "🎬 Movie Dataset:\n"
     ]
    },
    {
     "data": {
      "text/html": [
       "<div>\n",
       "<style scoped>\n",
       "    .dataframe tbody tr th:only-of-type {\n",
       "        vertical-align: middle;\n",
       "    }\n",
       "\n",
       "    .dataframe tbody tr th {\n",
       "        vertical-align: top;\n",
       "    }\n",
       "\n",
       "    .dataframe thead th {\n",
       "        text-align: right;\n",
       "    }\n",
       "</style>\n",
       "<table border=\"1\" class=\"dataframe\">\n",
       "  <thead>\n",
       "    <tr style=\"text-align: right;\">\n",
       "      <th></th>\n",
       "      <th>title</th>\n",
       "      <th>overview</th>\n",
       "      <th>genre_ids</th>\n",
       "    </tr>\n",
       "  </thead>\n",
       "  <tbody>\n",
       "    <tr>\n",
       "      <th>0</th>\n",
       "      <td>The Shawshank Redemption</td>\n",
       "      <td>Imprisoned in the 1940s for the double murder ...</td>\n",
       "      <td>[18, 80]</td>\n",
       "    </tr>\n",
       "    <tr>\n",
       "      <th>1</th>\n",
       "      <td>The Godfather</td>\n",
       "      <td>Spanning the years 1945 to 1955, a chronicle o...</td>\n",
       "      <td>[18, 80]</td>\n",
       "    </tr>\n",
       "    <tr>\n",
       "      <th>2</th>\n",
       "      <td>The Godfather Part II</td>\n",
       "      <td>In the continuing saga of the Corleone crime f...</td>\n",
       "      <td>[18, 80]</td>\n",
       "    </tr>\n",
       "    <tr>\n",
       "      <th>3</th>\n",
       "      <td>Schindler's List</td>\n",
       "      <td>The true story of how businessman Oskar Schind...</td>\n",
       "      <td>[18, 36, 10752]</td>\n",
       "    </tr>\n",
       "    <tr>\n",
       "      <th>4</th>\n",
       "      <td>12 Angry Men</td>\n",
       "      <td>The defense and the prosecution have rested an...</td>\n",
       "      <td>[18]</td>\n",
       "    </tr>\n",
       "  </tbody>\n",
       "</table>\n",
       "</div>"
      ],
      "text/plain": [
       "                      title  \\\n",
       "0  The Shawshank Redemption   \n",
       "1             The Godfather   \n",
       "2     The Godfather Part II   \n",
       "3          Schindler's List   \n",
       "4              12 Angry Men   \n",
       "\n",
       "                                            overview        genre_ids  \n",
       "0  Imprisoned in the 1940s for the double murder ...         [18, 80]  \n",
       "1  Spanning the years 1945 to 1955, a chronicle o...         [18, 80]  \n",
       "2  In the continuing saga of the Corleone crime f...         [18, 80]  \n",
       "3  The true story of how businessman Oskar Schind...  [18, 36, 10752]  \n",
       "4  The defense and the prosecution have rested an...             [18]  "
      ]
     },
     "metadata": {},
     "output_type": "display_data"
    },
    {
     "name": "stdout",
     "output_type": "stream",
     "text": [
      "\n",
      "🎭 Genre Reference Table:\n"
     ]
    },
    {
     "data": {
      "text/html": [
       "<div>\n",
       "<style scoped>\n",
       "    .dataframe tbody tr th:only-of-type {\n",
       "        vertical-align: middle;\n",
       "    }\n",
       "\n",
       "    .dataframe tbody tr th {\n",
       "        vertical-align: top;\n",
       "    }\n",
       "\n",
       "    .dataframe thead th {\n",
       "        text-align: right;\n",
       "    }\n",
       "</style>\n",
       "<table border=\"1\" class=\"dataframe\">\n",
       "  <thead>\n",
       "    <tr style=\"text-align: right;\">\n",
       "      <th></th>\n",
       "      <th>id</th>\n",
       "      <th>name</th>\n",
       "    </tr>\n",
       "  </thead>\n",
       "  <tbody>\n",
       "    <tr>\n",
       "      <th>0</th>\n",
       "      <td>28</td>\n",
       "      <td>Action</td>\n",
       "    </tr>\n",
       "    <tr>\n",
       "      <th>1</th>\n",
       "      <td>12</td>\n",
       "      <td>Adventure</td>\n",
       "    </tr>\n",
       "    <tr>\n",
       "      <th>2</th>\n",
       "      <td>16</td>\n",
       "      <td>Animation</td>\n",
       "    </tr>\n",
       "    <tr>\n",
       "      <th>3</th>\n",
       "      <td>35</td>\n",
       "      <td>Comedy</td>\n",
       "    </tr>\n",
       "    <tr>\n",
       "      <th>4</th>\n",
       "      <td>80</td>\n",
       "      <td>Crime</td>\n",
       "    </tr>\n",
       "  </tbody>\n",
       "</table>\n",
       "</div>"
      ],
      "text/plain": [
       "   id       name\n",
       "0  28     Action\n",
       "1  12  Adventure\n",
       "2  16  Animation\n",
       "3  35     Comedy\n",
       "4  80      Crime"
      ]
     },
     "metadata": {},
     "output_type": "display_data"
    }
   ],
   "source": [
    "print(\"🎬 Movie Dataset:\")\n",
    "display(movies_df.head())\n",
    "\n",
    "print(\"\\n🎭 Genre Reference Table:\")\n",
    "display(genres_df.head())"
   ]
  },
  {
   "cell_type": "code",
   "execution_count": 4,
   "id": "b6dc01d3",
   "metadata": {
    "execution": {
     "iopub.execute_input": "2025-04-08T12:32:20.388777Z",
     "iopub.status.busy": "2025-04-08T12:32:20.388391Z",
     "iopub.status.idle": "2025-04-08T12:32:20.421983Z",
     "shell.execute_reply": "2025-04-08T12:32:20.420788Z"
    },
    "papermill": {
     "duration": 0.040675,
     "end_time": "2025-04-08T12:32:20.423520",
     "exception": false,
     "start_time": "2025-04-08T12:32:20.382845",
     "status": "completed"
    },
    "tags": []
   },
   "outputs": [
    {
     "name": "stdout",
     "output_type": "stream",
     "text": [
      "Info of Movies:\n",
      "<class 'pandas.core.frame.DataFrame'>\n",
      "RangeIndex: 9980 entries, 0 to 9979\n",
      "Data columns (total 3 columns):\n",
      " #   Column     Non-Null Count  Dtype \n",
      "---  ------     --------------  ----- \n",
      " 0   title      9980 non-null   object\n",
      " 1   overview   9980 non-null   object\n",
      " 2   genre_ids  9980 non-null   object\n",
      "dtypes: object(3)\n",
      "memory usage: 234.0+ KB\n",
      "\n",
      " Info of Genres: \n",
      "<class 'pandas.core.frame.DataFrame'>\n",
      "RangeIndex: 19 entries, 0 to 18\n",
      "Data columns (total 2 columns):\n",
      " #   Column  Non-Null Count  Dtype \n",
      "---  ------  --------------  ----- \n",
      " 0   id      19 non-null     int64 \n",
      " 1   name    19 non-null     object\n",
      "dtypes: int64(1), object(1)\n",
      "memory usage: 432.0+ bytes\n"
     ]
    }
   ],
   "source": [
    "print(\"Info of Movies:\")\n",
    "movies_df.info()\n",
    "\n",
    "print(\"\\n Info of Genres: \")\n",
    "genres_df.info()"
   ]
  },
  {
   "cell_type": "code",
   "execution_count": 5,
   "id": "a49bef95",
   "metadata": {
    "execution": {
     "iopub.execute_input": "2025-04-08T12:32:20.434973Z",
     "iopub.status.busy": "2025-04-08T12:32:20.434642Z",
     "iopub.status.idle": "2025-04-08T12:32:20.455170Z",
     "shell.execute_reply": "2025-04-08T12:32:20.454158Z"
    },
    "papermill": {
     "duration": 0.02789,
     "end_time": "2025-04-08T12:32:20.456697",
     "exception": false,
     "start_time": "2025-04-08T12:32:20.428807",
     "status": "completed"
    },
    "tags": []
   },
   "outputs": [
    {
     "data": {
      "text/plain": [
       "0"
      ]
     },
     "execution_count": 5,
     "metadata": {},
     "output_type": "execute_result"
    }
   ],
   "source": [
    "movies_df.duplicated().sum()\n",
    "\n",
    "genres_df.duplicated().sum()"
   ]
  },
  {
   "cell_type": "code",
   "execution_count": 6,
   "id": "2a682098",
   "metadata": {
    "execution": {
     "iopub.execute_input": "2025-04-08T12:32:20.468297Z",
     "iopub.status.busy": "2025-04-08T12:32:20.467967Z",
     "iopub.status.idle": "2025-04-08T12:32:20.577405Z",
     "shell.execute_reply": "2025-04-08T12:32:20.576392Z"
    },
    "papermill": {
     "duration": 0.117122,
     "end_time": "2025-04-08T12:32:20.579143",
     "exception": false,
     "start_time": "2025-04-08T12:32:20.462021",
     "status": "completed"
    },
    "tags": []
   },
   "outputs": [
    {
     "data": {
      "text/html": [
       "<div>\n",
       "<style scoped>\n",
       "    .dataframe tbody tr th:only-of-type {\n",
       "        vertical-align: middle;\n",
       "    }\n",
       "\n",
       "    .dataframe tbody tr th {\n",
       "        vertical-align: top;\n",
       "    }\n",
       "\n",
       "    .dataframe thead th {\n",
       "        text-align: right;\n",
       "    }\n",
       "</style>\n",
       "<table border=\"1\" class=\"dataframe\">\n",
       "  <thead>\n",
       "    <tr style=\"text-align: right;\">\n",
       "      <th></th>\n",
       "      <th>title</th>\n",
       "      <th>genre_ids</th>\n",
       "      <th>genre_names</th>\n",
       "    </tr>\n",
       "  </thead>\n",
       "  <tbody>\n",
       "    <tr>\n",
       "      <th>0</th>\n",
       "      <td>The Shawshank Redemption</td>\n",
       "      <td>[18, 80]</td>\n",
       "      <td>[Drama, Crime]</td>\n",
       "    </tr>\n",
       "    <tr>\n",
       "      <th>1</th>\n",
       "      <td>The Godfather</td>\n",
       "      <td>[18, 80]</td>\n",
       "      <td>[Drama, Crime]</td>\n",
       "    </tr>\n",
       "    <tr>\n",
       "      <th>2</th>\n",
       "      <td>The Godfather Part II</td>\n",
       "      <td>[18, 80]</td>\n",
       "      <td>[Drama, Crime]</td>\n",
       "    </tr>\n",
       "    <tr>\n",
       "      <th>3</th>\n",
       "      <td>Schindler's List</td>\n",
       "      <td>[18, 36, 10752]</td>\n",
       "      <td>[Drama, History, War]</td>\n",
       "    </tr>\n",
       "    <tr>\n",
       "      <th>4</th>\n",
       "      <td>12 Angry Men</td>\n",
       "      <td>[18]</td>\n",
       "      <td>[Drama]</td>\n",
       "    </tr>\n",
       "  </tbody>\n",
       "</table>\n",
       "</div>"
      ],
      "text/plain": [
       "                      title        genre_ids            genre_names\n",
       "0  The Shawshank Redemption         [18, 80]         [Drama, Crime]\n",
       "1             The Godfather         [18, 80]         [Drama, Crime]\n",
       "2     The Godfather Part II         [18, 80]         [Drama, Crime]\n",
       "3          Schindler's List  [18, 36, 10752]  [Drama, History, War]\n",
       "4              12 Angry Men             [18]                [Drama]"
      ]
     },
     "execution_count": 6,
     "metadata": {},
     "output_type": "execute_result"
    }
   ],
   "source": [
    "genre_map = dict(zip(genres_df['id'], genres_df['name']))\n",
    "\n",
    "def map_genres(genre_id_list):\n",
    "    return[genre_map.get(gid, 'Unknown') for gid in eval(genre_id_list)]\n",
    "\n",
    "movies_df['genre_names'] = movies_df['genre_ids'].apply(map_genres)\n",
    "\n",
    "movies_df[['title', 'genre_ids', 'genre_names']].head()"
   ]
  },
  {
   "cell_type": "code",
   "execution_count": 7,
   "id": "d6f874eb",
   "metadata": {
    "execution": {
     "iopub.execute_input": "2025-04-08T12:32:20.591205Z",
     "iopub.status.busy": "2025-04-08T12:32:20.590891Z",
     "iopub.status.idle": "2025-04-08T12:32:22.790268Z",
     "shell.execute_reply": "2025-04-08T12:32:22.789222Z"
    },
    "papermill": {
     "duration": 2.207232,
     "end_time": "2025-04-08T12:32:22.791961",
     "exception": false,
     "start_time": "2025-04-08T12:32:20.584729",
     "status": "completed"
    },
    "tags": []
   },
   "outputs": [
    {
     "data": {
      "image/png": "[encoded data removed]",
      "text/plain": [
       "<Figure size 1200x800 with 1 Axes>"
      ]
     },
     "metadata": {},
     "output_type": "display_data"
    }
   ],
   "source": [
    "from collections import Counter\n",
    "import matplotlib.pyplot as plt\n",
    "import seaborn as sns\n",
    "\n",
    "all_genres = [genre for sublist in movies_df['genre_names'] for genre in sublist]\n",
    "\n",
    "genre_counts = Counter(all_genres)\n",
    "\n",
    "genre_freq_df = pd.DataFrame(genre_counts.items(), columns=['Genre', 'Count']).sort_values(by='Count', ascending=False)\n",
    "\n",
    "plt.figure(figsize=(12,8))\n",
    "plt.barh(genre_freq_df['Genre'], genre_freq_df['Count'], color='skyblue')\n",
    "plt.gca().invert_yaxis()\n",
    "plt.title(\" Most Common Movies Genres\")\n",
    "plt.xlabel(\"Number of Movies\")\n",
    "plt.show()"
   ]
  },
  {
   "cell_type": "code",
   "execution_count": 8,
   "id": "1e00b10a",
   "metadata": {
    "execution": {
     "iopub.execute_input": "2025-04-08T12:32:22.806683Z",
     "iopub.status.busy": "2025-04-08T12:32:22.806113Z",
     "iopub.status.idle": "2025-04-08T12:32:24.149034Z",
     "shell.execute_reply": "2025-04-08T12:32:24.147949Z"
    },
    "papermill": {
     "duration": 1.35195,
     "end_time": "2025-04-08T12:32:24.150760",
     "exception": false,
     "start_time": "2025-04-08T12:32:22.798810",
     "status": "completed"
    },
    "tags": []
   },
   "outputs": [
    {
     "name": "stdout",
     "output_type": "stream",
     "text": [
      "[nltk_data] Downloading package stopwords to /usr/share/nltk_data...\n",
      "[nltk_data]   Unzipping corpora/stopwords.zip.\n"
     ]
    },
    {
     "data": {
      "text/html": [
       "<div>\n",
       "<style scoped>\n",
       "    .dataframe tbody tr th:only-of-type {\n",
       "        vertical-align: middle;\n",
       "    }\n",
       "\n",
       "    .dataframe tbody tr th {\n",
       "        vertical-align: top;\n",
       "    }\n",
       "\n",
       "    .dataframe thead th {\n",
       "        text-align: right;\n",
       "    }\n",
       "</style>\n",
       "<table border=\"1\" class=\"dataframe\">\n",
       "  <thead>\n",
       "    <tr style=\"text-align: right;\">\n",
       "      <th></th>\n",
       "      <th>title</th>\n",
       "      <th>overview</th>\n",
       "      <th>clean_overview</th>\n",
       "    </tr>\n",
       "  </thead>\n",
       "  <tbody>\n",
       "    <tr>\n",
       "      <th>0</th>\n",
       "      <td>The Shawshank Redemption</td>\n",
       "      <td>Imprisoned in the 1940s for the double murder ...</td>\n",
       "      <td>imprisoned1940sdoublemurderwifeloverupstanding...</td>\n",
       "    </tr>\n",
       "    <tr>\n",
       "      <th>1</th>\n",
       "      <td>The Godfather</td>\n",
       "      <td>Spanning the years 1945 to 1955, a chronicle o...</td>\n",
       "      <td>spanningyears19451955chroniclefictionalitalian...</td>\n",
       "    </tr>\n",
       "    <tr>\n",
       "      <th>2</th>\n",
       "      <td>The Godfather Part II</td>\n",
       "      <td>In the continuing saga of the Corleone crime f...</td>\n",
       "      <td>continuingsagacorleonecrimefamilyyoungvitocorl...</td>\n",
       "    </tr>\n",
       "    <tr>\n",
       "      <th>3</th>\n",
       "      <td>Schindler's List</td>\n",
       "      <td>The true story of how businessman Oskar Schind...</td>\n",
       "      <td>truestorybusinessmanoskarschindlersavedthousan...</td>\n",
       "    </tr>\n",
       "    <tr>\n",
       "      <th>4</th>\n",
       "      <td>12 Angry Men</td>\n",
       "      <td>The defense and the prosecution have rested an...</td>\n",
       "      <td>defenseprosecutionrestedjuryfilingjuryroomdeci...</td>\n",
       "    </tr>\n",
       "  </tbody>\n",
       "</table>\n",
       "</div>"
      ],
      "text/plain": [
       "                      title  \\\n",
       "0  The Shawshank Redemption   \n",
       "1             The Godfather   \n",
       "2     The Godfather Part II   \n",
       "3          Schindler's List   \n",
       "4              12 Angry Men   \n",
       "\n",
       "                                            overview  \\\n",
       "0  Imprisoned in the 1940s for the double murder ...   \n",
       "1  Spanning the years 1945 to 1955, a chronicle o...   \n",
       "2  In the continuing saga of the Corleone crime f...   \n",
       "3  The true story of how businessman Oskar Schind...   \n",
       "4  The defense and the prosecution have rested an...   \n",
       "\n",
       "                                      clean_overview  \n",
       "0  imprisoned1940sdoublemurderwifeloverupstanding...  \n",
       "1  spanningyears19451955chroniclefictionalitalian...  \n",
       "2  continuingsagacorleonecrimefamilyyoungvitocorl...  \n",
       "3  truestorybusinessmanoskarschindlersavedthousan...  \n",
       "4  defenseprosecutionrestedjuryfilingjuryroomdeci...  "
      ]
     },
     "execution_count": 8,
     "metadata": {},
     "output_type": "execute_result"
    }
   ],
   "source": [
    "import re\n",
    "import nltk\n",
    "from nltk.corpus import stopwords\n",
    "\n",
    "nltk.download(\"stopwords\")\n",
    "stop_words = set(stopwords.words('english'))\n",
    "\n",
    "def clean_text(text):\n",
    "    text = text.lower()\n",
    "    text = re.sub(r'[^\\w\\s]', '', text)\n",
    "    words = text.split()\n",
    "    words = [w for w in words if w not in stop_words]\n",
    "    return \"\".join(words)\n",
    "\n",
    "movies_df['clean_overview'] = movies_df['overview'].apply(clean_text)\n",
    "\n",
    "movies_df[['title', 'overview', 'clean_overview']].head()"
   ]
  },
  {
   "cell_type": "code",
   "execution_count": 9,
   "id": "078f2813",
   "metadata": {
    "execution": {
     "iopub.execute_input": "2025-04-08T12:32:24.165352Z",
     "iopub.status.busy": "2025-04-08T12:32:24.164999Z",
     "iopub.status.idle": "2025-04-08T12:32:24.188261Z",
     "shell.execute_reply": "2025-04-08T12:32:24.186942Z"
    },
    "papermill": {
     "duration": 0.03261,
     "end_time": "2025-04-08T12:32:24.189996",
     "exception": false,
     "start_time": "2025-04-08T12:32:24.157386",
     "status": "completed"
    },
    "tags": []
   },
   "outputs": [
    {
     "name": "stdout",
     "output_type": "stream",
     "text": [
      "y shape: (9980, 18)\n",
      "Genres: ['Action' 'Adventure' 'Animation' 'Comedy' 'Crime' 'Drama' 'Family'\n",
      " 'Fantasy' 'History' 'Horror' 'Music' 'Mystery' 'Romance'\n",
      " 'Science Fiction' 'TV Movie' 'Thriller' 'War' 'Western']\n"
     ]
    }
   ],
   "source": [
    "from sklearn.preprocessing import MultiLabelBinarizer\n",
    "\n",
    "mlb = MultiLabelBinarizer()\n",
    "y = mlb.fit_transform(movies_df['genre_names'])\n",
    "genre_classes = mlb.classes_\n",
    "\n",
    "\n",
    "print(f'y shape: {y.shape}')\n",
    "print(f'Genres: {genre_classes}')\n"
   ]
  },
  {
   "cell_type": "code",
   "execution_count": 10,
   "id": "96df0468",
   "metadata": {
    "execution": {
     "iopub.execute_input": "2025-04-08T12:32:24.206217Z",
     "iopub.status.busy": "2025-04-08T12:32:24.205872Z",
     "iopub.status.idle": "2025-04-08T12:32:24.300532Z",
     "shell.execute_reply": "2025-04-08T12:32:24.299419Z"
    },
    "papermill": {
     "duration": 0.105221,
     "end_time": "2025-04-08T12:32:24.302351",
     "exception": false,
     "start_time": "2025-04-08T12:32:24.197130",
     "status": "completed"
    },
    "tags": []
   },
   "outputs": [
    {
     "name": "stdout",
     "output_type": "stream",
     "text": [
      "X shape (TF-IDF): (9980, 5000)\n"
     ]
    }
   ],
   "source": [
    "from sklearn.feature_extraction.text import TfidfVectorizer\n",
    "\n",
    "\n",
    "tfidf = TfidfVectorizer(max_features=5000, ngram_range=(1, 2))\n",
    "\n",
    "\n",
    "X = tfidf.fit_transform(movies_df['clean_overview'])\n",
    "\n",
    "print(f\"X shape (TF-IDF): {X.shape}\")\n"
   ]
  },
  {
   "cell_type": "code",
   "execution_count": 11,
   "id": "356fce71",
   "metadata": {
    "execution": {
     "iopub.execute_input": "2025-04-08T12:32:24.317481Z",
     "iopub.status.busy": "2025-04-08T12:32:24.317119Z",
     "iopub.status.idle": "2025-04-08T12:32:24.935781Z",
     "shell.execute_reply": "2025-04-08T12:32:24.934564Z"
    },
    "papermill": {
     "duration": 0.629372,
     "end_time": "2025-04-08T12:32:24.938764",
     "exception": false,
     "start_time": "2025-04-08T12:32:24.309392",
     "status": "completed"
    },
    "tags": []
   },
   "outputs": [
    {
     "name": "stdout",
     "output_type": "stream",
     "text": [
      "📊 Classification Report (per genre):\n",
      "                 precision    recall  f1-score   support\n",
      "\n",
      "         Action       0.00      0.00      0.00       476\n",
      "      Adventure       0.00      0.00      0.00       326\n",
      "      Animation       0.00      0.00      0.00       191\n",
      "         Comedy       0.00      0.00      0.00       721\n",
      "          Crime       0.00      0.00      0.00       333\n",
      "          Drama       1.00      0.00      0.00       905\n",
      "         Family       0.00      0.00      0.00       233\n",
      "        Fantasy       0.00      0.00      0.00       228\n",
      "        History       0.00      0.00      0.00        86\n",
      "         Horror       0.00      0.00      0.00       297\n",
      "          Music       0.00      0.00      0.00        55\n",
      "        Mystery       0.00      0.00      0.00       200\n",
      "        Romance       0.00      0.00      0.00       360\n",
      "Science Fiction       0.00      0.00      0.00       248\n",
      "       TV Movie       0.00      0.00      0.00        29\n",
      "       Thriller       0.00      0.00      0.00       563\n",
      "            War       0.00      0.00      0.00        53\n",
      "        Western       0.00      0.00      0.00        33\n",
      "\n",
      "      micro avg       1.00      0.00      0.00      5337\n",
      "      macro avg       0.06      0.00      0.00      5337\n",
      "   weighted avg       0.17      0.00      0.00      5337\n",
      "    samples avg       0.00      0.00      0.00      5337\n",
      "\n"
     ]
    },
    {
     "name": "stderr",
     "output_type": "stream",
     "text": [
      "/usr/local/lib/python3.10/dist-packages/sklearn/metrics/_classification.py:1344: UndefinedMetricWarning: Precision and F-score are ill-defined and being set to 0.0 in labels with no predicted samples. Use `zero_division` parameter to control this behavior.\n",
      "  _warn_prf(average, modifier, msg_start, len(result))\n",
      "/usr/local/lib/python3.10/dist-packages/sklearn/metrics/_classification.py:1344: UndefinedMetricWarning: Precision and F-score are ill-defined and being set to 0.0 in samples with no predicted labels. Use `zero_division` parameter to control this behavior.\n",
      "  _warn_prf(average, modifier, msg_start, len(result))\n"
     ]
    }
   ],
   "source": [
    "from sklearn.linear_model import LogisticRegression\n",
    "from sklearn.multiclass import OneVsRestClassifier\n",
    "from sklearn.model_selection import train_test_split\n",
    "from sklearn.metrics import classification_report, accuracy_score\n",
    "\n",
    "\n",
    "X_train, X_test, y_train, y_test = train_test_split(X, y, test_size=0.2, random_state=42)\n",
    "\n",
    "\n",
    "model = OneVsRestClassifier(LogisticRegression(max_iter=200))\n",
    "\n",
    "\n",
    "model.fit(X_train, y_train)\n",
    "\n",
    "\n",
    "y_pred = model.predict(X_test)\n",
    "\n",
    "\n",
    "print(\"📊 Classification Report (per genre):\")\n",
    "print(classification_report(y_test, y_pred, target_names=genre_classes))\n"
   ]
  },
  {
   "cell_type": "code",
   "execution_count": 12,
   "id": "04672fba",
   "metadata": {
    "execution": {
     "iopub.execute_input": "2025-04-08T12:32:24.955788Z",
     "iopub.status.busy": "2025-04-08T12:32:24.955365Z",
     "iopub.status.idle": "2025-04-08T12:32:24.959841Z",
     "shell.execute_reply": "2025-04-08T12:32:24.958765Z"
    },
    "papermill": {
     "duration": 0.014143,
     "end_time": "2025-04-08T12:32:24.961593",
     "exception": false,
     "start_time": "2025-04-08T12:32:24.947450",
     "status": "completed"
    },
    "tags": []
   },
   "outputs": [],
   "source": [
    "model0 = OneVsRestClassifier(LogisticRegression(max_iter=300, class_weight='balanced'))\n"
   ]
  },
  {
   "cell_type": "code",
   "execution_count": 13,
   "id": "cd16ad2b",
   "metadata": {
    "execution": {
     "iopub.execute_input": "2025-04-08T12:32:24.976670Z",
     "iopub.status.busy": "2025-04-08T12:32:24.976271Z",
     "iopub.status.idle": "2025-04-08T12:32:25.276009Z",
     "shell.execute_reply": "2025-04-08T12:32:25.275051Z"
    },
    "papermill": {
     "duration": 0.309086,
     "end_time": "2025-04-08T12:32:25.277790",
     "exception": false,
     "start_time": "2025-04-08T12:32:24.968704",
     "status": "completed"
    },
    "tags": []
   },
   "outputs": [],
   "source": [
    "from sklearn.ensemble import RandomForestClassifier\n",
    "model1 = OneVsRestClassifier(RandomForestClassifier(n_estimators=100, class_weight='balanced'))\n"
   ]
  },
  {
   "cell_type": "code",
   "execution_count": 14,
   "id": "e89a9c71",
   "metadata": {
    "execution": {
     "iopub.execute_input": "2025-04-08T12:32:25.292717Z",
     "iopub.status.busy": "2025-04-08T12:32:25.292353Z",
     "iopub.status.idle": "2025-04-08T12:32:25.304468Z",
     "shell.execute_reply": "2025-04-08T12:32:25.303691Z"
    },
    "papermill": {
     "duration": 0.021334,
     "end_time": "2025-04-08T12:32:25.306069",
     "exception": false,
     "start_time": "2025-04-08T12:32:25.284735",
     "status": "completed"
    },
    "tags": []
   },
   "outputs": [],
   "source": [
    "from sklearn.naive_bayes import MultinomialNB\n",
    "model2 = OneVsRestClassifier(MultinomialNB())\n"
   ]
  },
  {
   "cell_type": "code",
   "execution_count": 15,
   "id": "abbaf39b",
   "metadata": {
    "execution": {
     "iopub.execute_input": "2025-04-08T12:32:25.321355Z",
     "iopub.status.busy": "2025-04-08T12:32:25.321031Z",
     "iopub.status.idle": "2025-04-08T12:32:25.336594Z",
     "shell.execute_reply": "2025-04-08T12:32:25.335342Z"
    },
    "papermill": {
     "duration": 0.025216,
     "end_time": "2025-04-08T12:32:25.338397",
     "exception": false,
     "start_time": "2025-04-08T12:32:25.313181",
     "status": "completed"
    },
    "tags": []
   },
   "outputs": [
    {
     "name": "stdout",
     "output_type": "stream",
     "text": [
      "🔎 Hamming Loss: 0.14851926074370964\n",
      "🎯 Micro F1 Score: 0.0003746721618583739\n"
     ]
    }
   ],
   "source": [
    "from sklearn.metrics import hamming_loss, f1_score\n",
    "\n",
    "print(\"🔎 Hamming Loss:\", hamming_loss(y_test, y_pred))\n",
    "print(\"🎯 Micro F1 Score:\", f1_score(y_test, y_pred, average='micro'))\n"
   ]
  },
  {
   "cell_type": "code",
   "execution_count": 16,
   "id": "75dabdce",
   "metadata": {
    "execution": {
     "iopub.execute_input": "2025-04-08T12:32:25.353715Z",
     "iopub.status.busy": "2025-04-08T12:32:25.353316Z",
     "iopub.status.idle": "2025-04-08T12:38:32.000564Z",
     "shell.execute_reply": "2025-04-08T12:38:31.999403Z"
    },
    "papermill": {
     "duration": 366.664666,
     "end_time": "2025-04-08T12:38:32.010192",
     "exception": false,
     "start_time": "2025-04-08T12:32:25.345526",
     "status": "completed"
    },
    "tags": []
   },
   "outputs": [
    {
     "name": "stdout",
     "output_type": "stream",
     "text": [
      "📘 Logistic Regression Results:\n",
      "                 precision    recall  f1-score   support\n",
      "\n",
      "         Action       0.00      0.00      0.00       476\n",
      "      Adventure       0.00      0.00      0.00       326\n",
      "      Animation       0.00      0.00      0.00       191\n",
      "         Comedy       0.00      0.00      0.00       721\n",
      "          Crime       1.00      0.00      0.01       333\n",
      "          Drama       1.00      0.00      0.00       905\n",
      "         Family       0.00      0.00      0.00       233\n",
      "        Fantasy       0.00      0.00      0.00       228\n",
      "        History       0.00      0.00      0.00        86\n",
      "         Horror       0.00      0.00      0.00       297\n",
      "          Music       0.00      0.00      0.00        55\n",
      "        Mystery       0.00      0.00      0.00       200\n",
      "        Romance       1.00      0.01      0.01       360\n",
      "Science Fiction       0.00      0.00      0.00       248\n",
      "       TV Movie       0.00      0.00      0.00        29\n",
      "       Thriller       0.00      0.00      0.00       563\n",
      "            War       0.00      0.00      0.00        53\n",
      "        Western       0.00      0.00      0.00        33\n",
      "\n",
      "      micro avg       0.80      0.00      0.00      5337\n",
      "      macro avg       0.17      0.00      0.00      5337\n",
      "   weighted avg       0.30      0.00      0.00      5337\n",
      "    samples avg       0.00      0.00      0.00      5337\n",
      "\n",
      "🌲 Random Forest Results:\n"
     ]
    },
    {
     "name": "stderr",
     "output_type": "stream",
     "text": [
      "/usr/local/lib/python3.10/dist-packages/sklearn/metrics/_classification.py:1344: UndefinedMetricWarning: Precision and F-score are ill-defined and being set to 0.0 in labels with no predicted samples. Use `zero_division` parameter to control this behavior.\n",
      "  _warn_prf(average, modifier, msg_start, len(result))\n",
      "/usr/local/lib/python3.10/dist-packages/sklearn/metrics/_classification.py:1344: UndefinedMetricWarning: Precision and F-score are ill-defined and being set to 0.0 in samples with no predicted labels. Use `zero_division` parameter to control this behavior.\n",
      "  _warn_prf(average, modifier, msg_start, len(result))\n"
     ]
    },
    {
     "name": "stdout",
     "output_type": "stream",
     "text": [
      "                 precision    recall  f1-score   support\n",
      "\n",
      "         Action       0.24      1.00      0.39       476\n",
      "      Adventure       0.16      1.00      0.28       326\n",
      "      Animation       0.00      0.00      0.00       191\n",
      "         Comedy       0.00      0.00      0.00       721\n",
      "          Crime       0.17      1.00      0.29       333\n",
      "          Drama       1.00      0.00      0.00       905\n",
      "         Family       0.00      0.00      0.00       233\n",
      "        Fantasy       0.00      0.00      0.00       228\n",
      "        History       0.04      1.00      0.08        86\n",
      "         Horror       0.15      1.00      0.26       297\n",
      "          Music       0.00      0.00      0.00        55\n",
      "        Mystery       0.00      0.00      0.00       200\n",
      "        Romance       1.00      0.01      0.01       360\n",
      "Science Fiction       0.00      0.00      0.00       248\n",
      "       TV Movie       0.00      0.00      0.00        29\n",
      "       Thriller       0.28      1.00      0.44       563\n",
      "            War       0.03      1.00      0.05        53\n",
      "        Western       0.02      1.00      0.03        33\n",
      "\n",
      "      micro avg       0.14      0.41      0.20      5337\n",
      "      macro avg       0.17      0.44      0.10      5337\n",
      "   weighted avg       0.32      0.41      0.13      5337\n",
      "    samples avg       0.14      0.38      0.20      5337\n",
      "\n",
      "🧠 Naive Bayes Results:\n",
      "                 precision    recall  f1-score   support\n",
      "\n",
      "         Action       0.00      0.00      0.00       476\n",
      "      Adventure       0.00      0.00      0.00       326\n",
      "      Animation       0.00      0.00      0.00       191\n",
      "         Comedy       0.00      0.00      0.00       721\n",
      "          Crime       0.00      0.00      0.00       333\n",
      "          Drama       1.00      0.00      0.00       905\n",
      "         Family       0.00      0.00      0.00       233\n",
      "        Fantasy       0.00      0.00      0.00       228\n",
      "        History       0.00      0.00      0.00        86\n",
      "         Horror       0.00      0.00      0.00       297\n",
      "          Music       0.00      0.00      0.00        55\n",
      "        Mystery       0.00      0.00      0.00       200\n",
      "        Romance       0.00      0.00      0.00       360\n",
      "Science Fiction       0.00      0.00      0.00       248\n",
      "       TV Movie       0.00      0.00      0.00        29\n",
      "       Thriller       0.00      0.00      0.00       563\n",
      "            War       0.00      0.00      0.00        53\n",
      "        Western       0.00      0.00      0.00        33\n",
      "\n",
      "      micro avg       0.50      0.00      0.00      5337\n",
      "      macro avg       0.06      0.00      0.00      5337\n",
      "   weighted avg       0.17      0.00      0.00      5337\n",
      "    samples avg       0.00      0.00      0.00      5337\n",
      "\n"
     ]
    },
    {
     "name": "stderr",
     "output_type": "stream",
     "text": [
      "/usr/local/lib/python3.10/dist-packages/sklearn/metrics/_classification.py:1344: UndefinedMetricWarning: Precision and F-score are ill-defined and being set to 0.0 in labels with no predicted samples. Use `zero_division` parameter to control this behavior.\n",
      "  _warn_prf(average, modifier, msg_start, len(result))\n",
      "/usr/local/lib/python3.10/dist-packages/sklearn/metrics/_classification.py:1344: UndefinedMetricWarning: Precision and F-score are ill-defined and being set to 0.0 in labels with no predicted samples. Use `zero_division` parameter to control this behavior.\n",
      "  _warn_prf(average, modifier, msg_start, len(result))\n",
      "/usr/local/lib/python3.10/dist-packages/sklearn/metrics/_classification.py:1344: UndefinedMetricWarning: Precision and F-score are ill-defined and being set to 0.0 in samples with no predicted labels. Use `zero_division` parameter to control this behavior.\n",
      "  _warn_prf(average, modifier, msg_start, len(result))\n"
     ]
    }
   ],
   "source": [
    "# Train all models first\n",
    "model0.fit(X_train, y_train)   # Logistic Regression\n",
    "model1.fit(X_train, y_train)   # Random Forest\n",
    "model2.fit(X_train, y_train)   # Naive Bayes\n",
    "\n",
    "# Predict and evaluate each model\n",
    "from sklearn.metrics import classification_report\n",
    "\n",
    "print(\"📘 Logistic Regression Results:\")\n",
    "y_pred_logreg = model0.predict(X_test)\n",
    "print(classification_report(y_test, y_pred_logreg, target_names=genre_classes))\n",
    "\n",
    "print(\"🌲 Random Forest Results:\")\n",
    "y_pred_rf = model1.predict(X_test)\n",
    "print(classification_report(y_test, y_pred_rf, target_names=genre_classes))\n",
    "\n",
    "print(\"🧠 Naive Bayes Results:\")\n",
    "y_pred_nb = model2.predict(X_test)\n",
    "print(classification_report(y_test, y_pred_nb, target_names=genre_classes))\n"
   ]
  },
  {
   "cell_type": "code",
   "execution_count": 17,
   "id": "f65f4a7b",
   "metadata": {
    "execution": {
     "iopub.execute_input": "2025-04-08T12:38:32.029976Z",
     "iopub.status.busy": "2025-04-08T12:38:32.029554Z",
     "iopub.status.idle": "2025-04-08T12:38:32.310337Z",
     "shell.execute_reply": "2025-04-08T12:38:32.309170Z"
    },
    "papermill": {
     "duration": 0.290782,
     "end_time": "2025-04-08T12:38:32.312046",
     "exception": false,
     "start_time": "2025-04-08T12:38:32.021264",
     "status": "completed"
    },
    "tags": []
   },
   "outputs": [
    {
     "name": "stderr",
     "output_type": "stream",
     "text": [
      "/usr/local/lib/python3.10/dist-packages/IPython/core/pylabtools.py:151: UserWarning: Glyph 127917 (\\N{PERFORMING ARTS}) missing from current font.\n",
      "  fig.canvas.print_figure(bytes_io, **kw)\n"
     ]
    },
    {
     "data": {
      "image/png": "[encoded data removed]",
      "text/plain": [
       "<Figure size 1000x600 with 1 Axes>"
      ]
     },
     "metadata": {},
     "output_type": "display_data"
    }
   ],
   "source": [
    "\n",
    "# Count individual label frequencies\n",
    "all_labels = [g for sublist in movies_df['genre_names'] for g in sublist]\n",
    "genre_freq = Counter(all_labels)\n",
    "\n",
    "# Plot\n",
    "plt.figure(figsize=(10, 6))\n",
    "plt.bar(genre_freq.keys(), genre_freq.values(), color=\"lightcoral\")\n",
    "plt.title(\"🎭 Genre Frequency Distribution\")\n",
    "plt.ylabel(\"Number of Movies\")\n",
    "plt.xticks(rotation=45)\n",
    "plt.show()\n"
   ]
  },
  {
   "cell_type": "code",
   "execution_count": 18,
   "id": "41a27c06",
   "metadata": {
    "execution": {
     "iopub.execute_input": "2025-04-08T12:38:32.332063Z",
     "iopub.status.busy": "2025-04-08T12:38:32.331709Z",
     "iopub.status.idle": "2025-04-08T12:39:05.845207Z",
     "shell.execute_reply": "2025-04-08T12:39:05.844097Z"
    },
    "papermill": {
     "duration": 33.534903,
     "end_time": "2025-04-08T12:39:05.856014",
     "exception": false,
     "start_time": "2025-04-08T12:38:32.321111",
     "status": "completed"
    },
    "tags": []
   },
   "outputs": [
    {
     "name": "stdout",
     "output_type": "stream",
     "text": [
      "🔧 Thresholded Predictions @ 0.3:\n",
      "                 precision    recall  f1-score   support\n",
      "\n",
      "         Action       0.24      1.00      0.39       476\n",
      "      Adventure       0.16      1.00      0.28       326\n",
      "      Animation       0.10      1.00      0.17       191\n",
      "         Comedy       0.36      1.00      0.53       721\n",
      "          Crime       0.17      1.00      0.29       333\n",
      "          Drama       0.45      1.00      0.62       905\n",
      "         Family       0.12      1.00      0.21       233\n",
      "        Fantasy       0.11      1.00      0.21       228\n",
      "        History       0.04      1.00      0.08        86\n",
      "         Horror       0.15      1.00      0.26       297\n",
      "          Music       0.03      1.00      0.05        55\n",
      "        Mystery       0.10      1.00      0.18       200\n",
      "        Romance       0.18      1.00      0.31       360\n",
      "Science Fiction       0.12      1.00      0.22       248\n",
      "       TV Movie       0.01      1.00      0.03        29\n",
      "       Thriller       0.28      1.00      0.44       563\n",
      "            War       0.03      1.00      0.05        53\n",
      "        Western       0.02      1.00      0.03        33\n",
      "\n",
      "      micro avg       0.15      1.00      0.26      5337\n",
      "      macro avg       0.15      1.00      0.24      5337\n",
      "   weighted avg       0.24      1.00      0.37      5337\n",
      "    samples avg       0.15      1.00      0.25      5337\n",
      "\n",
      "🔍 Hamming Loss: 0.850645735916277\n",
      "🎯 Micro F1 Score: 0.25881554057331324\n"
     ]
    }
   ],
   "source": [
    "\n",
    "y_probs = model1.predict_proba(X_test)\n",
    "\n",
    "\n",
    "threshold = 0.3  # Lower threshold to include more genres\n",
    "y_pred_thresh = (y_probs >= threshold).astype(int)\n",
    "\n",
    "\n",
    "from sklearn.metrics import classification_report, hamming_loss, f1_score\n",
    "\n",
    "print(\"🔧 Thresholded Predictions @ 0.3:\")\n",
    "print(classification_report(y_test, y_pred_thresh, target_names=genre_classes))\n",
    "print(\"🔍 Hamming Loss:\", hamming_loss(y_test, y_pred_thresh))\n",
    "print(\"🎯 Micro F1 Score:\", f1_score(y_test, y_pred_thresh, average='micro'))\n"
   ]
  },
  {
   "cell_type": "code",
   "execution_count": 19,
   "id": "4c0f8847",
   "metadata": {
    "execution": {
     "iopub.execute_input": "2025-04-08T12:39:05.875361Z",
     "iopub.status.busy": "2025-04-08T12:39:05.875013Z",
     "iopub.status.idle": "2025-04-08T12:39:07.781166Z",
     "shell.execute_reply": "2025-04-08T12:39:07.780038Z"
    },
    "papermill": {
     "duration": 1.917286,
     "end_time": "2025-04-08T12:39:07.782811",
     "exception": false,
     "start_time": "2025-04-08T12:39:05.865525",
     "status": "completed"
    },
    "tags": []
   },
   "outputs": [
    {
     "data": {
      "text/plain": [
       "['label_binarizer.pkl']"
      ]
     },
     "execution_count": 19,
     "metadata": {},
     "output_type": "execute_result"
    }
   ],
   "source": [
    "import joblib\n",
    "\n",
    "joblib.dump(model1, \"genre_classifier.pkl\")\n",
    "joblib.dump(tfidf, \"tfidf_vectorizer.pkl\")\n",
    "joblib.dump(mlb, \"label_binarizer.pkl\")\n"
   ]
  },
  {
   "cell_type": "code",
   "execution_count": null,
   "id": "858c942d",
   "metadata": {
    "papermill": {
     "duration": 0.0084,
     "end_time": "2025-04-08T12:39:07.800085",
     "exception": false,
     "start_time": "2025-04-08T12:39:07.791685",
     "status": "completed"
    },
    "tags": []
   },
   "outputs": [],
   "source": []
  }
 ],
 "metadata": {
  "kaggle": {
   "accelerator": "none",
   "dataSources": [
    {
     "datasetId": 6969184,
     "sourceId": 11167830,
     "sourceType": "datasetVersion"
    }
   ],
   "dockerImageVersionId": 30918,
   "isGpuEnabled": false,
   "isInternetEnabled": true,
   "language": "python",
   "sourceType": "notebook"
  },
  "kernelspec": {
   "display_name": "Python 3",
   "language": "python",
   "name": "python3"
  },
  "language_info": {
   "codemirror_mode": {
    "name": "ipython",
    "version": 3
   },
   "file_extension": ".py",
   "mimetype": "text/x-python",
   "name": "python",
   "nbconvert_exporter": "python",
   "pygments_lexer": "ipython3",
   "version": "3.10.12"
  },
  "papermill": {
   "default_parameters": {},
   "duration": 412.32632,
   "end_time": "2025-04-08T12:39:08.732076",
   "environment_variables": {},
   "exception": null,
   "input_path": "__notebook__.ipynb",
   "output_path": "__notebook__.ipynb",
   "parameters": {},
   "start_time": "2025-04-08T12:32:16.405756",
   "version": "2.6.0"
  }
 },
 "nbformat": 4,
 "nbformat_minor": 5
}
